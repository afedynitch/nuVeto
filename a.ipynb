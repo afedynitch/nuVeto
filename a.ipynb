{
 "cells": [
  {
   "cell_type": "code",
   "execution_count": 5,
   "metadata": {
    "collapsed": true
   },
   "outputs": [],
   "source": [
    "%matplotlib inline\n",
    "import matplotlib.pyplot as plt\n",
    "from matplotlib import rc, rcParams\n",
    "import correlated_selfveto as cs\n",
    "import utils\n",
    "import numpy as np\n",
    "import tqdm\n",
    "import scipy.integrate as integrate\n",
    "from external import elbert,selfveto\n",
    "\n",
    "rc('text',usetex=True)\n",
    "rc('font',**{'family':'serif','serif':['Computer Modern'], 'size' : 18})\n",
    "cols = ['#29A2C6','#FF6D31','#FFCB18','#73B66B','#EF597B', '#333333']\n",
    "\n",
    "font = {'family' : 'serif',\n",
    "        'weight' : 'bold',\n",
    "        'size'   : 18}"
   ]
  },
  {
   "cell_type": "code",
   "execution_count": 6,
   "metadata": {
    "scrolled": true
   },
   "outputs": [
    {
     "name": "stdout",
     "output_type": "stream",
     "text": [
      "InteractionYields::_load(): Looking for /Users/carguelles/Library/Python/2.7/lib/python/site-packages/data/SIBYLL23C_yields_compact_ledpm.bz2\n",
      "DecayYields:_load():: Loading file /Users/carguelles/Library/Python/2.7/lib/python/site-packages/data/decays_v1_compact.ppd\n",
      "\n",
      "Hadrons and stable particles:\n",
      "\n",
      "\"gamma\", \"p\", \"p-bar\", \"n-bar\", \"n\"\n",
      "\n",
      "Mixed:\n",
      "\n",
      "\"pi-\", \"pi+\", \"K0L\", \"K-\", \"K+\", \"Lambda0\", \"Lambda0-bar\", \"K0S\", \n",
      "\"D+\", \"D-\", \"Ds+\", \"Ds-\", \"D0\", \"D0-bar\"\n",
      "\n",
      "Resonances:\n",
      "\n",
      "\n",
      "\n",
      "Leptons:\n",
      "\n",
      "\"e-\", \"nue\", \"numu\", \"nutau\", \"antinutau\", \"antinumu\", \"antinue\", \"e+\", \n",
      "\"mu-\", \"mu+\"\n",
      "\n",
      "Aliases:\n",
      "\"obs_numu\", \"obs_nutau\", \"pr_antinutau\", \"pr_antinumu\", \"pr_antinue\", \"obs_antinue\", \"k_nue\", \"k_numu\", \n",
      "\"k_nutau\", \"pi_antinutau\", \"pi_antinue\", \"pi_antinumu\", \"pi_nue\", \"pi_numu\", \"pi_nutau\", \"k_antinutau\", \n",
      "\"k_antinumu\", \"k_antinue\", \"obs_nue\", \"pr_nue\", \"pr_numu\", \"pr_nutau\", \"obs_antinutau\", \"obs_antinumu\", \n",
      "\"k_mu-\", \"obs_mu-\", \"pr_mu+\", \"pi_mu+\", \"pi_mu-\", \"k_mu+\", \"pr_mu-\", \"obs_mu+\"\n",
      "\n",
      "Total number of species: 61\n",
      "MCEqRun::set_interaction_model():  SIBYLL23C\n",
      "InteractionYields:set_interaction_model():: Model SIBYLL23C already loaded.\n",
      "InteractionYields:set_interaction_model():: Model SIBYLL23C already loaded.\n",
      "MCEqRun::_init_default_matrices():Start filling matrices. Skip_D_matrix = False\n",
      "MCEqRun::_convert_to_sparse():Converting to sparse (CSR) matrix format.\n",
      "C Matrix info:\n",
      "    density    : 3.42%\n",
      "    shape      : 5368 x 5368\n",
      "    nnz        : 984591\n",
      "D Matrix info:\n",
      "    density    : 1.11%\n",
      "    shape      : 5368 x 5368\n",
      "    nnz        : 318463\n",
      "MCEqRun::_init_default_matrices():Done filling matrices.\n",
      "MCEqRun::set_density_model():  CORSIKA ('BK_USStd', None)\n",
      "MCEqRun::set_theta_deg():  0.0\n",
      "CorsikaAtmosphere::calculate_density_spline(): Calculating spline of rho(X) for zenith 0.0 degrees.\n",
      ".. took 0.06s\n",
      "MCEqRun::set_primary_model():  HillasGaisser2012 H3a\n",
      "MCEqRun::_calculate_integration_path(): X_surface = 1033.80949621\n",
      "MCEqRun::_forward_euler(): Solver will perform 638 integration steps.\n",
      "Performance:   0.87ms/iteration\n",
      "\n",
      "MCEqRun::_forward_euler(): time elapsed during integration: 0.557500123978 sec\n"
     ]
    }
   ],
   "source": [
    "units=cs.Units()\n",
    "caca=cs.CorrelatedSelfVetoProbabilityCalculator(1)"
   ]
  },
  {
   "cell_type": "code",
   "execution_count": 7,
   "metadata": {},
   "outputs": [
    {
     "data": {
      "text/plain": [
       "1000"
      ]
     },
     "execution_count": 7,
     "metadata": {},
     "output_type": "execute_result"
    }
   ],
   "source": [
    "len(caca.Xvec)"
   ]
  },
  {
   "cell_type": "code",
   "execution_count": 15,
   "metadata": {},
   "outputs": [
    {
     "data": {
      "text/plain": [
       "array([[ 1.,  1.,  1., ...,  0.,  0.,  0.],\n",
       "       [ 1.,  1.,  1., ...,  0.,  0.,  0.],\n",
       "       [ 1.,  1.,  1., ...,  0.,  0.,  0.],\n",
       "       ..., \n",
       "       [ 1.,  1.,  1., ...,  1.,  0.,  0.],\n",
       "       [ 1.,  1.,  1., ...,  1.,  1.,  0.],\n",
       "       [ 1.,  1.,  1., ...,  1.,  1.,  1.]])"
      ]
     },
     "execution_count": 15,
     "metadata": {},
     "output_type": "execute_result"
    }
   ],
   "source": [
    "GetReachingMatrix(1.)"
   ]
  },
  {
   "cell_type": "code",
   "execution_count": 39,
   "metadata": {},
   "outputs": [
    {
     "data": {
      "text/plain": [
       "array([[ 0.,  0.,  0., ...,  0.,  0.,  0.],\n",
       "       [ 1.,  0.,  0., ...,  0.,  0.,  0.],\n",
       "       [ 1.,  1.,  0., ...,  0.,  0.,  0.],\n",
       "       ..., \n",
       "       [ 0.,  0.,  0., ...,  0.,  0.,  0.],\n",
       "       [ 0.,  0.,  0., ...,  0.,  0.,  0.],\n",
       "       [ 0.,  0.,  0., ...,  0.,  0.,  0.]])"
      ]
     },
     "execution_count": 39,
     "metadata": {},
     "output_type": "execute_result"
    }
   ],
   "source": [
    "np.transpose(RM)"
   ]
  },
  {
   "cell_type": "code",
   "execution_count": 62,
   "metadata": {},
   "outputs": [
    {
     "name": "stderr",
     "output_type": "stream",
     "text": [
      "/Users/carguelles/Library/Python/2.7/lib/python/site-packages/scipy/integrate/quadpack.py:364: IntegrationWarning: The occurrence of roundoff error is detected, which prevents \n",
      "  the requested tolerance from being achieved.  The error may be \n",
      "  underestimated.\n",
      "  warnings.warn(msg, IntegrationWarning)\n",
      "/Users/carguelles/Library/Python/2.7/lib/python/site-packages/scipy/integrate/quadpack.py:364: IntegrationWarning: The maximum number of subdivisions (50) has been achieved.\n",
      "  If increasing the limit yields no improvement it is advised to analyze \n",
      "  the integrand in order to determine the difficulties.  If the position of a \n",
      "  local difficulty can be determined (singularity, discontinuity) one will \n",
      "  probably gain from splitting up the interval and calling the integrator \n",
      "  on the subranges.  Perhaps a special-purpose integrator should be used.\n",
      "  warnings.warn(msg, IntegrationWarning)\n",
      "/Users/carguelles/Library/Python/2.7/lib/python/site-packages/scipy/integrate/quadpack.py:364: IntegrationWarning: The algorithm does not converge.  Roundoff error is detected\n",
      "  in the extrapolation table.  It is assumed that the requested tolerance\n",
      "  cannot be achieved, and that the returned result (if full_output = 1) is \n",
      "  the best which can be obtained.\n",
      "  warnings.warn(msg, IntegrationWarning)\n",
      "/Users/carguelles/Library/Python/2.7/lib/python/site-packages/scipy/integrate/quadpack.py:364: IntegrationWarning: Extremely bad integrand behavior occurs at some points of the\n",
      "  integration interval.\n",
      "  warnings.warn(msg, IntegrationWarning)\n"
     ]
    },
    {
     "data": {
      "text/plain": [
       "array([[  5.00002382e-01,   1.00000000e+00,   1.00000000e+00, ...,\n",
       "          5.07981087e-01,   3.43882265e-01,   1.25052873e-01],\n",
       "       [  0.00000000e+00,   1.00000000e+00,   1.00000000e+00, ...,\n",
       "         -2.22044605e-16,  -2.22044605e-16,   0.00000000e+00],\n",
       "       [  0.00000000e+00,   1.00000000e+00,   1.00000000e+00, ...,\n",
       "         -2.22044605e-16,  -2.22044605e-16,   0.00000000e+00],\n",
       "       ..., \n",
       "       [  4.92018939e-01,   1.00000000e+00,   1.00000000e+00, ...,\n",
       "          5.00000000e-01,  -2.22044605e-16,   0.00000000e+00],\n",
       "       [  6.56107614e-01,   1.00000000e+00,   1.00000000e+00, ...,\n",
       "          1.00000000e+00,   5.00000000e-01,   0.00000000e+00],\n",
       "       [  8.74957755e-01,   1.00000000e+00,   1.00000000e+00, ...,\n",
       "          1.00000000e+00,   1.00000000e+00,   5.00000000e-01]])"
      ]
     },
     "execution_count": 62,
     "metadata": {},
     "output_type": "execute_result"
    }
   ],
   "source": [
    "GetReachingMatrix(1.)"
   ]
  },
  {
   "cell_type": "code",
   "execution_count": null,
   "metadata": {
    "collapsed": true
   },
   "outputs": [],
   "source": []
  },
  {
   "cell_type": "code",
   "execution_count": 60,
   "metadata": {},
   "outputs": [
    {
     "data": {
      "text/plain": [
       "0.49999999999999967"
      ]
     },
     "execution_count": 60,
     "metadata": {},
     "output_type": "execute_result"
    }
   ],
   "source": [
    "GetMeanMuonReachProbability(e_grid[-2],e_grid[-1],e_grid[-2],e_grid[-1],utils.overburden(1.))"
   ]
  },
  {
   "cell_type": "code",
   "execution_count": 16,
   "metadata": {},
   "outputs": [],
   "source": [
    "Units=units\n",
    "e_grid=caca.mceq_run.e_grid\n",
    "#xmax=0\n",
    "\n",
    "def GetMeanMuonReachProbability(EnuMin,EnuMax,EpMin,EpMax,ice_distance):\n",
    "    return integrate.dblquad(\n",
    "                             lambda Ep,Enu: caca.MuonReachProbability((Ep-Enu)*units.GeV,ice_distance),\n",
    "                             EnuMin,EnuMax,\n",
    "                             lambda Enu: np.max([Enu,EpMin]), lambda Enu: EpMax\n",
    "                             )[0]/((EpMax-EpMin)*(EnuMax-EnuMin))\n",
    "                      \n",
    "def GetReachingMatrix(costh):\n",
    "    ice_distance=utils.overburden(costh)\n",
    "    PR_matrix=np.ones((len(e_grid),len(e_grid)))\n",
    "    for ipadre in range(len(e_grid)):\n",
    "        for ihijo in range(len(e_grid)):\n",
    "            EnuMin = e_grid[ihijo-1]\n",
    "            EnuMax = e_grid[ihijo]\n",
    "            EpMin = e_grid[ipadre-1]\n",
    "            EpMax = e_grid[ipadre]\n",
    "            \n",
    "            #PR_matrix[ihijo][ipadre] = 1.-caca.MuonReachProbability((e_grid[ipadre]-e_grid[ihijo])*units.GeV,ice_distance)\n",
    "            PR_matrix[ihijo][ipadre] = 1. - GetMeanMuonReachProbability(EnuMin,EnuMax,EpMin,EpMax,ice_distance)\n",
    "            #if ihijo < ipadre:\n",
    "            #    PR_matrix[ihijo][ipadre] = 1.-caca.MuonReachProbability((e_grid[ipadre]-e_grid[ihijo])*units.GeV,ice_distance)\n",
    "            #elif ihijo > ipadre:\n",
    "            #    PR_matrix[ihijo][ipadre] = 0. # unphysical guy\n",
    "            #elif ihijo == ipadre:\n",
    "            #    continue\n",
    "            #    PR_matrix[ihijo][ipadre] = 1.-caca.MuonReachProbability((e_grid[ipadre])*units.GeV,ice_distance)\n",
    "    return PR_matrix\n",
    "\n",
    "def GetPassingFraction(costh):\n",
    "    caca=cs.CorrelatedSelfVetoProbabilityCalculator(costh)\n",
    "    \n",
    "    PR_matrix=GetReachingMatrix(costh)\n",
    "    KaonToNeutrinoYield=caca.mceq_run.ds.get_d_matrix(caca.ParticleProperties.pdg_id[\"kaon\"],14)\n",
    "    rescale_kaon_decay_matrix=np.multiply(PR_matrix,KaonToNeutrinoYield)\n",
    "    PionToNeutrinoYield=caca.mceq_run.ds.get_d_matrix(caca.ParticleProperties.pdg_id[\"pion\"],14)\n",
    "    rescale_pion_decay_matrix=np.multiply(PR_matrix,PionToNeutrinoYield)\n",
    "    \n",
    "    passing_guy_numerator = np.zeros(len(caca.mceq_run.e_grid))\n",
    "    passing_guy_denominator = np.zeros(len(caca.mceq_run.e_grid))\n",
    "    \n",
    "    for idx,XX in enumerate(caca.Xvec):\n",
    "        if(idx >= len(caca.Xvec) -1): continue\n",
    "        height = caca.mceq_run.density_model.s_lX2h(np.log(caca.Xvec[idx]))*units.cm\n",
    "        deltah = (caca.mceq_run.density_model.s_lX2h(np.log(caca.Xvec[idx])) -\\\n",
    "                  caca.mceq_run.density_model.s_lX2h(np.log(caca.Xvec[idx+1])))*Units.cm\n",
    "        #if deltah>xmax:\n",
    "        #    xmax=deltah\n",
    "        # do for kaon\n",
    "        inv_decay_length_array = (caca.ParticleProperties.mass_dict[\"kaon\"]/caca.mceq_run.e_grid*units.GeV)*\\\n",
    "                                  (deltah/caca.ParticleProperties.lifetime_dict[\"kaon\"])\n",
    "        rescale_phi=inv_decay_length_array*caca.mceq_run.get_solution(\"K-\",0,idx)\n",
    "\n",
    "        passing_guy_numerator+=(np.dot(rescale_kaon_decay_matrix,rescale_phi))\n",
    "        passing_guy_denominator+=(np.dot(KaonToNeutrinoYield,rescale_phi))\n",
    "\n",
    "        # do for pion\n",
    "        inv_decay_length_array = (caca.ParticleProperties.mass_dict[\"pion\"]/caca.mceq_run.e_grid*units.GeV)*\\\n",
    "                                 (deltah/caca.ParticleProperties.lifetime_dict[\"pion\"])\n",
    "        rescale_phi=inv_decay_length_array*caca.mceq_run.get_solution(\"pi-\",0,idx)\n",
    "\n",
    "        passing_guy_numerator+=(np.dot(rescale_pion_decay_matrix,rescale_phi))\n",
    "        passing_guy_denominator+=(np.dot(PionToNeutrinoYield,rescale_phi))\n",
    "    return passing_guy_numerator/passing_guy_denominator"
   ]
  },
  {
   "cell_type": "code",
   "execution_count": 17,
   "metadata": {
    "scrolled": false
   },
   "outputs": [
    {
     "name": "stdout",
     "output_type": "stream",
     "text": [
      "InteractionYields::_load(): Looking for /Users/carguelles/Library/Python/2.7/lib/python/site-packages/data/SIBYLL23C_yields_compact_ledpm.bz2\n",
      "DecayYields:_load():: Loading file /Users/carguelles/Library/Python/2.7/lib/python/site-packages/data/decays_v1_compact.ppd\n",
      "\n",
      "Hadrons and stable particles:\n",
      "\n",
      "\"gamma\", \"p\", \"p-bar\", \"n-bar\", \"n\"\n",
      "\n",
      "Mixed:\n",
      "\n",
      "\"pi-\", \"pi+\", \"K0L\", \"K-\", \"K+\", \"Lambda0\", \"Lambda0-bar\", \"K0S\", \n",
      "\"D+\", \"D-\", \"Ds+\", \"Ds-\", \"D0\", \"D0-bar\"\n",
      "\n",
      "Resonances:\n",
      "\n",
      "\n",
      "\n",
      "Leptons:\n",
      "\n",
      "\"e-\", \"nue\", \"numu\", \"nutau\", \"antinutau\", \"antinumu\", \"antinue\", \"e+\", \n",
      "\"mu-\", \"mu+\"\n",
      "\n",
      "Aliases:\n",
      "\"obs_numu\", \"obs_nutau\", \"pr_antinutau\", \"pr_antinumu\", \"pr_antinue\", \"obs_antinue\", \"k_nue\", \"k_numu\", \n",
      "\"k_nutau\", \"pi_antinutau\", \"pi_antinue\", \"pi_antinumu\", \"pi_nue\", \"pi_numu\", \"pi_nutau\", \"k_antinutau\", \n",
      "\"k_antinumu\", \"k_antinue\", \"obs_nue\", \"pr_nue\", \"pr_numu\", \"pr_nutau\", \"obs_antinutau\", \"obs_antinumu\", \n",
      "\"k_mu-\", \"obs_mu-\", \"pr_mu+\", \"pi_mu+\", \"pi_mu-\", \"k_mu+\", \"pr_mu-\", \"obs_mu+\"\n",
      "\n",
      "Total number of species: 61\n",
      "MCEqRun::set_interaction_model():  SIBYLL23C\n",
      "InteractionYields:set_interaction_model():: Model SIBYLL23C already loaded.\n",
      "InteractionYields:set_interaction_model():: Model SIBYLL23C already loaded.\n",
      "MCEqRun::_init_default_matrices():Start filling matrices. Skip_D_matrix = False\n",
      "MCEqRun::_convert_to_sparse():Converting to sparse (CSR) matrix format.\n",
      "C Matrix info:\n",
      "    density    : 3.42%\n",
      "    shape      : 5368 x 5368\n",
      "    nnz        : 984591\n",
      "D Matrix info:\n",
      "    density    : 1.11%\n",
      "    shape      : 5368 x 5368\n",
      "    nnz        : 318463\n",
      "MCEqRun::_init_default_matrices():Done filling matrices.\n",
      "MCEqRun::set_density_model():  CORSIKA ('BK_USStd', None)\n",
      "MCEqRun::set_theta_deg():  0.0\n",
      "CorsikaAtmosphere::calculate_density_spline(): Calculating spline of rho(X) for zenith 0.0 degrees.\n",
      ".. took 0.04s\n",
      "MCEqRun::set_primary_model():  HillasGaisser2012 H3a\n",
      "MCEqRun::_calculate_integration_path(): X_surface = 1033.80949621\n",
      "MCEqRun::_forward_euler(): Solver will perform 638 integration steps.\n",
      "Performance:   0.89ms/iteration\n",
      "\n",
      "MCEqRun::_forward_euler(): time elapsed during integration: 0.568355083466 sec\n",
      "InteractionYields::_load(): Looking for /Users/carguelles/Library/Python/2.7/lib/python/site-packages/data/SIBYLL23C_yields_compact_ledpm.bz2\n",
      "DecayYields:_load():: Loading file /Users/carguelles/Library/Python/2.7/lib/python/site-packages/data/decays_v1_compact.ppd\n",
      "\n",
      "Hadrons and stable particles:\n",
      "\n",
      "\"gamma\", \"p\", \"p-bar\", \"n-bar\", \"n\"\n",
      "\n",
      "Mixed:\n",
      "\n",
      "\"pi-\", \"pi+\", \"K0L\", \"K-\", \"K+\", \"Lambda0\", \"Lambda0-bar\", \"K0S\", \n",
      "\"D+\", \"D-\", \"Ds+\", \"Ds-\", \"D0\", \"D0-bar\"\n",
      "\n",
      "Resonances:\n",
      "\n",
      "\n",
      "\n",
      "Leptons:\n",
      "\n",
      "\"e-\", \"nue\", \"numu\", \"nutau\", \"antinutau\", \"antinumu\", \"antinue\", \"e+\", \n",
      "\"mu-\", \"mu+\"\n",
      "\n",
      "Aliases:\n",
      "\"obs_numu\", \"obs_nutau\", \"pr_antinutau\", \"pr_antinumu\", \"pr_antinue\", \"obs_antinue\", \"k_nue\", \"k_numu\", \n",
      "\"k_nutau\", \"pi_antinutau\", \"pi_antinue\", \"pi_antinumu\", \"pi_nue\", \"pi_numu\", \"pi_nutau\", \"k_antinutau\", \n",
      "\"k_antinumu\", \"k_antinue\", \"obs_nue\", \"pr_nue\", \"pr_numu\", \"pr_nutau\", \"obs_antinutau\", \"obs_antinumu\", \n",
      "\"k_mu-\", \"obs_mu-\", \"pr_mu+\", \"pi_mu+\", \"pi_mu-\", \"k_mu+\", \"pr_mu-\", \"obs_mu+\"\n",
      "\n",
      "Total number of species: 61\n",
      "MCEqRun::set_interaction_model():  SIBYLL23C\n",
      "InteractionYields:set_interaction_model():: Model SIBYLL23C already loaded.\n",
      "InteractionYields:set_interaction_model():: Model SIBYLL23C already loaded.\n",
      "MCEqRun::_init_default_matrices():Start filling matrices. Skip_D_matrix = False\n",
      "MCEqRun::_convert_to_sparse():Converting to sparse (CSR) matrix format.\n",
      "C Matrix info:\n",
      "    density    : 3.42%\n",
      "    shape      : 5368 x 5368\n",
      "    nnz        : 984591\n",
      "D Matrix info:\n",
      "    density    : 1.11%\n",
      "    shape      : 5368 x 5368\n",
      "    nnz        : 318463\n",
      "MCEqRun::_init_default_matrices():Done filling matrices.\n",
      "MCEqRun::set_density_model():  CORSIKA ('BK_USStd', None)\n",
      "MCEqRun::set_theta_deg():  66.4218215218\n",
      "CorsikaAtmosphere::calculate_density_spline(): Calculating spline of rho(X) for zenith 66.4218215218 degrees.\n",
      ".. took 0.04s\n",
      "MCEqRun::set_primary_model():  HillasGaisser2012 H3a\n",
      "MCEqRun::_calculate_integration_path(): X_surface = 2569.28270085\n",
      "MCEqRun::_forward_euler(): Solver will perform 938 integration steps.\n",
      "Performance:   0.71ms/iteration\n",
      "\n",
      "MCEqRun::_forward_euler(): time elapsed during integration: 0.665486097336 sec\n",
      "InteractionYields::_load(): Looking for /Users/carguelles/Library/Python/2.7/lib/python/site-packages/data/SIBYLL23C_yields_compact_ledpm.bz2\n",
      "DecayYields:_load():: Loading file /Users/carguelles/Library/Python/2.7/lib/python/site-packages/data/decays_v1_compact.ppd\n",
      "\n",
      "Hadrons and stable particles:\n",
      "\n",
      "\"gamma\", \"p\", \"p-bar\", \"n-bar\", \"n\"\n",
      "\n",
      "Mixed:\n",
      "\n",
      "\"pi-\", \"pi+\", \"K0L\", \"K-\", \"K+\", \"Lambda0\", \"Lambda0-bar\", \"K0S\", \n",
      "\"D+\", \"D-\", \"Ds+\", \"Ds-\", \"D0\", \"D0-bar\"\n",
      "\n",
      "Resonances:\n",
      "\n",
      "\n",
      "\n",
      "Leptons:\n",
      "\n",
      "\"e-\", \"nue\", \"numu\", \"nutau\", \"antinutau\", \"antinumu\", \"antinue\", \"e+\", \n",
      "\"mu-\", \"mu+\"\n",
      "\n",
      "Aliases:\n",
      "\"obs_numu\", \"obs_nutau\", \"pr_antinutau\", \"pr_antinumu\", \"pr_antinue\", \"obs_antinue\", \"k_nue\", \"k_numu\", \n",
      "\"k_nutau\", \"pi_antinutau\", \"pi_antinue\", \"pi_antinumu\", \"pi_nue\", \"pi_numu\", \"pi_nutau\", \"k_antinutau\", \n",
      "\"k_antinumu\", \"k_antinue\", \"obs_nue\", \"pr_nue\", \"pr_numu\", \"pr_nutau\", \"obs_antinutau\", \"obs_antinumu\", \n",
      "\"k_mu-\", \"obs_mu-\", \"pr_mu+\", \"pi_mu+\", \"pi_mu-\", \"k_mu+\", \"pr_mu-\", \"obs_mu+\"\n",
      "\n",
      "Total number of species: 61\n",
      "MCEqRun::set_interaction_model():  SIBYLL23C\n",
      "InteractionYields:set_interaction_model():: Model SIBYLL23C already loaded.\n",
      "InteractionYields:set_interaction_model():: Model SIBYLL23C already loaded.\n",
      "MCEqRun::_init_default_matrices():Start filling matrices. Skip_D_matrix = False\n",
      "MCEqRun::_convert_to_sparse():Converting to sparse (CSR) matrix format.\n",
      "C Matrix info:\n",
      "    density    : 3.42%\n",
      "    shape      : 5368 x 5368\n",
      "    nnz        : 984591\n",
      "D Matrix info:\n",
      "    density    : 1.11%\n",
      "    shape      : 5368 x 5368\n",
      "    nnz        : 318463\n",
      "MCEqRun::_init_default_matrices():Done filling matrices.\n",
      "MCEqRun::set_density_model():  CORSIKA ('BK_USStd', None)\n",
      "MCEqRun::set_theta_deg():  78.4630409672\n",
      "CorsikaAtmosphere::calculate_density_spline(): Calculating spline of rho(X) for zenith 78.4630409672 degrees.\n",
      ".. took 0.03s\n",
      "MCEqRun::set_primary_model():  HillasGaisser2012 H3a\n",
      "MCEqRun::_calculate_integration_path(): X_surface = 5037.05170842\n",
      "MCEqRun::_forward_euler(): Solver will perform 1585 integration steps.\n",
      "Performance:   0.75ms/iteration\n",
      "\n",
      "MCEqRun::_forward_euler(): time elapsed during integration: 1.18180608749 sec\n"
     ]
    },
    {
     "data": {
      "text/plain": [
       "Text(0,0.5,u'${\\\\rm Passing\\\\ Fraction}$')"
      ]
     },
     "execution_count": 17,
     "metadata": {},
     "output_type": "execute_result"
    },
    {
     "data": {
      "image/png": "[encoded data removed]",
      "text/plain": [
       "<matplotlib.figure.Figure at 0x120f30710>"
      ]
     },
     "metadata": {},
     "output_type": "display_data"
    }
   ],
   "source": [
    "plt.figure(figsize=(6,5))\n",
    "\n",
    "plt.plot(caca.mceq_run.e_grid,GetPassingFraction(1.0), label = r\"$\\cos\\theta=1$\", color = \"red\")\n",
    "plt.plot(caca.mceq_run.e_grid,GetPassingFraction(0.4), label = r\"$\\cos\\theta=0.4$\", color = \"green\")\n",
    "plt.plot(caca.mceq_run.e_grid,GetPassingFraction(0.2), label = r\"$\\cos\\theta=0.2$\", color = \"blue\")\n",
    "\n",
    "plt.plot(caca.mceq_run.e_grid,\n",
    "         [selfveto.correlated_passing_rate(enu,selfveto.minimum_muon_energy(selfveto.overburden(1.)),1.)\n",
    "          for enu in e_grid], ls = \"dashed\", color = \"red\")\n",
    "plt.plot(caca.mceq_run.e_grid,\n",
    "         [selfveto.correlated_passing_rate(enu,selfveto.minimum_muon_energy(selfveto.overburden(0.4)),0.4)\n",
    "          for enu in e_grid], ls = \"dashed\", color = \"green\")\n",
    "plt.plot(caca.mceq_run.e_grid,\n",
    "         [selfveto.correlated_passing_rate(enu,selfveto.minimum_muon_energy(selfveto.overburden(0.2)),0.2)\n",
    "          for enu in e_grid], ls = \"dashed\", color = \"blue\")\n",
    "\n",
    "plt.semilogx()\n",
    "plt.ylim(0.,1.)\n",
    "plt.legend(loc=\"upper right\", fontsize=14)\n",
    "plt.xlabel(r\"$E_\\nu/{\\rm GeV}$\")\n",
    "plt.ylabel(r\"${\\rm Passing\\ Fraction}$\")\n",
    "#plt.xlim(1e1,1e7)\n",
    "         \n",
    "#plt.plot(caca.mceq_run.e_grid,np.ones(len(caca.mceq_run.e_grid))/2.,\"*\")"
   ]
  },
  {
   "cell_type": "code",
   "execution_count": null,
   "metadata": {
    "collapsed": true
   },
   "outputs": [],
   "source": []
  }
 ],
 "metadata": {
  "kernelspec": {
   "display_name": "Python 2",
   "language": "python",
   "name": "python2"
  },
  "language_info": {
   "codemirror_mode": {
    "name": "ipython",
    "version": 2
   },
   "file_extension": ".py",
   "mimetype": "text/x-python",
   "name": "python",
   "nbconvert_exporter": "python",
   "pygments_lexer": "ipython2",
   "version": "2.7.10"
  }
 },
 "nbformat": 4,
 "nbformat_minor": 2
}

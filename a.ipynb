{
 "cells": [
  {
   "cell_type": "code",
   "execution_count": 78,
   "metadata": {
    "collapsed": true
   },
   "outputs": [],
   "source": [
    "%matplotlib inline\n",
    "import matplotlib.pyplot as plt\n",
    "from matplotlib import rc, rcParams\n",
    "import correlated_selfveto as cs\n",
    "import CRFluxModels as pm\n",
    "import utils\n",
    "import numpy as np\n",
    "import tqdm\n",
    "import scipy.integrate as integrate\n",
    "import scipy.interpolate as interpolate\n",
    "from external import elbert,selfveto\n",
    "\n",
    "rc('text',usetex=True)\n",
    "rc('font',**{'family':'serif','serif':['Computer Modern'], 'size' : 18})\n",
    "cols = ['#29A2C6','#FF6D31','#FFCB18','#73B66B','#EF597B', '#333333']\n",
    "\n",
    "font = {'family' : 'serif',\n",
    "        'weight' : 'bold',\n",
    "        'size'   : 18}"
   ]
  },
  {
   "cell_type": "code",
   "execution_count": 2,
   "metadata": {
    "collapsed": true
   },
   "outputs": [],
   "source": [
    "geometry=utils.Geometry(195000)\n",
    "utils.overburden=geometry.overburden"
   ]
  },
  {
   "cell_type": "code",
   "execution_count": 3,
   "metadata": {
    "scrolled": true
   },
   "outputs": [
    {
     "name": "stdout",
     "output_type": "stream",
     "text": [
      "InteractionYields::_load(): Looking for /Users/carguelles/Library/Python/2.7/lib/python/site-packages/data/SIBYLL23C_yields_compact_ledpm.bz2\n",
      "DecayYields:_load():: Loading file /Users/carguelles/Library/Python/2.7/lib/python/site-packages/data/decays_v1_compact.ppd\n",
      "\n",
      "Hadrons and stable particles:\n",
      "\n",
      "\"gamma\", \"p\", \"p-bar\", \"n-bar\", \"n\"\n",
      "\n",
      "Mixed:\n",
      "\n",
      "\"pi-\", \"pi+\", \"K0L\", \"K-\", \"K+\", \"Lambda0\", \"Lambda0-bar\", \"K0S\", \n",
      "\"D+\", \"D-\", \"Ds+\", \"Ds-\", \"D0\", \"D0-bar\"\n",
      "\n",
      "Resonances:\n",
      "\n",
      "\n",
      "\n",
      "Leptons:\n",
      "\n",
      "\"e-\", \"nue\", \"numu\", \"nutau\", \"antinutau\", \"antinumu\", \"antinue\", \"e+\", \n",
      "\"mu-\", \"mu+\"\n",
      "\n",
      "Aliases:\n",
      "\"obs_numu\", \"obs_nutau\", \"pr_antinutau\", \"pr_antinumu\", \"pr_antinue\", \"obs_antinue\", \"k_nue\", \"k_numu\", \n",
      "\"k_nutau\", \"pi_antinutau\", \"pi_antinue\", \"pi_antinumu\", \"pi_nue\", \"pi_numu\", \"pi_nutau\", \"k_antinutau\", \n",
      "\"k_antinumu\", \"k_antinue\", \"obs_nue\", \"pr_nue\", \"pr_numu\", \"pr_nutau\", \"obs_antinutau\", \"obs_antinumu\", \n",
      "\"k_mu-\", \"obs_mu-\", \"pr_mu+\", \"pi_mu+\", \"pi_mu-\", \"k_mu+\", \"pr_mu-\", \"obs_mu+\"\n",
      "\n",
      "Total number of species: 61\n",
      "MCEqRun::set_interaction_model():  SIBYLL23C\n",
      "InteractionYields:set_interaction_model():: Model SIBYLL23C already loaded.\n",
      "InteractionYields:set_interaction_model():: Model SIBYLL23C already loaded.\n",
      "MCEqRun::_init_default_matrices():Start filling matrices. Skip_D_matrix = False\n",
      "MCEqRun::_convert_to_sparse():Converting to sparse (CSR) matrix format.\n",
      "C Matrix info:\n",
      "    density    : 3.42%\n",
      "    shape      : 5368 x 5368\n",
      "    nnz        : 984591\n",
      "D Matrix info:\n",
      "    density    : 1.11%\n",
      "    shape      : 5368 x 5368\n",
      "    nnz        : 318463\n",
      "MCEqRun::_init_default_matrices():Done filling matrices.\n",
      "MCEqRun::set_density_model():  CORSIKA ('BK_USStd', None)\n",
      "MCEqRun::set_theta_deg():  0.0\n",
      "CorsikaAtmosphere::calculate_density_spline(): Calculating spline of rho(X) for zenith 0.0 degrees.\n",
      ".. took 0.04s\n",
      "MCEqRun::set_primary_model():  HillasGaisser2012 H3a\n",
      "MCEqRun::_calculate_integration_path(): X_surface = 1033.80949621\n",
      "MCEqRun::_forward_euler(): Solver will perform 4547 integration steps.\n",
      "Performance:   0.69ms/iteration\n",
      "\n",
      "MCEqRun::_forward_euler(): time elapsed during integration: 3.23582005501 sec\n"
     ]
    }
   ],
   "source": [
    "units=cs.Units()\n",
    "caca=cs.CorrelatedSelfVetoProbabilityCalculator(1)#,primary_cr_model=(pm.SimplePowerlaw27, None))"
   ]
  },
  {
   "cell_type": "markdown",
   "metadata": {
    "heading_collapsed": true
   },
   "source": [
    "## dNdEE studies"
   ]
  },
  {
   "cell_type": "code",
   "execution_count": 46,
   "metadata": {
    "hidden": true
   },
   "outputs": [
    {
     "data": {
      "text/plain": [
       "[]"
      ]
     },
     "execution_count": 46,
     "metadata": {},
     "output_type": "execute_result"
    },
    {
     "data": {
      "image/png": "[encoded data removed]",
      "text/plain": [
       "<matplotlib.figure.Figure at 0x122921790>"
      ]
     },
     "metadata": {},
     "output_type": "display_data"
    }
   ],
   "source": [
    "ipadre=40\n",
    "yield_matrix=caca.mceq_run.ds.get_d_matrix(caca.ParticleProperties.pdg_id[\"kaon\"],14)\n",
    "a=np.transpose(yield_matrix)\n",
    "plt.plot(e_grid,a[ipadre]/e_grid)\n",
    "plt.axvline(e_grid[ipadre], color = \"red\", ls = \"dashed\")\n",
    "plt.semilogx()"
   ]
  },
  {
   "cell_type": "code",
   "execution_count": 6,
   "metadata": {
    "collapsed": true,
    "hidden": true
   },
   "outputs": [],
   "source": [
    "delta=np.diff(e_grid)\n",
    "delta=np.insert(delta,0,delta[0])"
   ]
  },
  {
   "cell_type": "code",
   "execution_count": 95,
   "metadata": {
    "collapsed": true,
    "hidden": true
   },
   "outputs": [],
   "source": [
    "r_k=(0.105/caca.ParticleProperties.mass_dict[\"kaon\"])**2\n",
    "r_D=(0.105/1.869)**2"
   ]
  },
  {
   "cell_type": "code",
   "execution_count": 97,
   "metadata": {
    "hidden": true
   },
   "outputs": [
    {
     "data": {
      "text/plain": [
       "(1.047380231946163, 1.0031661600810537)"
      ]
     },
     "execution_count": 97,
     "metadata": {},
     "output_type": "execute_result"
    }
   ],
   "source": [
    "1/(1-r_k),1/(1-r_D)"
   ]
  },
  {
   "cell_type": "code",
   "execution_count": 39,
   "metadata": {
    "hidden": true
   },
   "outputs": [
    {
     "data": {
      "text/plain": [
       "<matplotlib.legend.Legend at 0x1181ab590>"
      ]
     },
     "execution_count": 39,
     "metadata": {},
     "output_type": "execute_result"
    },
    {
     "data": {
      "image/png": "[encoded data removed]",
      "text/plain": [
       "<matplotlib.figure.Figure at 0x118134c90>"
      ]
     },
     "metadata": {},
     "output_type": "display_data"
    }
   ],
   "source": [
    "x_range = (e_grid/e_grid[ihijo])**-1\n",
    "dNdEE = caca.mceq_run.ds.get_d_matrix(caca.ParticleProperties.pdg_id[\"kaon\"],14)[ihijo]*e_grid/delta\n",
    "\n",
    "dNdEE_KaonInterpolator = interpolate.interp1d(x_range[(x_range<=1.) & (x_range>=1.e-3)],\n",
    "                     dNdEE[(x_range<=1.) & (x_range>=1.e-3)],\n",
    "                     bounds_error = False, fill_value = (0.85511746,0.0))\n",
    "\n",
    "plt.plot(x_range,dNdEE_KaonInterpolator(x_range), label = \"Interpolated\")\n",
    "plt.plot(x_range,dNdEE, ls = \"dashed\", label = \"From Anatoli\")\n",
    "plt.semilogx()\n",
    "plt.xlabel(r\"$x=E_\\nu/E_p$\")\n",
    "plt.ylabel(r\"$ \\frac{dN}{dE_\\nu} E_p$\")\n",
    "plt.legend(loc=\"upper right\", fontsize = 15)"
   ]
  },
  {
   "cell_type": "code",
   "execution_count": null,
   "metadata": {
    "collapsed": true,
    "hidden": true
   },
   "outputs": [],
   "source": [
    "ihijo = 20\n",
    "(e_grid/e_grid[ihijo])**-1,\n",
    "         caca.mceq_run.ds.get_d_matrix(caca.ParticleProperties.pdg_id[\"kaon\"],14)[ihijo]*e_grid/delta"
   ]
  },
  {
   "cell_type": "code",
   "execution_count": 199,
   "metadata": {
    "hidden": true
   },
   "outputs": [
    {
     "data": {
      "text/plain": [
       "<matplotlib.legend.Legend at 0x11557d890>"
      ]
     },
     "execution_count": 199,
     "metadata": {},
     "output_type": "execute_result"
    },
    {
     "data": {
      "image/png": "[encoded data removed]",
      "text/plain": [
       "<matplotlib.figure.Figure at 0x106c89a50>"
      ]
     },
     "metadata": {},
     "output_type": "display_data"
    }
   ],
   "source": [
    "ihijo = 30\n",
    "plt.plot((e_grid/e_grid[ihijo])**-1,\n",
    "         caca.mceq_run.ds.get_d_matrix(caca.ParticleProperties.pdg_id[\"pion\"],14)[ihijo]*e_grid/delta, \n",
    "         \"*\",label = \"pion+\", color = \"red\", ls = \"solid\", )\n",
    "\n",
    "plt.xlim(0.1,1.)\n",
    "plt.ylim(0,3)\n",
    "#plt.semilogx()\n",
    "plt.xlabel(r\"$x=E_\\nu/E_p$\")\n",
    "plt.ylabel(r\"$ \\frac{dN}{dE_\\nu} E_p$\")\n",
    "#plt.title(r\"$E_\\nu$ = \"+\"{:.3e}\".format(e_grid[ihijo]/1.e3)+\" TeV\")\n",
    "plt.axvline(1., color = \"green\", ls = \"dashed\")\n",
    "plt.axvline(0.55, color = \"green\", ls = \"dashed\")\n",
    "plt.legend(loc=\"upper right\", fontsize = 15)"
   ]
  },
  {
   "cell_type": "code",
   "execution_count": 7,
   "metadata": {
    "hidden": true
   },
   "outputs": [
    {
     "data": {
      "text/plain": [
       "<matplotlib.legend.Legend at 0x1184e3150>"
      ]
     },
     "execution_count": 7,
     "metadata": {},
     "output_type": "execute_result"
    },
    {
     "data": {
      "image/png": "[encoded data removed]",
      "text/plain": [
       "<matplotlib.figure.Figure at 0x1185160d0>"
      ]
     },
     "metadata": {},
     "output_type": "display_data"
    }
   ],
   "source": [
    "ihijo = 20\n",
    "plt.plot((e_grid/e_grid[ihijo])**-1,\n",
    "         caca.mceq_run.ds.get_d_matrix(caca.ParticleProperties.pdg_id[\"kaon\"],14)[ihijo]*e_grid/delta, \n",
    "         label = \"K+\", color = \"yellow\", ls = \"solid\")\n",
    "plt.plot((e_grid/e_grid[ihijo])**-1,\n",
    "         caca.mceq_run.ds.get_d_matrix(411,14)[ihijo]*e_grid/delta, color = \"red\", label = \"D+\")\n",
    "\n",
    "ihijo = 30\n",
    "plt.plot((e_grid/e_grid[ihijo])**-1,\n",
    "         caca.mceq_run.ds.get_d_matrix(caca.ParticleProperties.pdg_id[\"kaon\"],14)[ihijo]*e_grid/delta,\n",
    "         label = \"K+\", color = \"blue\", ls = \"dashed\")\n",
    "plt.plot((e_grid/e_grid[ihijo])**-1,\n",
    "         caca.mceq_run.ds.get_d_matrix(411,14)[ihijo]*e_grid/delta, color = \"red\", label = \"D+\")\n",
    "\n",
    "ihijo = 40\n",
    "plt.plot((e_grid/e_grid[ihijo])**-1,\n",
    "         caca.mceq_run.ds.get_d_matrix(caca.ParticleProperties.pdg_id[\"kaon\"],14)[ihijo]*e_grid/delta, \n",
    "         label = \"K+\", color = \"magenta\", ls = \"dotted\")\n",
    "plt.plot((e_grid/e_grid[ihijo])**-1,\n",
    "         caca.mceq_run.ds.get_d_matrix(411,14)[ihijo]*e_grid/delta, color = \"red\", label = \"D+\")\n",
    "plt.ylim(0,3)\n",
    "plt.semilogx()\n",
    "plt.xlabel(r\"$x=E_\\nu/E_p$\")\n",
    "plt.ylabel(r\"$ \\frac{dN}{dE_\\nu} E_p$\")\n",
    "#plt.title(r\"$E_\\nu$ = \"+\"{:.3e}\".format(e_grid[ihijo]/1.e3)+\" TeV\")\n",
    "plt.axvline(1., color = \"green\", ls = \"dashed\")\n",
    "plt.legend(loc=\"upper right\", fontsize = 15)"
   ]
  },
  {
   "cell_type": "code",
   "execution_count": 81,
   "metadata": {
    "hidden": true
   },
   "outputs": [
    {
     "data": {
      "text/plain": [
       "<matplotlib.legend.Legend at 0x1148bc950>"
      ]
     },
     "execution_count": 81,
     "metadata": {},
     "output_type": "execute_result"
    },
    {
     "data": {
      "image/png": "[encoded data removed]",
      "text/plain": [
       "<matplotlib.figure.Figure at 0x114843d10>"
      ]
     },
     "metadata": {},
     "output_type": "display_data"
    }
   ],
   "source": [
    "ihijo = 60\n",
    "plt.plot(e_grid,\n",
    "         caca.mceq_run.ds.get_d_matrix(caca.ParticleProperties.pdg_id[\"kaon\"],14)[ihijo]/e_grid, label = \"K+\")\n",
    "plt.plot(e_grid,\n",
    "         caca.mceq_run.ds.get_d_matrix(411,14)[ihijo]/e_grid, color = \"red\", label = \"D+\")\n",
    "plt.semilogx()\n",
    "plt.xlabel(r\"$E_p$\")\n",
    "plt.ylabel(r\"$ \\frac{dN}{dE_\\nu}$\")\n",
    "plt.title(r\"$E_\\nu$ = \"+\"{:.3e}\".format(e_grid[ihijo]/1.e3)+\" TeV\")\n",
    "plt.legend(loc=\"upper right\", fontsize = 15)"
   ]
  },
  {
   "cell_type": "code",
   "execution_count": 60,
   "metadata": {
    "hidden": true
   },
   "outputs": [
    {
     "data": {
      "text/plain": [
       "0.49999999999999967"
      ]
     },
     "execution_count": 60,
     "metadata": {},
     "output_type": "execute_result"
    }
   ],
   "source": [
    "GetMeanMuonReachProbability(e_grid[-2],e_grid[-1],e_grid[-2],e_grid[-1],utils.overburden(1.))"
   ]
  },
  {
   "cell_type": "markdown",
   "metadata": {
    "heading_collapsed": true
   },
   "source": [
    "## Old scrach"
   ]
  },
  {
   "cell_type": "code",
   "execution_count": null,
   "metadata": {
    "collapsed": true,
    "hidden": true
   },
   "outputs": [],
   "source": [
    "def GetMeanMuonReachProbability(EnuMin,EnuMax,EpMin,EpMax,ice_distance):\n",
    "    return integrate.dblquad(\n",
    "                             lambda Ep,Enu: caca.MuonReachProbability((Ep-Enu)*units.GeV,ice_distance),\n",
    "                             EnuMin,EnuMax,\n",
    "                             lambda Enu: np.max([Enu,EpMin]), lambda Enu: EpMax\n",
    "                             )[0]/((EpMax-EpMin)*(EnuMax-EnuMin))\n",
    "                      \n",
    "def GetReachingMatrix(costh):\n",
    "    ice_distance=utils.overburden(costh)\n",
    "    PR_matrix=np.ones((len(e_grid),len(e_grid)))\n",
    "    for ipadre in tqdm.tqdm(range(len(e_grid))):\n",
    "        for ihijo in range(len(e_grid)):\n",
    "            EnuMin = e_grid[ihijo-1]\n",
    "            EnuMax = e_grid[ihijo]\n",
    "            EpMin = e_grid[ipadre-1]\n",
    "            EpMax = e_grid[ipadre]\n",
    "            \n",
    "            #PR_matrix[ihijo][ipadre] = 1.-caca.MuonReachProbability((e_grid[ipadre]-e_grid[ihijo])*units.GeV,ice_distance)\n",
    "            PR_matrix[ihijo][ipadre] = 1. - GetMeanMuonReachProbability(EnuMin,EnuMax,EpMin,EpMax,ice_distance)\n",
    "            #if ihijo < ipadre:\n",
    "            #    PR_matrix[ihijo][ipadre] = 1.-caca.MuonReachProbability((e_grid[ipadre]-e_grid[ihijo])*units.GeV,ice_distance)\n",
    "            #elif ihijo > ipadre:\n",
    "            #    PR_matrix[ihijo][ipadre] = 0. # unphysical guy\n",
    "            #elif ihijo == ipadre:\n",
    "            #    continue\n",
    "            #    PR_matrix[ihijo][ipadre] = 1.-caca.MuonReachProbability((e_grid[ipadre])*units.GeV,ice_distance)\n",
    "    return PR_matrix\n",
    "\n",
    "def GetPassingFraction(costh):\n",
    "    caca=cs.CorrelatedSelfVetoProbabilityCalculator(costh)\n",
    "    \n",
    "    PR_matrix=GetReachingMatrix(costh)\n",
    "    KaonToNeutrinoYield=caca.mceq_run.ds.get_d_matrix(caca.ParticleProperties.pdg_id[\"kaon\"],14)\n",
    "    rescale_kaon_decay_matrix=np.multiply(PR_matrix,KaonToNeutrinoYield)\n",
    "    PionToNeutrinoYield=caca.mceq_run.ds.get_d_matrix(caca.ParticleProperties.pdg_id[\"pion\"],14)\n",
    "    rescale_pion_decay_matrix=np.multiply(PR_matrix,PionToNeutrinoYield)\n",
    "    \n",
    "    passing_guy_numerator = np.zeros(len(caca.mceq_run.e_grid))\n",
    "    passing_guy_denominator = np.zeros(len(caca.mceq_run.e_grid))\n",
    "    \n",
    "    for idx,XX in enumerate(caca.Xvec):\n",
    "        if(idx >= len(caca.Xvec) -1): continue\n",
    "        height = caca.mceq_run.density_model.s_lX2h(np.log(caca.Xvec[idx]))*units.cm\n",
    "        deltah = (caca.mceq_run.density_model.s_lX2h(np.log(caca.Xvec[idx])) -\\\n",
    "                  caca.mceq_run.density_model.s_lX2h(np.log(caca.Xvec[idx+1])))*Units.cm\n",
    "        #if deltah>xmax:\n",
    "        #    xmax=deltah\n",
    "        # do for kaon\n",
    "        inv_decay_length_array = (caca.ParticleProperties.mass_dict[\"kaon\"]/caca.mceq_run.e_grid*units.GeV)*\\\n",
    "                                  (deltah/caca.ParticleProperties.lifetime_dict[\"kaon\"])\n",
    "        rescale_phi=inv_decay_length_array*caca.mceq_run.get_solution(\"K-\",0,idx)\n",
    "\n",
    "        passing_guy_numerator+=(np.dot(rescale_kaon_decay_matrix,rescale_phi))\n",
    "        passing_guy_denominator+=(np.dot(KaonToNeutrinoYield,rescale_phi))\n",
    "\n",
    "        # do for pion\n",
    "        inv_decay_length_array = (caca.ParticleProperties.mass_dict[\"pion\"]/caca.mceq_run.e_grid*units.GeV)*\\\n",
    "                                 (deltah/caca.ParticleProperties.lifetime_dict[\"pion\"])\n",
    "        rescale_phi=inv_decay_length_array*caca.mceq_run.get_solution(\"pi-\",0,idx)\n",
    "\n",
    "        passing_guy_numerator+=(np.dot(rescale_pion_decay_matrix,rescale_phi))\n",
    "        passing_guy_denominator+=(np.dot(PionToNeutrinoYield,rescale_phi))\n",
    "    return passing_guy_numerator/passing_guy_denominator"
   ]
  },
  {
   "cell_type": "markdown",
   "metadata": {},
   "source": [
    "## Correlated Calculation"
   ]
  },
  {
   "cell_type": "code",
   "execution_count": 84,
   "metadata": {
    "scrolled": true
   },
   "outputs": [
    {
     "name": "stderr",
     "output_type": "stream",
     "text": [
      "100%|██████████| 88/88 [07:26<00:00,  4.30s/it]\n"
     ]
    },
    {
     "data": {
      "text/plain": [
       "array([[  0.00000000e+00,   0.00000000e+00,   0.00000000e+00, ...,\n",
       "          6.21316604e-11,   4.65921723e-11,   3.49392002e-11],\n",
       "       [  0.00000000e+00,   0.00000000e+00,   0.00000000e+00, ...,\n",
       "          6.21316604e-11,   4.65921723e-11,   3.49392002e-11],\n",
       "       [  0.00000000e+00,   0.00000000e+00,   0.00000000e+00, ...,\n",
       "          6.21316604e-11,   4.65921723e-11,   3.49392002e-11],\n",
       "       ..., \n",
       "       [  0.00000000e+00,   0.00000000e+00,   0.00000000e+00, ...,\n",
       "          0.00000000e+00,   0.00000000e+00,   3.34648179e-12],\n",
       "       [  0.00000000e+00,   0.00000000e+00,   0.00000000e+00, ...,\n",
       "          0.00000000e+00,   0.00000000e+00,   0.00000000e+00],\n",
       "       [  0.00000000e+00,   0.00000000e+00,   0.00000000e+00, ...,\n",
       "          0.00000000e+00,   0.00000000e+00,   0.00000000e+00]])"
      ]
     },
     "execution_count": 84,
     "metadata": {},
     "output_type": "execute_result"
    }
   ],
   "source": [
    "GetReachingYields(0,dNdEE_PionInterpolator)"
   ]
  },
  {
   "cell_type": "code",
   "execution_count": 148,
   "metadata": {},
   "outputs": [
    {
     "name": "stdout",
     "output_type": "stream",
     "text": [
      "2074.82655785 2766.82568292 3689.62134723 4920.18914309\n"
     ]
    },
    {
     "data": {
      "text/plain": [
       "0.00013866394009136066"
      ]
     },
     "execution_count": 148,
     "metadata": {},
     "output_type": "execute_result"
    }
   ],
   "source": [
    "ihijo = 27; ipadre = 29;\n",
    "ice_distance=utils.overburden(1.)\n",
    "\n",
    "dNdEE_Interpolator=dNdEE_KaonInterpolator\n",
    "\n",
    "EnuMin = e_grid[ihijo-1]\n",
    "EnuMax = e_grid[ihijo]\n",
    "EpMin = e_grid[ipadre-1]\n",
    "EpMax = e_grid[ipadre]\n",
    "\n",
    "print EnuMin, EnuMax, EpMin, EpMax\n",
    "\n",
    "integrate.dblquad(\n",
    " lambda Ep,Enu: (dNdEE_Interpolator(Enu/Ep)/Ep)*(1.-caca.MuonReachProbability((Ep-Enu)*units.GeV,ice_distance)),\n",
    " EnuMin,EnuMax,\n",
    " lambda Enu: np.max([Enu,EpMin]), lambda Enu: EpMax, epsabs = 0, epsrel = 1.0e-2,\n",
    " )[0]/((EpMax-EpMin)*(EnuMax-EnuMin))"
   ]
  },
  {
   "cell_type": "code",
   "execution_count": 150,
   "metadata": {
    "scrolled": true
   },
   "outputs": [
    {
     "name": "stderr",
     "output_type": "stream",
     "text": [
      "\n",
      "\n",
      "\n",
      "  0%|          | 0/88 [00:00<?, ?it/s]\u001b[A\u001b[A\u001b[A\n",
      "\n",
      "\n",
      "  2%|▏         | 2/88 [00:00<00:07, 11.40it/s]\u001b[A\u001b[A\u001b[A\n",
      "\n",
      "\n",
      "  3%|▎         | 3/88 [00:00<00:08,  9.76it/s]\u001b[A\u001b[A\u001b[A\n",
      "\n",
      "\n",
      "  5%|▍         | 4/88 [00:00<00:13,  6.29it/s]\u001b[A\u001b[A\u001b[A\n",
      "\n",
      "\n",
      "  6%|▌         | 5/88 [00:00<00:17,  4.81it/s]\u001b[A\u001b[A\u001b[A\n",
      "\n",
      "\n",
      "  7%|▋         | 6/88 [00:01<00:16,  4.93it/s]\u001b[A\u001b[A\u001b[A\n",
      "\n",
      "\n",
      "  8%|▊         | 7/88 [00:01<00:18,  4.40it/s]\u001b[A\u001b[A\u001b[A\n",
      "\n",
      "\n",
      "  9%|▉         | 8/88 [00:01<00:19,  4.13it/s]\u001b[A\u001b[A\u001b[A\n",
      "\n",
      "\n",
      " 10%|█         | 9/88 [00:01<00:19,  3.98it/s]\u001b[A\u001b[A\u001b[A\n",
      "\n",
      "\n",
      " 11%|█▏        | 10/88 [00:02<00:17,  4.43it/s]\u001b[A\u001b[A\u001b[A\n",
      "\n",
      "\n",
      " 12%|█▎        | 11/88 [00:02<00:16,  4.68it/s]\u001b[A\u001b[A\u001b[A\n",
      "\n",
      "\n",
      " 14%|█▎        | 12/88 [00:02<00:15,  4.94it/s]\u001b[A\u001b[A\u001b[A\n",
      "\n",
      "\n",
      " 15%|█▍        | 13/88 [00:02<00:14,  5.06it/s]\u001b[A\u001b[A\u001b[A\n",
      "\n",
      "\n",
      " 16%|█▌        | 14/88 [00:02<00:14,  5.06it/s]\u001b[A\u001b[A\u001b[A\n",
      "\n",
      "\n",
      " 17%|█▋        | 15/88 [00:03<00:14,  4.92it/s]\u001b[A\u001b[A\u001b[A\n",
      "\n",
      "\n",
      " 18%|█▊        | 16/88 [00:03<00:15,  4.55it/s]\u001b[A\u001b[A\u001b[A\n",
      "\n",
      "\n",
      " 19%|█▉        | 17/88 [00:03<00:16,  4.40it/s]\u001b[A\u001b[A\u001b[A\n",
      "\n",
      "\n",
      " 20%|██        | 18/88 [00:03<00:16,  4.19it/s]\u001b[A\u001b[A\u001b[A\n",
      "\n",
      "\n",
      " 22%|██▏       | 19/88 [00:04<00:18,  3.80it/s]\u001b[A\u001b[A\u001b[A\n",
      "\n",
      "\n",
      " 23%|██▎       | 20/88 [00:04<00:18,  3.62it/s]\u001b[A\u001b[A\u001b[A\n",
      "\n",
      "\n",
      " 24%|██▍       | 21/88 [00:04<00:19,  3.46it/s]\u001b[A\u001b[A\u001b[A\n",
      "\n",
      "\n",
      " 25%|██▌       | 22/88 [00:05<00:20,  3.29it/s]\u001b[A\u001b[A\u001b[A\n",
      "\n",
      "\n",
      " 26%|██▌       | 23/88 [00:05<00:21,  3.05it/s]\u001b[A\u001b[A\u001b[A\n",
      "\n",
      "\n",
      " 27%|██▋       | 24/88 [00:05<00:21,  2.97it/s]\u001b[A\u001b[A\u001b[A\n",
      "\n",
      "\n",
      " 28%|██▊       | 25/88 [00:06<00:21,  2.90it/s]\u001b[A\u001b[A\u001b[A\n",
      "\n",
      "\n",
      " 30%|██▉       | 26/88 [00:06<00:22,  2.79it/s]\u001b[A\u001b[A\u001b[A\n",
      "\n",
      "\n",
      " 31%|███       | 27/88 [00:06<00:21,  2.78it/s]\u001b[A\u001b[A\u001b[A\n",
      "\n",
      "\u001b[A\u001b[A\n",
      "\n",
      "\n",
      " 32%|███▏      | 28/88 [00:18<03:50,  3.84s/it]\u001b[A\u001b[A\u001b[A\n",
      "\n",
      "\n",
      " 33%|███▎      | 29/88 [00:31<06:20,  6.45s/it]\u001b[A\u001b[A\u001b[A\n",
      "\n",
      "\n",
      " 34%|███▍      | 30/88 [00:32<04:37,  4.78s/it]\u001b[A\u001b[A\u001b[A\n",
      "\n",
      "\n",
      " 35%|███▌      | 31/88 [00:34<03:52,  4.08s/it]\u001b[A\u001b[A\u001b[A\n",
      "\n",
      "\n",
      " 36%|███▋      | 32/88 [00:37<03:32,  3.79s/it]\u001b[A\u001b[A\u001b[A\n",
      "\n",
      "\n",
      " 38%|███▊      | 33/88 [00:39<02:47,  3.04s/it]\u001b[A\u001b[A\u001b[A\n",
      "\n",
      "\n",
      " 39%|███▊      | 34/88 [00:44<03:28,  3.86s/it]\u001b[A\u001b[A\u001b[A\n",
      "\n",
      "\n",
      " 40%|███▉      | 35/88 [00:50<03:54,  4.43s/it]\u001b[A\u001b[A\u001b[A\n",
      "\n",
      "\n",
      " 41%|████      | 36/88 [00:55<03:57,  4.56s/it]\u001b[A\u001b[A\u001b[A\n",
      "\n",
      "\n",
      " 42%|████▏     | 37/88 [01:00<04:03,  4.77s/it]\u001b[A\u001b[A\u001b[A\n",
      "\n",
      "\n",
      " 43%|████▎     | 38/88 [01:03<03:33,  4.27s/it]\u001b[A\u001b[A\u001b[A\n",
      "\n",
      "\n",
      " 44%|████▍     | 39/88 [01:08<03:34,  4.37s/it]\u001b[A\u001b[A\u001b[A\n",
      "\n",
      "\n",
      " 45%|████▌     | 40/88 [01:12<03:29,  4.37s/it]\u001b[A\u001b[A\u001b[A\n",
      "\n",
      "\n",
      " 47%|████▋     | 41/88 [01:18<03:42,  4.74s/it]\u001b[A\u001b[A\u001b[A\n",
      "\n",
      "\n",
      " 48%|████▊     | 42/88 [01:23<03:36,  4.71s/it]\u001b[A\u001b[A\u001b[A"
     ]
    },
    {
     "ename": "KeyboardInterrupt",
     "evalue": "",
     "output_type": "error",
     "traceback": [
      "\u001b[0;31m---------------------------------------------------------------------------\u001b[0m",
      "\u001b[0;31mKeyboardInterrupt\u001b[0m                         Traceback (most recent call last)",
      "\u001b[0;32m<ipython-input-150-f878ba50df6b>\u001b[0m in \u001b[0;36m<module>\u001b[0;34m()\u001b[0m\n\u001b[0;32m----> 1\u001b[0;31m \u001b[0mGetReachingRescaledYields\u001b[0m\u001b[0;34m(\u001b[0m\u001b[0;36m1\u001b[0m\u001b[0;34m,\u001b[0m\u001b[0mdNdEE_KaonInterpolator\u001b[0m\u001b[0;34m)\u001b[0m\u001b[0;34m\u001b[0m\u001b[0m\n\u001b[0m",
      "\u001b[0;32m<ipython-input-149-05cd9c371b87>\u001b[0m in \u001b[0;36mGetReachingRescaledYields\u001b[0;34m(costh, dNdEE_Interpolator)\u001b[0m\n\u001b[1;32m     51\u001b[0m                                          \u001b[0;32mlambda\u001b[0m \u001b[0mEp\u001b[0m\u001b[0;34m,\u001b[0m\u001b[0mEnu\u001b[0m\u001b[0;34m:\u001b[0m \u001b[0;34m(\u001b[0m\u001b[0mdNdEE_Interpolator\u001b[0m\u001b[0;34m(\u001b[0m\u001b[0mEnu\u001b[0m\u001b[0;34m/\u001b[0m\u001b[0mEp\u001b[0m\u001b[0;34m)\u001b[0m\u001b[0;34m/\u001b[0m\u001b[0mEp\u001b[0m\u001b[0;34m)\u001b[0m\u001b[0;34m*\u001b[0m\u001b[0;34m(\u001b[0m\u001b[0;36m1.\u001b[0m\u001b[0;34m-\u001b[0m\u001b[0mcaca\u001b[0m\u001b[0;34m.\u001b[0m\u001b[0mMuonReachProbability\u001b[0m\u001b[0;34m(\u001b[0m\u001b[0;34m(\u001b[0m\u001b[0mEp\u001b[0m\u001b[0;34m-\u001b[0m\u001b[0mEnu\u001b[0m\u001b[0;34m)\u001b[0m\u001b[0;34m*\u001b[0m\u001b[0munits\u001b[0m\u001b[0;34m.\u001b[0m\u001b[0mGeV\u001b[0m\u001b[0;34m,\u001b[0m\u001b[0mice_distance\u001b[0m\u001b[0;34m)\u001b[0m\u001b[0;34m)\u001b[0m\u001b[0;34m,\u001b[0m\u001b[0;34m\u001b[0m\u001b[0m\n\u001b[1;32m     52\u001b[0m                                          \u001b[0mEnuMin\u001b[0m\u001b[0;34m,\u001b[0m\u001b[0mEnuMax\u001b[0m\u001b[0;34m,\u001b[0m\u001b[0;34m\u001b[0m\u001b[0m\n\u001b[0;32m---> 53\u001b[0;31m                                          \u001b[0;32mlambda\u001b[0m \u001b[0mEnu\u001b[0m\u001b[0;34m:\u001b[0m \u001b[0mnp\u001b[0m\u001b[0;34m.\u001b[0m\u001b[0mmax\u001b[0m\u001b[0;34m(\u001b[0m\u001b[0;34m[\u001b[0m\u001b[0mEnu\u001b[0m\u001b[0;34m,\u001b[0m\u001b[0mEpMin\u001b[0m\u001b[0;34m]\u001b[0m\u001b[0;34m)\u001b[0m\u001b[0;34m,\u001b[0m \u001b[0;32mlambda\u001b[0m \u001b[0mEnu\u001b[0m\u001b[0;34m:\u001b[0m \u001b[0mEpMax\u001b[0m\u001b[0;34m,\u001b[0m \u001b[0mepsabs\u001b[0m \u001b[0;34m=\u001b[0m \u001b[0;36m0\u001b[0m\u001b[0;34m,\u001b[0m \u001b[0mepsrel\u001b[0m \u001b[0;34m=\u001b[0m \u001b[0;36m1.e-2\u001b[0m\u001b[0;34m\u001b[0m\u001b[0m\n\u001b[0m\u001b[1;32m     54\u001b[0m                                          )[0]/((EpMax-EpMin)*(EnuMax-EnuMin))\n\u001b[1;32m     55\u001b[0m     \u001b[0;32mreturn\u001b[0m \u001b[0mRY_matrix\u001b[0m\u001b[0;34m\u001b[0m\u001b[0m\n",
      "\u001b[0;32m/Users/carguelles/Library/Python/2.7/lib/python/site-packages/scipy/integrate/quadpack.pyc\u001b[0m in \u001b[0;36mdblquad\u001b[0;34m(func, a, b, gfun, hfun, args, epsabs, epsrel)\u001b[0m\n\u001b[1;32m    504\u001b[0m         \u001b[0;32mreturn\u001b[0m \u001b[0;34m[\u001b[0m\u001b[0mgfun\u001b[0m\u001b[0;34m(\u001b[0m\u001b[0margs\u001b[0m\u001b[0;34m[\u001b[0m\u001b[0;36m0\u001b[0m\u001b[0;34m]\u001b[0m\u001b[0;34m)\u001b[0m\u001b[0;34m,\u001b[0m \u001b[0mhfun\u001b[0m\u001b[0;34m(\u001b[0m\u001b[0margs\u001b[0m\u001b[0;34m[\u001b[0m\u001b[0;36m0\u001b[0m\u001b[0;34m]\u001b[0m\u001b[0;34m)\u001b[0m\u001b[0;34m]\u001b[0m\u001b[0;34m\u001b[0m\u001b[0m\n\u001b[1;32m    505\u001b[0m     return nquad(func, [temp_ranges, [a, b]], args=args, \n\u001b[0;32m--> 506\u001b[0;31m             opts={\"epsabs\": epsabs, \"epsrel\": epsrel})\n\u001b[0m\u001b[1;32m    507\u001b[0m \u001b[0;34m\u001b[0m\u001b[0m\n\u001b[1;32m    508\u001b[0m \u001b[0;34m\u001b[0m\u001b[0m\n",
      "\u001b[0;32m/Users/carguelles/Library/Python/2.7/lib/python/site-packages/scipy/integrate/quadpack.pyc\u001b[0m in \u001b[0;36mnquad\u001b[0;34m(func, ranges, args, opts, full_output)\u001b[0m\n\u001b[1;32m    712\u001b[0m     \u001b[0;32melse\u001b[0m\u001b[0;34m:\u001b[0m\u001b[0;34m\u001b[0m\u001b[0m\n\u001b[1;32m    713\u001b[0m         \u001b[0mopts\u001b[0m \u001b[0;34m=\u001b[0m \u001b[0;34m[\u001b[0m\u001b[0mopt\u001b[0m \u001b[0;32mif\u001b[0m \u001b[0mcallable\u001b[0m\u001b[0;34m(\u001b[0m\u001b[0mopt\u001b[0m\u001b[0;34m)\u001b[0m \u001b[0;32melse\u001b[0m \u001b[0m_OptFunc\u001b[0m\u001b[0;34m(\u001b[0m\u001b[0mopt\u001b[0m\u001b[0;34m)\u001b[0m \u001b[0;32mfor\u001b[0m \u001b[0mopt\u001b[0m \u001b[0;32min\u001b[0m \u001b[0mopts\u001b[0m\u001b[0;34m]\u001b[0m\u001b[0;34m\u001b[0m\u001b[0m\n\u001b[0;32m--> 714\u001b[0;31m     \u001b[0;32mreturn\u001b[0m \u001b[0m_NQuad\u001b[0m\u001b[0;34m(\u001b[0m\u001b[0mfunc\u001b[0m\u001b[0;34m,\u001b[0m \u001b[0mranges\u001b[0m\u001b[0;34m,\u001b[0m \u001b[0mopts\u001b[0m\u001b[0;34m,\u001b[0m \u001b[0mfull_output\u001b[0m\u001b[0;34m)\u001b[0m\u001b[0;34m.\u001b[0m\u001b[0mintegrate\u001b[0m\u001b[0;34m(\u001b[0m\u001b[0;34m*\u001b[0m\u001b[0margs\u001b[0m\u001b[0;34m)\u001b[0m\u001b[0;34m\u001b[0m\u001b[0m\n\u001b[0m\u001b[1;32m    715\u001b[0m \u001b[0;34m\u001b[0m\u001b[0m\n\u001b[1;32m    716\u001b[0m \u001b[0;34m\u001b[0m\u001b[0m\n",
      "\u001b[0;32m/Users/carguelles/Library/Python/2.7/lib/python/site-packages/scipy/integrate/quadpack.pyc\u001b[0m in \u001b[0;36mintegrate\u001b[0;34m(self, *args, **kwargs)\u001b[0m\n\u001b[1;32m    767\u001b[0m             \u001b[0mf\u001b[0m \u001b[0;34m=\u001b[0m \u001b[0mpartial\u001b[0m\u001b[0;34m(\u001b[0m\u001b[0mself\u001b[0m\u001b[0;34m.\u001b[0m\u001b[0mintegrate\u001b[0m\u001b[0;34m,\u001b[0m \u001b[0mdepth\u001b[0m\u001b[0;34m=\u001b[0m\u001b[0mdepth\u001b[0m\u001b[0;34m+\u001b[0m\u001b[0;36m1\u001b[0m\u001b[0;34m)\u001b[0m\u001b[0;34m\u001b[0m\u001b[0m\n\u001b[1;32m    768\u001b[0m         quad_r = quad(f, low, high, args=args, full_output=self.full_output,\n\u001b[0;32m--> 769\u001b[0;31m                       **opt)\n\u001b[0m\u001b[1;32m    770\u001b[0m         \u001b[0mvalue\u001b[0m \u001b[0;34m=\u001b[0m \u001b[0mquad_r\u001b[0m\u001b[0;34m[\u001b[0m\u001b[0;36m0\u001b[0m\u001b[0;34m]\u001b[0m\u001b[0;34m\u001b[0m\u001b[0m\n\u001b[1;32m    771\u001b[0m         \u001b[0mabserr\u001b[0m \u001b[0;34m=\u001b[0m \u001b[0mquad_r\u001b[0m\u001b[0;34m[\u001b[0m\u001b[0;36m1\u001b[0m\u001b[0;34m]\u001b[0m\u001b[0;34m\u001b[0m\u001b[0m\n",
      "\u001b[0;32m/Users/carguelles/Library/Python/2.7/lib/python/site-packages/scipy/integrate/quadpack.pyc\u001b[0m in \u001b[0;36mquad\u001b[0;34m(func, a, b, args, full_output, epsabs, epsrel, limit, points, weight, wvar, wopts, maxp1, limlst)\u001b[0m\n\u001b[1;32m    321\u001b[0m     \u001b[0;32mif\u001b[0m \u001b[0;34m(\u001b[0m\u001b[0mweight\u001b[0m \u001b[0;32mis\u001b[0m \u001b[0mNone\u001b[0m\u001b[0;34m)\u001b[0m\u001b[0;34m:\u001b[0m\u001b[0;34m\u001b[0m\u001b[0m\n\u001b[1;32m    322\u001b[0m         retval = _quad(func, a, b, args, full_output, epsabs, epsrel, limit,\n\u001b[0;32m--> 323\u001b[0;31m                        points)\n\u001b[0m\u001b[1;32m    324\u001b[0m     \u001b[0;32melse\u001b[0m\u001b[0;34m:\u001b[0m\u001b[0;34m\u001b[0m\u001b[0m\n\u001b[1;32m    325\u001b[0m         retval = _quad_weight(func, a, b, args, full_output, epsabs, epsrel,\n",
      "\u001b[0;32m/Users/carguelles/Library/Python/2.7/lib/python/site-packages/scipy/integrate/quadpack.pyc\u001b[0m in \u001b[0;36m_quad\u001b[0;34m(func, a, b, args, full_output, epsabs, epsrel, limit, points)\u001b[0m\n\u001b[1;32m    386\u001b[0m     \u001b[0;32mif\u001b[0m \u001b[0mpoints\u001b[0m \u001b[0;32mis\u001b[0m \u001b[0mNone\u001b[0m\u001b[0;34m:\u001b[0m\u001b[0;34m\u001b[0m\u001b[0m\n\u001b[1;32m    387\u001b[0m         \u001b[0;32mif\u001b[0m \u001b[0minfbounds\u001b[0m \u001b[0;34m==\u001b[0m \u001b[0;36m0\u001b[0m\u001b[0;34m:\u001b[0m\u001b[0;34m\u001b[0m\u001b[0m\n\u001b[0;32m--> 388\u001b[0;31m             \u001b[0;32mreturn\u001b[0m \u001b[0m_quadpack\u001b[0m\u001b[0;34m.\u001b[0m\u001b[0m_qagse\u001b[0m\u001b[0;34m(\u001b[0m\u001b[0mfunc\u001b[0m\u001b[0;34m,\u001b[0m\u001b[0ma\u001b[0m\u001b[0;34m,\u001b[0m\u001b[0mb\u001b[0m\u001b[0;34m,\u001b[0m\u001b[0margs\u001b[0m\u001b[0;34m,\u001b[0m\u001b[0mfull_output\u001b[0m\u001b[0;34m,\u001b[0m\u001b[0mepsabs\u001b[0m\u001b[0;34m,\u001b[0m\u001b[0mepsrel\u001b[0m\u001b[0;34m,\u001b[0m\u001b[0mlimit\u001b[0m\u001b[0;34m)\u001b[0m\u001b[0;34m\u001b[0m\u001b[0m\n\u001b[0m\u001b[1;32m    389\u001b[0m         \u001b[0;32melse\u001b[0m\u001b[0;34m:\u001b[0m\u001b[0;34m\u001b[0m\u001b[0m\n\u001b[1;32m    390\u001b[0m             \u001b[0;32mreturn\u001b[0m \u001b[0m_quadpack\u001b[0m\u001b[0;34m.\u001b[0m\u001b[0m_qagie\u001b[0m\u001b[0;34m(\u001b[0m\u001b[0mfunc\u001b[0m\u001b[0;34m,\u001b[0m\u001b[0mbound\u001b[0m\u001b[0;34m,\u001b[0m\u001b[0minfbounds\u001b[0m\u001b[0;34m,\u001b[0m\u001b[0margs\u001b[0m\u001b[0;34m,\u001b[0m\u001b[0mfull_output\u001b[0m\u001b[0;34m,\u001b[0m\u001b[0mepsabs\u001b[0m\u001b[0;34m,\u001b[0m\u001b[0mepsrel\u001b[0m\u001b[0;34m,\u001b[0m\u001b[0mlimit\u001b[0m\u001b[0;34m)\u001b[0m\u001b[0;34m\u001b[0m\u001b[0m\n",
      "\u001b[0;32m/Users/carguelles/Library/Python/2.7/lib/python/site-packages/scipy/integrate/quadpack.pyc\u001b[0m in \u001b[0;36mintegrate\u001b[0;34m(self, *args, **kwargs)\u001b[0m\n\u001b[1;32m    767\u001b[0m             \u001b[0mf\u001b[0m \u001b[0;34m=\u001b[0m \u001b[0mpartial\u001b[0m\u001b[0;34m(\u001b[0m\u001b[0mself\u001b[0m\u001b[0;34m.\u001b[0m\u001b[0mintegrate\u001b[0m\u001b[0;34m,\u001b[0m \u001b[0mdepth\u001b[0m\u001b[0;34m=\u001b[0m\u001b[0mdepth\u001b[0m\u001b[0;34m+\u001b[0m\u001b[0;36m1\u001b[0m\u001b[0;34m)\u001b[0m\u001b[0;34m\u001b[0m\u001b[0m\n\u001b[1;32m    768\u001b[0m         quad_r = quad(f, low, high, args=args, full_output=self.full_output,\n\u001b[0;32m--> 769\u001b[0;31m                       **opt)\n\u001b[0m\u001b[1;32m    770\u001b[0m         \u001b[0mvalue\u001b[0m \u001b[0;34m=\u001b[0m \u001b[0mquad_r\u001b[0m\u001b[0;34m[\u001b[0m\u001b[0;36m0\u001b[0m\u001b[0;34m]\u001b[0m\u001b[0;34m\u001b[0m\u001b[0m\n\u001b[1;32m    771\u001b[0m         \u001b[0mabserr\u001b[0m \u001b[0;34m=\u001b[0m \u001b[0mquad_r\u001b[0m\u001b[0;34m[\u001b[0m\u001b[0;36m1\u001b[0m\u001b[0;34m]\u001b[0m\u001b[0;34m\u001b[0m\u001b[0m\n",
      "\u001b[0;32m/Users/carguelles/Library/Python/2.7/lib/python/site-packages/scipy/integrate/quadpack.pyc\u001b[0m in \u001b[0;36mquad\u001b[0;34m(func, a, b, args, full_output, epsabs, epsrel, limit, points, weight, wvar, wopts, maxp1, limlst)\u001b[0m\n\u001b[1;32m    321\u001b[0m     \u001b[0;32mif\u001b[0m \u001b[0;34m(\u001b[0m\u001b[0mweight\u001b[0m \u001b[0;32mis\u001b[0m \u001b[0mNone\u001b[0m\u001b[0;34m)\u001b[0m\u001b[0;34m:\u001b[0m\u001b[0;34m\u001b[0m\u001b[0m\n\u001b[1;32m    322\u001b[0m         retval = _quad(func, a, b, args, full_output, epsabs, epsrel, limit,\n\u001b[0;32m--> 323\u001b[0;31m                        points)\n\u001b[0m\u001b[1;32m    324\u001b[0m     \u001b[0;32melse\u001b[0m\u001b[0;34m:\u001b[0m\u001b[0;34m\u001b[0m\u001b[0m\n\u001b[1;32m    325\u001b[0m         retval = _quad_weight(func, a, b, args, full_output, epsabs, epsrel,\n",
      "\u001b[0;32m/Users/carguelles/Library/Python/2.7/lib/python/site-packages/scipy/integrate/quadpack.pyc\u001b[0m in \u001b[0;36m_quad\u001b[0;34m(func, a, b, args, full_output, epsabs, epsrel, limit, points)\u001b[0m\n\u001b[1;32m    386\u001b[0m     \u001b[0;32mif\u001b[0m \u001b[0mpoints\u001b[0m \u001b[0;32mis\u001b[0m \u001b[0mNone\u001b[0m\u001b[0;34m:\u001b[0m\u001b[0;34m\u001b[0m\u001b[0m\n\u001b[1;32m    387\u001b[0m         \u001b[0;32mif\u001b[0m \u001b[0minfbounds\u001b[0m \u001b[0;34m==\u001b[0m \u001b[0;36m0\u001b[0m\u001b[0;34m:\u001b[0m\u001b[0;34m\u001b[0m\u001b[0m\n\u001b[0;32m--> 388\u001b[0;31m             \u001b[0;32mreturn\u001b[0m \u001b[0m_quadpack\u001b[0m\u001b[0;34m.\u001b[0m\u001b[0m_qagse\u001b[0m\u001b[0;34m(\u001b[0m\u001b[0mfunc\u001b[0m\u001b[0;34m,\u001b[0m\u001b[0ma\u001b[0m\u001b[0;34m,\u001b[0m\u001b[0mb\u001b[0m\u001b[0;34m,\u001b[0m\u001b[0margs\u001b[0m\u001b[0;34m,\u001b[0m\u001b[0mfull_output\u001b[0m\u001b[0;34m,\u001b[0m\u001b[0mepsabs\u001b[0m\u001b[0;34m,\u001b[0m\u001b[0mepsrel\u001b[0m\u001b[0;34m,\u001b[0m\u001b[0mlimit\u001b[0m\u001b[0;34m)\u001b[0m\u001b[0;34m\u001b[0m\u001b[0m\n\u001b[0m\u001b[1;32m    389\u001b[0m         \u001b[0;32melse\u001b[0m\u001b[0;34m:\u001b[0m\u001b[0;34m\u001b[0m\u001b[0m\n\u001b[1;32m    390\u001b[0m             \u001b[0;32mreturn\u001b[0m \u001b[0m_quadpack\u001b[0m\u001b[0;34m.\u001b[0m\u001b[0m_qagie\u001b[0m\u001b[0;34m(\u001b[0m\u001b[0mfunc\u001b[0m\u001b[0;34m,\u001b[0m\u001b[0mbound\u001b[0m\u001b[0;34m,\u001b[0m\u001b[0minfbounds\u001b[0m\u001b[0;34m,\u001b[0m\u001b[0margs\u001b[0m\u001b[0;34m,\u001b[0m\u001b[0mfull_output\u001b[0m\u001b[0;34m,\u001b[0m\u001b[0mepsabs\u001b[0m\u001b[0;34m,\u001b[0m\u001b[0mepsrel\u001b[0m\u001b[0;34m,\u001b[0m\u001b[0mlimit\u001b[0m\u001b[0;34m)\u001b[0m\u001b[0;34m\u001b[0m\u001b[0m\n",
      "\u001b[0;32m<ipython-input-149-05cd9c371b87>\u001b[0m in \u001b[0;36m<lambda>\u001b[0;34m(Ep, Enu)\u001b[0m\n\u001b[1;32m     49\u001b[0m \u001b[0;34m\u001b[0m\u001b[0m\n\u001b[1;32m     50\u001b[0m             RY_matrix[ihijo][ipadre] = integrate.dblquad(\n\u001b[0;32m---> 51\u001b[0;31m                                          \u001b[0;32mlambda\u001b[0m \u001b[0mEp\u001b[0m\u001b[0;34m,\u001b[0m\u001b[0mEnu\u001b[0m\u001b[0;34m:\u001b[0m \u001b[0;34m(\u001b[0m\u001b[0mdNdEE_Interpolator\u001b[0m\u001b[0;34m(\u001b[0m\u001b[0mEnu\u001b[0m\u001b[0;34m/\u001b[0m\u001b[0mEp\u001b[0m\u001b[0;34m)\u001b[0m\u001b[0;34m/\u001b[0m\u001b[0mEp\u001b[0m\u001b[0;34m)\u001b[0m\u001b[0;34m*\u001b[0m\u001b[0;34m(\u001b[0m\u001b[0;36m1.\u001b[0m\u001b[0;34m-\u001b[0m\u001b[0mcaca\u001b[0m\u001b[0;34m.\u001b[0m\u001b[0mMuonReachProbability\u001b[0m\u001b[0;34m(\u001b[0m\u001b[0;34m(\u001b[0m\u001b[0mEp\u001b[0m\u001b[0;34m-\u001b[0m\u001b[0mEnu\u001b[0m\u001b[0;34m)\u001b[0m\u001b[0;34m*\u001b[0m\u001b[0munits\u001b[0m\u001b[0;34m.\u001b[0m\u001b[0mGeV\u001b[0m\u001b[0;34m,\u001b[0m\u001b[0mice_distance\u001b[0m\u001b[0;34m)\u001b[0m\u001b[0;34m)\u001b[0m\u001b[0;34m,\u001b[0m\u001b[0;34m\u001b[0m\u001b[0m\n\u001b[0m\u001b[1;32m     52\u001b[0m                                          \u001b[0mEnuMin\u001b[0m\u001b[0;34m,\u001b[0m\u001b[0mEnuMax\u001b[0m\u001b[0;34m,\u001b[0m\u001b[0;34m\u001b[0m\u001b[0m\n\u001b[1;32m     53\u001b[0m                                          \u001b[0;32mlambda\u001b[0m \u001b[0mEnu\u001b[0m\u001b[0;34m:\u001b[0m \u001b[0mnp\u001b[0m\u001b[0;34m.\u001b[0m\u001b[0mmax\u001b[0m\u001b[0;34m(\u001b[0m\u001b[0;34m[\u001b[0m\u001b[0mEnu\u001b[0m\u001b[0;34m,\u001b[0m\u001b[0mEpMin\u001b[0m\u001b[0;34m]\u001b[0m\u001b[0;34m)\u001b[0m\u001b[0;34m,\u001b[0m \u001b[0;32mlambda\u001b[0m \u001b[0mEnu\u001b[0m\u001b[0;34m:\u001b[0m \u001b[0mEpMax\u001b[0m\u001b[0;34m,\u001b[0m \u001b[0mepsabs\u001b[0m \u001b[0;34m=\u001b[0m \u001b[0;36m0\u001b[0m\u001b[0;34m,\u001b[0m \u001b[0mepsrel\u001b[0m \u001b[0;34m=\u001b[0m \u001b[0;36m1.e-2\u001b[0m\u001b[0;34m\u001b[0m\u001b[0m\n",
      "\u001b[0;32m/Users/carguelles/Library/Python/2.7/lib/python/site-packages/scipy/interpolate/polyint.pyc\u001b[0m in \u001b[0;36m__call__\u001b[0;34m(self, x)\u001b[0m\n\u001b[1;32m     77\u001b[0m         \"\"\"\n\u001b[1;32m     78\u001b[0m         \u001b[0mx\u001b[0m\u001b[0;34m,\u001b[0m \u001b[0mx_shape\u001b[0m \u001b[0;34m=\u001b[0m \u001b[0mself\u001b[0m\u001b[0;34m.\u001b[0m\u001b[0m_prepare_x\u001b[0m\u001b[0;34m(\u001b[0m\u001b[0mx\u001b[0m\u001b[0;34m)\u001b[0m\u001b[0;34m\u001b[0m\u001b[0m\n\u001b[0;32m---> 79\u001b[0;31m         \u001b[0my\u001b[0m \u001b[0;34m=\u001b[0m \u001b[0mself\u001b[0m\u001b[0;34m.\u001b[0m\u001b[0m_evaluate\u001b[0m\u001b[0;34m(\u001b[0m\u001b[0mx\u001b[0m\u001b[0;34m)\u001b[0m\u001b[0;34m\u001b[0m\u001b[0m\n\u001b[0m\u001b[1;32m     80\u001b[0m         \u001b[0;32mreturn\u001b[0m \u001b[0mself\u001b[0m\u001b[0;34m.\u001b[0m\u001b[0m_finish_y\u001b[0m\u001b[0;34m(\u001b[0m\u001b[0my\u001b[0m\u001b[0;34m,\u001b[0m \u001b[0mx_shape\u001b[0m\u001b[0;34m)\u001b[0m\u001b[0;34m\u001b[0m\u001b[0m\n\u001b[1;32m     81\u001b[0m \u001b[0;34m\u001b[0m\u001b[0m\n",
      "\u001b[0;32m/Users/carguelles/Library/Python/2.7/lib/python/site-packages/scipy/interpolate/interpolate.pyc\u001b[0m in \u001b[0;36m_evaluate\u001b[0;34m(self, x_new)\u001b[0m\n\u001b[1;32m    608\u001b[0m         \u001b[0my_new\u001b[0m \u001b[0;34m=\u001b[0m \u001b[0mself\u001b[0m\u001b[0;34m.\u001b[0m\u001b[0m_call\u001b[0m\u001b[0;34m(\u001b[0m\u001b[0mself\u001b[0m\u001b[0;34m,\u001b[0m \u001b[0mx_new\u001b[0m\u001b[0;34m)\u001b[0m\u001b[0;34m\u001b[0m\u001b[0m\n\u001b[1;32m    609\u001b[0m         \u001b[0;32mif\u001b[0m \u001b[0;32mnot\u001b[0m \u001b[0mself\u001b[0m\u001b[0;34m.\u001b[0m\u001b[0m_extrapolate\u001b[0m\u001b[0;34m:\u001b[0m\u001b[0;34m\u001b[0m\u001b[0m\n\u001b[0;32m--> 610\u001b[0;31m             \u001b[0mbelow_bounds\u001b[0m\u001b[0;34m,\u001b[0m \u001b[0mabove_bounds\u001b[0m \u001b[0;34m=\u001b[0m \u001b[0mself\u001b[0m\u001b[0;34m.\u001b[0m\u001b[0m_check_bounds\u001b[0m\u001b[0;34m(\u001b[0m\u001b[0mx_new\u001b[0m\u001b[0;34m)\u001b[0m\u001b[0;34m\u001b[0m\u001b[0m\n\u001b[0m\u001b[1;32m    611\u001b[0m             \u001b[0;32mif\u001b[0m \u001b[0mlen\u001b[0m\u001b[0;34m(\u001b[0m\u001b[0my_new\u001b[0m\u001b[0;34m)\u001b[0m \u001b[0;34m>\u001b[0m \u001b[0;36m0\u001b[0m\u001b[0;34m:\u001b[0m\u001b[0;34m\u001b[0m\u001b[0m\n\u001b[1;32m    612\u001b[0m                 \u001b[0;31m# Note fill_value must be broadcast up to the proper size\u001b[0m\u001b[0;34m\u001b[0m\u001b[0;34m\u001b[0m\u001b[0m\n",
      "\u001b[0;32m/Users/carguelles/Library/Python/2.7/lib/python/site-packages/scipy/interpolate/interpolate.pyc\u001b[0m in \u001b[0;36m_check_bounds\u001b[0;34m(self, x_new)\u001b[0m\n\u001b[1;32m    633\u001b[0m         \u001b[0;31m# which values are outside the boundary region.\u001b[0m\u001b[0;34m\u001b[0m\u001b[0;34m\u001b[0m\u001b[0m\n\u001b[1;32m    634\u001b[0m         \u001b[0mbelow_bounds\u001b[0m \u001b[0;34m=\u001b[0m \u001b[0mx_new\u001b[0m \u001b[0;34m<\u001b[0m \u001b[0mself\u001b[0m\u001b[0;34m.\u001b[0m\u001b[0mx\u001b[0m\u001b[0;34m[\u001b[0m\u001b[0;36m0\u001b[0m\u001b[0;34m]\u001b[0m\u001b[0;34m\u001b[0m\u001b[0m\n\u001b[0;32m--> 635\u001b[0;31m         \u001b[0mabove_bounds\u001b[0m \u001b[0;34m=\u001b[0m \u001b[0mx_new\u001b[0m \u001b[0;34m>\u001b[0m \u001b[0mself\u001b[0m\u001b[0;34m.\u001b[0m\u001b[0mx\u001b[0m\u001b[0;34m[\u001b[0m\u001b[0;34m-\u001b[0m\u001b[0;36m1\u001b[0m\u001b[0;34m]\u001b[0m\u001b[0;34m\u001b[0m\u001b[0m\n\u001b[0m\u001b[1;32m    636\u001b[0m \u001b[0;34m\u001b[0m\u001b[0m\n\u001b[1;32m    637\u001b[0m         \u001b[0;31m# !! Could provide more information about which values are out of bounds\u001b[0m\u001b[0;34m\u001b[0m\u001b[0;34m\u001b[0m\u001b[0m\n",
      "\u001b[0;31mKeyboardInterrupt\u001b[0m: "
     ]
    }
   ],
   "source": [
    "GetReachingRescaledYields(1,dNdEE_KaonInterpolator)"
   ]
  },
  {
   "cell_type": "code",
   "execution_count": 4,
   "metadata": {
    "collapsed": true
   },
   "outputs": [],
   "source": [
    "Units=units\n",
    "e_grid=caca.mceq_run.e_grid\n",
    "delta=np.diff(e_grid)\n",
    "delta=np.insert(delta,0,delta[0])\n",
    "ihijo =20;\n",
    "x_range = (e_grid/e_grid[ihijo])**-1\n",
    "dNdEE = caca.mceq_run.ds.get_d_matrix(caca.ParticleProperties.pdg_id[\"kaon\"],14)[ihijo]*e_grid/delta\n",
    "end_value = dNdEE[(x_range<=1.) & (x_range>=1.0e-3)][-1]\n",
    "dNdEE_KaonInterpolator = interpolate.interp1d(x_range[(x_range<=1.) & (x_range>=1.e-3)],\n",
    "                     dNdEE[(x_range<=1.) & (x_range>=1.e-3)],\n",
    "                     bounds_error = False, fill_value = (end_value,0.0))\n",
    "\n",
    "x_range = (e_grid/e_grid[ihijo])**-1\n",
    "dNdEE = caca.mceq_run.ds.get_d_matrix(caca.ParticleProperties.pdg_id[\"pion\"],14)[ihijo]*e_grid/delta\n",
    "end_value = dNdEE[(x_range<=1.) & (x_range>=1.0e-3)][-1]\n",
    "dNdEE_PionInterpolator = interpolate.interp1d(x_range[(x_range<=1.) & (x_range>=1.e-3)],\n",
    "                     dNdEE[(x_range<=1.) & (x_range>=1.e-3)],\n",
    "                     bounds_error = False, fill_value = (end_value,0.0))\n",
    "\n",
    "x_range = (e_grid/e_grid[ihijo])**-1\n",
    "dNdEE = caca.mceq_run.ds.get_d_matrix(411,14)[ihijo]*e_grid/delta\n",
    "end_value = dNdEE[(x_range<=1.) & (x_range>=1.0e-3)][-1]\n",
    "dNdEE_DInterpolator = interpolate.interp1d(x_range[(x_range<=1.) & (x_range>=1.e-3)],\n",
    "                     dNdEE[(x_range<=1.) & (x_range>=1.e-3)],\n",
    "                     bounds_error = False, fill_value = (end_value,0.0))\n",
    "\n",
    "def GetMeanMuonReachProbability(EnuMin,EnuMax,EpMin,EpMax,ice_distance):\n",
    "    return integrate.dblquad(\n",
    "                             lambda Ep,Enu: caca.MuonReachProbability((Ep-Enu)*units.GeV,ice_distance),\n",
    "                             EnuMin,EnuMax,\n",
    "                             lambda Enu: np.max([Enu,EpMin]), lambda Enu: EpMax\n",
    "                             )[0]/((EpMax-EpMin)*(EnuMax-EnuMin))\n",
    "                      \n",
    "def GetReachingMatrix(costh):\n",
    "    ice_distance=utils.overburden(costh)\n",
    "    PR_matrix=np.ones((len(e_grid),len(e_grid)))\n",
    "    for ipadre in tqdm.tqdm(range(len(e_grid))):\n",
    "        for ihijo in range(len(e_grid)):\n",
    "            EnuMin = e_grid[ihijo-1]\n",
    "            EnuMax = e_grid[ihijo]\n",
    "            EpMin = e_grid[ipadre-1]\n",
    "            EpMax = e_grid[ipadre]\n",
    "            \n",
    "            #PR_matrix[ihijo][ipadre] = 1.-caca.MuonReachProbability((e_grid[ipadre]-e_grid[ihijo])*units.GeV,ice_distance)\n",
    "            PR_matrix[ihijo][ipadre] = 1. - GetMeanMuonReachProbability(EnuMin,EnuMax,EpMin,EpMax,ice_distance)\n",
    "            #if ihijo < ipadre:\n",
    "            #    PR_matrix[ihijo][ipadre] = 1.-caca.MuonReachProbability((e_grid[ipadre]-e_grid[ihijo])*units.GeV,ice_distance)\n",
    "            #elif ihijo > ipadre:\n",
    "            #    PR_matrix[ihijo][ipadre] = 0. # unphysical guy\n",
    "            #elif ihijo == ipadre:\n",
    "            #    continue\n",
    "            #    PR_matrix[ihijo][ipadre] = 1.-caca.MuonReachProbability((e_grid[ipadre])*units.GeV,ice_distance)\n",
    "    return PR_matrix\n",
    "\n",
    "def GetReachingRescaledYields(costh, dNdEE_Interpolator):\n",
    "    ice_distance=utils.overburden(costh)\n",
    "    RY_matrix=np.zeros((len(e_grid),len(e_grid)))\n",
    "    for ipadre in tqdm.tqdm(range(len(e_grid))):\n",
    "        for ihijo in range(len(e_grid)):\n",
    "            #print \"doing \" + str(ipadre) + \" \" + str(ihijo)\n",
    "            if ihijo > ipadre:\n",
    "                RY_matrix[ihijo][ipadre] = 0\n",
    "                continue\n",
    "                \n",
    "            if ihijo == 0 and ipadre == 0:\n",
    "                RY_matrix[ihijo][ipadre] = 0\n",
    "                continue\n",
    "                \n",
    "            EnuMin = e_grid[ihijo-1]\n",
    "            EnuMax = e_grid[ihijo]\n",
    "            EpMin = e_grid[ipadre-1]\n",
    "            EpMax = e_grid[ipadre]\n",
    "            \n",
    "            if ihijo == 0:\n",
    "                EnuMin = 10. # GeV \n",
    "                \n",
    "            if ipadre == 0:\n",
    "                EpMin = 10. # GeV\n",
    "\n",
    "            RY_matrix[ihijo][ipadre] = integrate.dblquad(\n",
    "                                         lambda Ep,Enu: (dNdEE_Interpolator(Enu/Ep)/Ep)*(1.-caca.MuonReachProbability((Ep-Enu)*units.GeV,ice_distance)),\n",
    "                                         EnuMin,EnuMax,\n",
    "                                         lambda Enu: np.max([Enu,EpMin]), lambda Enu: EpMax, epsabs = 0, epsrel = 1.e-2\n",
    "                                         )[0]/((EnuMax-EnuMin))\n",
    "    return RY_matrix\n",
    "\n",
    "def GetRescaledYields(costh, dNdEE_Interpolator):\n",
    "    ice_distance=utils.overburden(costh)\n",
    "    RY_matrix=np.zeros((len(e_grid),len(e_grid)))\n",
    "    for ipadre in tqdm.tqdm(range(len(e_grid))):\n",
    "        for ihijo in range(len(e_grid)):\n",
    "            #print \"doing \" + str(ipadre) + \" \" + str(ihijo)\n",
    "            if ihijo > ipadre:\n",
    "                RY_matrix[ihijo][ipadre] = 0\n",
    "                continue\n",
    "                \n",
    "            if ihijo == 0 and ipadre == 0:\n",
    "                RY_matrix[ihijo][ipadre] = 0\n",
    "                continue\n",
    "                \n",
    "            EnuMin = e_grid[ihijo-1]\n",
    "            EnuMax = e_grid[ihijo]\n",
    "            EpMin = e_grid[ipadre-1]\n",
    "            EpMax = e_grid[ipadre]\n",
    "            \n",
    "            if ihijo == 0:\n",
    "                EnuMin = 10. # GeV \n",
    "                \n",
    "            if ipadre == 0:\n",
    "                EpMin = 10. # GeV\n",
    "\n",
    "            RY_matrix[ihijo][ipadre] = integrate.dblquad(\n",
    "                                         lambda Ep,Enu: (dNdEE_Interpolator(Enu/Ep)/Ep),\n",
    "                                         EnuMin,EnuMax,\n",
    "                                         lambda Enu: np.max([Enu,EpMin]), lambda Enu: EpMax, epsabs = 0, epsrel = 1.e-2\n",
    "                                         )[0]/((EnuMax-EnuMin))\n",
    "    return RY_matrix\n",
    "    \n",
    "def GetPassingFraction(costh):\n",
    "    caca=cs.CorrelatedSelfVetoProbabilityCalculator(costh)\n",
    "    \n",
    "    print \"Calculating rescaled kaon yield\"\n",
    "    #KaonToNeutrinoYield=caca.mceq_run.ds.get_d_matrix(caca.ParticleProperties.pdg_id[\"kaon\"],14)\n",
    "    KaonToNeutrinoYield=GetRescaledYields(costh,dNdEE_KaonInterpolator)\n",
    "    rescale_kaon_decay_matrix=GetReachingRescaledYields(costh,dNdEE_KaonInterpolator)\n",
    "    print \"Calculating rescaled pion yield\"\n",
    "    #PionToNeutrinoYield=caca.mceq_run.ds.get_d_matrix(caca.ParticleProperties.pdg_id[\"pion\"],14)\n",
    "    PionToNeutrinoYield=GetRescaledYields(costh,dNdEE_PionInterpolator)\n",
    "    rescale_pion_decay_matrix=GetReachingRescaledYields(costh,dNdEE_PionInterpolator)\n",
    "    \n",
    "    passing_guy_numerator = np.zeros(len(caca.mceq_run.e_grid))\n",
    "    passing_guy_denominator = np.zeros(len(caca.mceq_run.e_grid))\n",
    "    \n",
    "    for idx,XX in enumerate(caca.Xvec):\n",
    "        if(idx >= len(caca.Xvec) -1): continue\n",
    "        height = caca.mceq_run.density_model.s_lX2h(np.log(caca.Xvec[idx]))*units.cm\n",
    "        deltah = (caca.mceq_run.density_model.s_lX2h(np.log(caca.Xvec[idx])) -\\\n",
    "                  caca.mceq_run.density_model.s_lX2h(np.log(caca.Xvec[idx+1])))*Units.cm\n",
    "        #if deltah>xmax:\n",
    "        #    xmax=deltah\n",
    "        # do for kaon\n",
    "        inv_decay_length_array = (caca.ParticleProperties.mass_dict[\"kaon\"]/caca.mceq_run.e_grid*units.GeV)*\\\n",
    "                                  (deltah/caca.ParticleProperties.lifetime_dict[\"kaon\"])\n",
    "        rescale_phi=inv_decay_length_array*caca.mceq_run.get_solution(\"K-\",0,idx)\n",
    "\n",
    "        passing_guy_numerator+=(np.dot(rescale_kaon_decay_matrix,rescale_phi))\n",
    "        passing_guy_denominator+=(np.dot(KaonToNeutrinoYield,rescale_phi))\n",
    "\n",
    "        # do for pion\n",
    "        inv_decay_length_array = (caca.ParticleProperties.mass_dict[\"pion\"]/caca.mceq_run.e_grid*units.GeV)*\\\n",
    "                                 (deltah/caca.ParticleProperties.lifetime_dict[\"pion\"])\n",
    "        rescale_phi=inv_decay_length_array*caca.mceq_run.get_solution(\"pi-\",0,idx)\n",
    "\n",
    "        passing_guy_numerator+=(np.dot(rescale_pion_decay_matrix,rescale_phi))\n",
    "        passing_guy_denominator+=(np.dot(PionToNeutrinoYield,rescale_phi))\n",
    "    return passing_guy_numerator/passing_guy_denominator\n",
    "\n"
   ]
  },
  {
   "cell_type": "code",
   "execution_count": 39,
   "metadata": {},
   "outputs": [
    {
     "data": {
      "text/plain": [
       "(0.0, 1.0)"
      ]
     },
     "execution_count": 39,
     "metadata": {},
     "output_type": "execute_result"
    },
    {
     "data": {
      "image/png": "[encoded data removed]",
      "text/plain": [
       "<matplotlib.figure.Figure at 0x1157f4e10>"
      ]
     },
     "metadata": {},
     "output_type": "display_data"
    }
   ],
   "source": [
    "fig = plt.figure(figsize=(6,5))\n",
    "\n",
    "costh = 0.6\n",
    "\n",
    "plt.plot(caca.mceq_run.e_grid,pfp[0], label = r\"$\\cos\\theta=\"+str(costh)+\"$\", color = \"red\")\n",
    "plt.plot(caca.mceq_run.e_grid,\n",
    "         [selfveto.correlated_passing_rate(enu,selfveto.minimum_muon_energy(selfveto.overburden(costh)),costh)\n",
    "          for enu in e_grid], ls = \"dashed\", color = \"red\")\n",
    "plt.semilogx()\n",
    "plt.title(\"Prompt\")\n",
    "plt.ylim(0.,1.)"
   ]
  },
  {
   "cell_type": "code",
   "execution_count": 46,
   "metadata": {},
   "outputs": [
    {
     "data": {
      "text/plain": [
       "array([[  1.44861800e-02,   2.57361102e-02,   3.51072545e-02, ...,\n",
       "          0.00000000e+00,   0.00000000e+00,   0.00000000e+00],\n",
       "       [  2.55298484e-03,   7.32178000e-03,   2.07345780e-02, ...,\n",
       "          0.00000000e+00,   0.00000000e+00,   0.00000000e+00],\n",
       "       [  3.25033286e-06,   9.62864165e-06,   7.21460000e-04, ...,\n",
       "          0.00000000e+00,   0.00000000e+00,   0.00000000e+00],\n",
       "       ..., \n",
       "       [  0.00000000e+00,   0.00000000e+00,   0.00000000e+00, ...,\n",
       "          7.54200000e-05,   3.63971340e-03,   1.22655755e-02],\n",
       "       [  0.00000000e+00,   0.00000000e+00,   0.00000000e+00, ...,\n",
       "          0.00000000e+00,   7.54200000e-05,   3.63971340e-03],\n",
       "       [  0.00000000e+00,   0.00000000e+00,   0.00000000e+00, ...,\n",
       "          0.00000000e+00,   0.00000000e+00,   7.54200000e-05]])"
      ]
     },
     "execution_count": 46,
     "metadata": {},
     "output_type": "execute_result"
    }
   ],
   "source": [
    "caca.mceq_run.ds.get_d_matrix(421,14)"
   ]
  },
  {
   "cell_type": "code",
   "execution_count": 44,
   "metadata": {},
   "outputs": [
    {
     "data": {
      "text/plain": [
       "array([[  0.00000000e+00,   0.00000000e+00,   0.00000000e+00, ...,\n",
       "          0.00000000e+00,   0.00000000e+00,   0.00000000e+00],\n",
       "       [  0.00000000e+00,   0.00000000e+00,   0.00000000e+00, ...,\n",
       "          0.00000000e+00,   0.00000000e+00,   0.00000000e+00],\n",
       "       [  0.00000000e+00,   0.00000000e+00,   0.00000000e+00, ...,\n",
       "          0.00000000e+00,   0.00000000e+00,   0.00000000e+00],\n",
       "       ..., \n",
       "       [  0.00000000e+00,   0.00000000e+00,   0.00000000e+00, ...,\n",
       "          0.00000000e+00,   0.00000000e+00,   4.20503783e-06],\n",
       "       [  0.00000000e+00,   0.00000000e+00,   0.00000000e+00, ...,\n",
       "          0.00000000e+00,   0.00000000e+00,   0.00000000e+00],\n",
       "       [  0.00000000e+00,   0.00000000e+00,   0.00000000e+00, ...,\n",
       "          0.00000000e+00,   0.00000000e+00,   0.00000000e+00]])"
      ]
     },
     "execution_count": 44,
     "metadata": {},
     "output_type": "execute_result"
    }
   ],
   "source": [
    "caca.mceq_run.y.get_y_matrix(2212,421)"
   ]
  },
  {
   "cell_type": "code",
   "execution_count": 84,
   "metadata": {},
   "outputs": [],
   "source": [
    "def GetPassingFractionPrompt(costh, include_subleading = True):\n",
    "    #caca=cs.CorrelatedSelfVetoProbabilityCalculator(costh,primary_cr_model=(pm.SimplePowerlaw27, None))\n",
    "    caca=cs.CorrelatedSelfVetoProbabilityCalculator(costh)\n",
    "    \n",
    "    print \"Calculating rescaled prompt yield\"\n",
    "    PR = GetReachingMatrix(costh)\n",
    "    \n",
    "    MetaYieldProtons=np.dot(caca.mceq_run.y.get_y_matrix(2212,411),caca.mceq_run.ds.get_d_matrix(411,14))\n",
    "    if include_subleading:\n",
    "        MetaYieldProtons+=np.dot(caca.mceq_run.y.get_y_matrix(2212,431),caca.mceq_run.ds.get_d_matrix(431,14))\n",
    "        MetaYieldProtons+=np.dot(caca.mceq_run.y.get_y_matrix(2212,421),caca.mceq_run.ds.get_d_matrix(421,14))\n",
    "        \n",
    "    MetaYieldAntiProtons=np.dot(caca.mceq_run.y.get_y_matrix(-2212,411),caca.mceq_run.ds.get_d_matrix(411,14))\n",
    "    if include_subleading:\n",
    "        MetaYieldAntiProtons+=np.dot(caca.mceq_run.y.get_y_matrix(-2212,431),caca.mceq_run.ds.get_d_matrix(431,14))\n",
    "        MetaYieldAntiProtons+=np.dot(caca.mceq_run.y.get_y_matrix(-2212,421),caca.mceq_run.ds.get_d_matrix(421,14))\n",
    "    \n",
    "    RescaledMetaYieldProtons=np.dot(MetaYieldProtons,PR)\n",
    "    RescaledMetaYieldAntiProtons=np.dot(MetaYieldAntiProtons,PR)\n",
    "    \n",
    "    passing_guy_numerator = np.zeros(len(caca.mceq_run.e_grid))\n",
    "    passing_guy_denominator = np.zeros(len(caca.mceq_run.e_grid))\n",
    "    \n",
    "    for idx,XX in enumerate(caca.Xvec):\n",
    "        if(idx >= len(caca.Xvec) -1): continue\n",
    "        height = caca.mceq_run.density_model.s_lX2h(np.log(caca.Xvec[idx]))*units.cm\n",
    "        deltah = (caca.mceq_run.density_model.s_lX2h(np.log(caca.Xvec[idx])) -\\\n",
    "                  caca.mceq_run.density_model.s_lX2h(np.log(caca.Xvec[idx+1])))*units.cm\n",
    "        # do prompt\n",
    "        #inv_decay_length_array = (caca.ParticleProperties.mass_dict[\"D\"]/(caca.mceq_run.e_grid*units.GeV))*\\\n",
    "        #                         (deltah/caca.ParticleProperties.lifetime_dict[\"D\"])\n",
    "            \n",
    "        inv_interaction_length_array = (caca.mceq_run.cs.get_cs(2212)*units.cm**2)/(caca.mceq_run.density_model.X2rho(XX)*units.cm**3*(units.GeV/units.gr))\n",
    "        \n",
    "        rescale_phi=inv_interaction_length_array*caca.mceq_run.get_solution(\"p\",0,idx)\n",
    "        rescale_phi[e_grid>1.e9] =0.\n",
    "        \n",
    "        passing_guy_numerator+=(np.dot(RescaledMetaYieldProtons,rescale_phi))\n",
    "        passing_guy_denominator+=(np.dot(MetaYieldProtons,rescale_phi))\n",
    "        \n",
    "        inv_interaction_length_array = (caca.mceq_run.cs.get_cs(-2212)*units.cm**2)/(caca.mceq_run.density_model.X2rho(XX)*units.cm**3*(units.GeV/units.gr))\n",
    "        \n",
    "        rescale_phi=inv_interaction_length_array*caca.mceq_run.get_solution(\"p-bar\",0,idx)\n",
    "        rescale_phi[e_grid>1.e9] =0.\n",
    "        \n",
    "        passing_guy_numerator+=(np.dot(RescaledMetaYieldAntiProtons,rescale_phi))\n",
    "        passing_guy_denominator+=(np.dot(MetaYieldAntiProtons,rescale_phi))\n",
    "        \n",
    "    return passing_guy_numerator/passing_guy_denominator,passing_guy_numerator,passing_guy_denominator"
   ]
  },
  {
   "cell_type": "code",
   "execution_count": 88,
   "metadata": {
    "scrolled": true
   },
   "outputs": [
    {
     "name": "stderr",
     "output_type": "stream",
     "text": [
      "\n",
      "  0%|          | 0/88 [00:00<?, ?it/s]\u001b[A\n",
      "  1%|          | 1/88 [00:00<00:19,  4.56it/s]\u001b[A\n",
      "  2%|▏         | 2/88 [00:00<00:18,  4.55it/s]\u001b[A\n",
      "  3%|▎         | 3/88 [00:00<00:18,  4.54it/s]\u001b[A\n",
      "  5%|▍         | 4/88 [00:00<00:18,  4.46it/s]\u001b[A\n",
      "  6%|▌         | 5/88 [00:01<00:18,  4.60it/s]\u001b[A\n",
      "  7%|▋         | 6/88 [00:01<00:17,  4.57it/s]\u001b[A\n",
      "  8%|▊         | 7/88 [00:01<00:16,  4.87it/s]\u001b[A\n",
      "  9%|▉         | 8/88 [00:01<00:17,  4.67it/s]\u001b[A\n",
      " 10%|█         | 9/88 [00:01<00:16,  4.78it/s]\u001b[A\n",
      " 11%|█▏        | 10/88 [00:02<00:16,  4.86it/s]\u001b[A\n",
      " 12%|█▎        | 11/88 [00:02<00:15,  4.99it/s]\u001b[A\n",
      " 14%|█▎        | 12/88 [00:02<00:15,  5.03it/s]\u001b[A\n",
      " 15%|█▍        | 13/88 [00:02<00:15,  4.73it/s]\u001b[A\n",
      " 16%|█▌        | 14/88 [00:02<00:15,  4.78it/s]\u001b[A\n",
      " 17%|█▋        | 15/88 [00:03<00:15,  4.62it/s]\u001b[A\n",
      " 18%|█▊        | 16/88 [00:03<00:14,  4.88it/s]\u001b[A\n",
      " 19%|█▉        | 17/88 [00:03<00:14,  4.88it/s]\u001b[A\n",
      " 20%|██        | 18/88 [00:03<00:15,  4.38it/s]\u001b[A\n",
      " 22%|██▏       | 19/88 [00:04<00:15,  4.41it/s]\u001b[A\n",
      " 23%|██▎       | 20/88 [00:04<00:15,  4.45it/s]\u001b[A\n",
      " 24%|██▍       | 21/88 [00:04<00:14,  4.47it/s]\u001b[A\n",
      " 25%|██▌       | 22/88 [00:04<00:14,  4.44it/s]\u001b[A\n",
      " 26%|██▌       | 23/88 [00:04<00:13,  4.65it/s]\u001b[A\n",
      " 27%|██▋       | 24/88 [00:05<00:14,  4.50it/s]\u001b[A\n",
      " 28%|██▊       | 25/88 [00:05<00:13,  4.79it/s]\u001b[A\n",
      " 30%|██▉       | 26/88 [00:05<00:12,  4.80it/s]\u001b[A\n",
      " 31%|███       | 27/88 [00:05<00:12,  4.83it/s]\u001b[A\n",
      " 32%|███▏      | 28/88 [00:05<00:12,  4.64it/s]\u001b[A\n",
      " 33%|███▎      | 29/88 [00:06<00:12,  4.55it/s]\u001b[A\n",
      " 34%|███▍      | 30/88 [00:06<00:12,  4.70it/s]\u001b[A\n",
      " 35%|███▌      | 31/88 [00:06<00:11,  4.89it/s]\u001b[A\n",
      "\n",
      " 36%|███▋      | 32/88 [00:06<00:11,  4.84it/s]\u001b[A\n",
      " 38%|███▊      | 33/88 [00:07<00:11,  4.69it/s]\u001b[A\n",
      " 39%|███▊      | 34/88 [00:07<00:11,  4.52it/s]\u001b[A\n",
      " 40%|███▉      | 35/88 [00:07<00:11,  4.47it/s]\u001b[A\n",
      " 41%|████      | 36/88 [00:07<00:11,  4.49it/s]\u001b[A\n",
      " 42%|████▏     | 37/88 [00:07<00:11,  4.53it/s]\u001b[A\n",
      " 43%|████▎     | 38/88 [00:08<00:11,  4.54it/s]\u001b[A\n",
      " 44%|████▍     | 39/88 [00:08<00:11,  4.37it/s]\u001b[A\n",
      " 45%|████▌     | 40/88 [00:08<00:11,  4.31it/s]\u001b[A\n",
      " 47%|████▋     | 41/88 [00:08<00:10,  4.38it/s]\u001b[A\n",
      " 48%|████▊     | 42/88 [00:09<00:10,  4.47it/s]\u001b[A\n",
      " 49%|████▉     | 43/88 [00:09<00:09,  4.56it/s]\u001b[A\n",
      " 50%|█████     | 44/88 [00:09<00:09,  4.64it/s]\u001b[A\n",
      " 51%|█████     | 45/88 [00:09<00:09,  4.63it/s]\u001b[A\n",
      " 52%|█████▏    | 46/88 [00:09<00:09,  4.59it/s]\u001b[A\n",
      " 53%|█████▎    | 47/88 [00:10<00:09,  4.51it/s]\u001b[A\n",
      " 55%|█████▍    | 48/88 [00:10<00:09,  4.42it/s]\u001b[A\n",
      " 56%|█████▌    | 49/88 [00:10<00:09,  4.32it/s]\u001b[A\n",
      " 57%|█████▋    | 50/88 [00:10<00:08,  4.51it/s]\u001b[A\n",
      " 58%|█████▊    | 51/88 [00:11<00:08,  4.51it/s]\u001b[A\n",
      " 59%|█████▉    | 52/88 [00:11<00:07,  4.60it/s]\u001b[A\n",
      " 60%|██████    | 53/88 [00:11<00:07,  4.46it/s]\u001b[A\n",
      " 61%|██████▏   | 54/88 [00:11<00:07,  4.36it/s]\u001b[A\n",
      " 62%|██████▎   | 55/88 [00:11<00:07,  4.42it/s]\u001b[A\n",
      " 64%|██████▎   | 56/88 [00:12<00:07,  4.40it/s]\u001b[A\n",
      " 65%|██████▍   | 57/88 [00:12<00:07,  4.23it/s]\u001b[A\n",
      " 66%|██████▌   | 58/88 [00:12<00:07,  4.24it/s]\u001b[A\n",
      " 67%|██████▋   | 59/88 [00:12<00:06,  4.44it/s]\u001b[A\n",
      " 68%|██████▊   | 60/88 [00:13<00:06,  4.39it/s]\u001b[A\n",
      " 69%|██████▉   | 61/88 [00:13<00:05,  4.52it/s]\u001b[A\n",
      " 70%|███████   | 62/88 [00:13<00:05,  4.41it/s]\u001b[A\n",
      " 72%|███████▏  | 63/88 [00:13<00:05,  4.51it/s]\u001b[A\n",
      " 73%|███████▎  | 64/88 [00:14<00:05,  4.38it/s]\u001b[A\n",
      " 74%|███████▍  | 65/88 [00:14<00:05,  4.36it/s]\u001b[A\n",
      " 75%|███████▌  | 66/88 [00:14<00:05,  4.30it/s]\u001b[A\n",
      " 76%|███████▌  | 67/88 [00:14<00:05,  4.01it/s]\u001b[A\n",
      " 77%|███████▋  | 68/88 [00:15<00:04,  4.12it/s]\u001b[A\n",
      " 78%|███████▊  | 69/88 [00:15<00:04,  4.11it/s]\u001b[A\n",
      " 80%|███████▉  | 70/88 [00:15<00:04,  4.15it/s]\u001b[A\n",
      " 81%|████████  | 71/88 [00:15<00:04,  4.24it/s]\u001b[A\n",
      " 82%|████████▏ | 72/88 [00:15<00:03,  4.15it/s]\u001b[A\n",
      " 83%|████████▎ | 73/88 [00:16<00:03,  4.28it/s]\u001b[A\n",
      " 84%|████████▍ | 74/88 [00:16<00:03,  4.38it/s]\u001b[A\n",
      " 85%|████████▌ | 75/88 [00:16<00:02,  4.39it/s]\u001b[A\n",
      " 86%|████████▋ | 76/88 [00:16<00:02,  4.20it/s]\u001b[A\n",
      " 88%|████████▊ | 77/88 [00:17<00:02,  4.36it/s]\u001b[A\n",
      " 89%|████████▊ | 78/88 [00:17<00:02,  4.25it/s]\u001b[A\n",
      " 90%|████████▉ | 79/88 [00:17<00:02,  4.45it/s]\u001b[A\n",
      " 91%|█████████ | 80/88 [00:17<00:01,  4.45it/s]\u001b[A\n",
      " 92%|█████████▏| 81/88 [00:18<00:01,  4.24it/s]\u001b[A\n",
      " 93%|█████████▎| 82/88 [00:18<00:01,  4.04it/s]\u001b[A\n",
      " 94%|█████████▍| 83/88 [00:18<00:01,  4.00it/s]\u001b[A\n",
      " 95%|█████████▌| 84/88 [00:18<00:00,  4.28it/s]\u001b[A\n",
      " 97%|█████████▋| 85/88 [00:19<00:00,  4.20it/s]\u001b[A\n",
      " 98%|█████████▊| 86/88 [00:19<00:00,  4.30it/s]\u001b[A\n",
      " 99%|█████████▉| 87/88 [00:19<00:00,  4.44it/s]\u001b[A\n",
      "100%|██████████| 88/88 [00:19<00:00,  4.30it/s]\u001b[A\n",
      "\u001b[A"
     ]
    },
    {
     "data": {
      "text/plain": [
       "array([[ 1.,  1.,  1., ...,  1.,  1.,  1.],\n",
       "       [ 1.,  1.,  1., ...,  1.,  1.,  1.],\n",
       "       [ 1.,  1.,  1., ...,  1.,  1.,  1.],\n",
       "       ..., \n",
       "       [ 1.,  1.,  1., ...,  1.,  1.,  1.],\n",
       "       [ 1.,  1.,  1., ...,  1.,  1.,  1.],\n",
       "       [ 1.,  1.,  1., ...,  1.,  1.,  1.]])"
      ]
     },
     "execution_count": 88,
     "metadata": {},
     "output_type": "execute_result"
    }
   ],
   "source": [
    "GetReachingMatrix(0.5)"
   ]
  },
  {
   "cell_type": "code",
   "execution_count": 85,
   "metadata": {
    "scrolled": true
   },
   "outputs": [
    {
     "name": "stdout",
     "output_type": "stream",
     "text": [
      "InteractionYields::_load(): Looking for /Users/carguelles/Library/Python/2.7/lib/python/site-packages/data/SIBYLL23C_yields_compact_ledpm.bz2\n",
      "DecayYields:_load():: Loading file /Users/carguelles/Library/Python/2.7/lib/python/site-packages/data/decays_v1_compact.ppd\n",
      "\n",
      "Hadrons and stable particles:\n",
      "\n",
      "\"gamma\", \"p\", \"p-bar\", \"n-bar\", \"n\"\n",
      "\n",
      "Mixed:\n",
      "\n",
      "\"pi-\", \"pi+\", \"K0L\", \"K-\", \"K+\", \"Lambda0\", \"Lambda0-bar\", \"K0S\", \n",
      "\"D+\", \"D-\", \"Ds+\", \"Ds-\", \"D0\", \"D0-bar\"\n",
      "\n",
      "Resonances:\n",
      "\n",
      "\n",
      "\n",
      "Leptons:\n",
      "\n",
      "\"e-\", \"nue\", \"numu\", \"nutau\", \"antinutau\", \"antinumu\", \"antinue\", \"e+\", \n",
      "\"mu-\", \"mu+\"\n",
      "\n",
      "Aliases:\n",
      "\"obs_numu\", \"obs_nutau\", \"pr_antinutau\", \"pr_antinumu\", \"pr_antinue\", \"obs_antinue\", \"k_nue\", \"k_numu\", \n",
      "\"k_nutau\", \"pi_antinutau\", \"pi_antinue\", \"pi_antinumu\", \"pi_nue\", \"pi_numu\", \"pi_nutau\", \"k_antinutau\", \n",
      "\"k_antinumu\", \"k_antinue\", \"obs_nue\", \"pr_nue\", \"pr_numu\", \"pr_nutau\", \"obs_antinutau\", \"obs_antinumu\", \n",
      "\"k_mu-\", \"obs_mu-\", \"pr_mu+\", \"pi_mu+\", \"pi_mu-\", \"k_mu+\", \"pr_mu-\", \"obs_mu+\"\n",
      "\n",
      "Total number of species: 61\n",
      "MCEqRun::set_interaction_model():  SIBYLL23C\n",
      "InteractionYields:set_interaction_model():: Model SIBYLL23C already loaded.\n",
      "InteractionYields:set_interaction_model():: Model SIBYLL23C already loaded.\n",
      "MCEqRun::_init_default_matrices():Start filling matrices. Skip_D_matrix = False\n",
      "MCEqRun::_convert_to_sparse():Converting to sparse (CSR) matrix format.\n",
      "C Matrix info:\n",
      "    density    : 3.42%\n",
      "    shape      : 5368 x 5368\n",
      "    nnz        : 984591\n",
      "D Matrix info:\n",
      "    density    : 1.11%\n",
      "    shape      : 5368 x 5368\n",
      "    nnz        : 318463\n",
      "MCEqRun::_init_default_matrices():Done filling matrices.\n",
      "MCEqRun::set_density_model():  CORSIKA ('BK_USStd', None)\n",
      "MCEqRun::set_theta_deg():  60.0\n",
      "CorsikaAtmosphere::calculate_density_spline(): Calculating spline of rho(X) for zenith 60.0 degrees.\n",
      ".. took 0.04s\n",
      "MCEqRun::set_primary_model():  HillasGaisser2012 H3a\n",
      "MCEqRun::_calculate_integration_path(): X_surface = 2060.60278351\n",
      "MCEqRun::_forward_euler(): Solver will perform 4704 integration steps.\n",
      "Performance:   0.72ms/iteration\n",
      "\n",
      "MCEqRun::_forward_euler(): time elapsed during integration: 3.42723703384 sec\n"
     ]
    },
    {
     "name": "stderr",
     "output_type": "stream",
     "text": [
      "\r",
      "  0%|          | 0/88 [00:00<?, ?it/s]"
     ]
    },
    {
     "name": "stdout",
     "output_type": "stream",
     "text": [
      "Calculating rescaled prompt yield\n"
     ]
    },
    {
     "name": "stderr",
     "output_type": "stream",
     "text": [
      "100%|██████████| 88/88 [00:17<00:00,  5.02it/s]\n",
      "/Users/carlos/Library/Python/2.7/lib/python/site-packages/ipykernel_launcher.py:48: RuntimeWarning: divide by zero encountered in divide\n",
      "/Users/carlos/Library/Python/2.7/lib/python/site-packages/ipykernel_launcher.py:48: RuntimeWarning: invalid value encountered in divide\n"
     ]
    },
    {
     "name": "stdout",
     "output_type": "stream",
     "text": [
      "InteractionYields::_load(): Looking for /Users/carguelles/Library/Python/2.7/lib/python/site-packages/data/SIBYLL23C_yields_compact_ledpm.bz2\n",
      "DecayYields:_load():: Loading file /Users/carguelles/Library/Python/2.7/lib/python/site-packages/data/decays_v1_compact.ppd\n",
      "\n",
      "Hadrons and stable particles:\n",
      "\n",
      "\"gamma\", \"p\", \"p-bar\", \"n-bar\", \"n\"\n",
      "\n",
      "Mixed:\n",
      "\n",
      "\"pi-\", \"pi+\", \"K0L\", \"K-\", \"K+\", \"Lambda0\", \"Lambda0-bar\", \"K0S\", \n",
      "\"D+\", \"D-\", \"Ds+\", \"Ds-\", \"D0\", \"D0-bar\"\n",
      "\n",
      "Resonances:\n",
      "\n",
      "\n",
      "\n",
      "Leptons:\n",
      "\n",
      "\"e-\", \"nue\", \"numu\", \"nutau\", \"antinutau\", \"antinumu\", \"antinue\", \"e+\", \n",
      "\"mu-\", \"mu+\"\n",
      "\n",
      "Aliases:\n",
      "\"obs_numu\", \"obs_nutau\", \"pr_antinutau\", \"pr_antinumu\", \"pr_antinue\", \"obs_antinue\", \"k_nue\", \"k_numu\", \n",
      "\"k_nutau\", \"pi_antinutau\", \"pi_antinue\", \"pi_antinumu\", \"pi_nue\", \"pi_numu\", \"pi_nutau\", \"k_antinutau\", \n",
      "\"k_antinumu\", \"k_antinue\", \"obs_nue\", \"pr_nue\", \"pr_numu\", \"pr_nutau\", \"obs_antinutau\", \"obs_antinumu\", \n",
      "\"k_mu-\", \"obs_mu-\", \"pr_mu+\", \"pi_mu+\", \"pi_mu-\", \"k_mu+\", \"pr_mu-\", \"obs_mu+\"\n",
      "\n",
      "Total number of species: 61\n",
      "MCEqRun::set_interaction_model():  SIBYLL23C\n",
      "InteractionYields:set_interaction_model():: Model SIBYLL23C already loaded.\n",
      "InteractionYields:set_interaction_model():: Model SIBYLL23C already loaded.\n",
      "MCEqRun::_init_default_matrices():Start filling matrices. Skip_D_matrix = False\n",
      "MCEqRun::_convert_to_sparse():Converting to sparse (CSR) matrix format.\n",
      "C Matrix info:\n",
      "    density    : 3.42%\n",
      "    shape      : 5368 x 5368\n",
      "    nnz        : 984591\n",
      "D Matrix info:\n",
      "    density    : 1.11%\n",
      "    shape      : 5368 x 5368\n",
      "    nnz        : 318463\n",
      "MCEqRun::_init_default_matrices():Done filling matrices.\n",
      "MCEqRun::set_density_model():  CORSIKA ('BK_USStd', None)\n",
      "MCEqRun::set_theta_deg():  60.0\n",
      "CorsikaAtmosphere::calculate_density_spline(): Calculating spline of rho(X) for zenith 60.0 degrees.\n",
      ".. took 0.04s\n",
      "MCEqRun::set_primary_model():  HillasGaisser2012 H3a\n",
      "MCEqRun::_calculate_integration_path(): X_surface = 2060.60278351\n",
      "MCEqRun::_forward_euler(): Solver will perform 4704 integration steps.\n",
      "Performance:   1.04ms/iteration\n",
      "\n",
      "MCEqRun::_forward_euler(): time elapsed during integration: 4.89201593399 sec\n"
     ]
    },
    {
     "name": "stderr",
     "output_type": "stream",
     "text": [
      "\r",
      "  0%|          | 0/88 [00:00<?, ?it/s]"
     ]
    },
    {
     "name": "stdout",
     "output_type": "stream",
     "text": [
      "Calculating rescaled prompt yield\n"
     ]
    },
    {
     "name": "stderr",
     "output_type": "stream",
     "text": [
      "100%|██████████| 88/88 [00:17<00:00,  5.48it/s]\n"
     ]
    }
   ],
   "source": [
    "guy1 = GetPassingFractionPrompt(0.5); guy2 = GetPassingFractionPrompt(0.5, include_subleading=False)"
   ]
  },
  {
   "cell_type": "code",
   "execution_count": 83,
   "metadata": {},
   "outputs": [
    {
     "data": {
      "text/plain": [
       "<matplotlib.legend.Legend at 0x11ea128d0>"
      ]
     },
     "execution_count": 83,
     "metadata": {},
     "output_type": "execute_result"
    },
    {
     "data": {
      "image/png": "[encoded data removed]",
      "text/plain": [
       "<matplotlib.figure.Figure at 0x11e859210>"
      ]
     },
     "metadata": {},
     "output_type": "display_data"
    }
   ],
   "source": [
    "plt.figure(figsize=(6,5))\n",
    "plt.title(\"Prompt calculations scomparison\")\n",
    "plt.plot(e_grid,guy1[0], ls = \"dashed\", label = r\"Si $D_s$\")\n",
    "#plt.plot(e_grid,guy1[2]/guy2[2], ls = \"dashed\", label = \"our integral formulae\")\n",
    "#plt.plot(e_grid,caca.mceq_run.get_solution(\"pr_numu\",0,0)/guy[2], ls = \"dashed\", label = \"our integral formulae\")\n",
    "\n",
    "plt.xlabel(r\"$E_\\nu$\")\n",
    "plt.ylabel(r\"$E^3 \\phi(E_\\nu) $\")\n",
    "#plt.ylim(1.0e-15,5.0e-6)\n",
    "#plt.axvline(2.e6)\n",
    "plt.xlim(1.e2,1.e9)\n",
    "#plt.ylim(1.e-8,2.e-4)\n",
    "plt.semilogx()\n",
    "plt.loglog()\n",
    "plt.legend(loc = \"upper right\")"
   ]
  },
  {
   "cell_type": "code",
   "execution_count": 49,
   "metadata": {},
   "outputs": [
    {
     "data": {
      "text/plain": [
       "<matplotlib.legend.Legend at 0x11c0d0190>"
      ]
     },
     "execution_count": 49,
     "metadata": {},
     "output_type": "execute_result"
    },
    {
     "data": {
      "image/png": "[encoded data removed]",
      "text/plain": [
       "<matplotlib.figure.Figure at 0x11d2168d0>"
      ]
     },
     "metadata": {},
     "output_type": "display_data"
    }
   ],
   "source": [
    "plt.figure(figsize=(6,5))\n",
    "plt.title(\"Prompt calculations scomparison\")\n",
    "plt.plot(e_grid,guy1[2]*e_grid**3*(units.cm**3)/10., ls = \"dashed\", label = r\"Si $D_s$\")\n",
    "plt.plot(e_grid,guy2[2]*e_grid**3*(units.cm**3)/10., ls = \"dashed\", label = r\"No $D_s$\")\n",
    "#plt.plot(e_grid,guy1[2]/guy2[2], ls = \"dashed\", label = \"our integral formulae\")\n",
    "#plt.plot(e_grid,caca.mceq_run.get_solution(\"pr_numu\",0,0)/guy[2], ls = \"dashed\", label = \"our integral formulae\")\n",
    "\n",
    "plt.xlabel(r\"$E_\\nu$\")\n",
    "plt.ylabel(r\"$E^3 \\phi(E_\\nu) $\")\n",
    "#plt.ylim(1.0e-15,5.0e-6)\n",
    "#plt.axvline(2.e6)\n",
    "plt.loglog()\n",
    "plt.xlim(1.e2,1.e9)\n",
    "plt.ylim(1.e-8,2.e-4)\n",
    "plt.semilogx()\n",
    "plt.legend(loc = \"upper right\")"
   ]
  },
  {
   "cell_type": "code",
   "execution_count": 53,
   "metadata": {},
   "outputs": [
    {
     "name": "stderr",
     "output_type": "stream",
     "text": [
      "/Users/carlos/Library/Python/2.7/lib/python/site-packages/ipykernel_launcher.py:3: RuntimeWarning: invalid value encountered in divide\n",
      "  This is separate from the ipykernel package so we can avoid doing imports until\n"
     ]
    },
    {
     "data": {
      "text/plain": [
       "<matplotlib.legend.Legend at 0x11d8f5dd0>"
      ]
     },
     "execution_count": 53,
     "metadata": {},
     "output_type": "execute_result"
    },
    {
     "data": {
      "image/png": "[encoded data removed]",
      "text/plain": [
       "<matplotlib.figure.Figure at 0x11d37e610>"
      ]
     },
     "metadata": {},
     "output_type": "display_data"
    }
   ],
   "source": [
    "plt.figure(figsize=(6,5))\n",
    "plt.title(\"Prompt calculations scomparison\")\n",
    "plt.plot(e_grid,guy1[2]/guy2[2], ls = \"dashed\", label = r\"Size of contribution of $D_s$\")\n",
    "#plt.plot(e_grid,caca.mceq_run.get_solution(\"pr_numu\",0,0)/guy[2], ls = \"dashed\", label = \"our integral formulae\")\n",
    "\n",
    "plt.xlabel(r\"$E_\\nu$\")\n",
    "plt.ylabel(r\"$E^3 \\phi(E_\\nu) $\")\n",
    "#plt.ylim(1.0e-15,5.0e-6)\n",
    "#plt.axvline(2.e6)\n",
    "#plt.loglog()\n",
    "plt.xlim(1.e2,1.e9)\n",
    "plt.ylim(1.,2.)\n",
    "plt.semilogx()\n",
    "plt.legend(loc = \"upper right\")"
   ]
  },
  {
   "cell_type": "code",
   "execution_count": 77,
   "metadata": {
    "scrolled": true
   },
   "outputs": [
    {
     "name": "stdout",
     "output_type": "stream",
     "text": [
      "InteractionYields::_load(): Looking for /Users/carguelles/Library/Python/2.7/lib/python/site-packages/data/SIBYLL23C_yields_compact_ledpm.bz2\n",
      "DecayYields:_load():: Loading file /Users/carguelles/Library/Python/2.7/lib/python/site-packages/data/decays_v1_compact.ppd\n",
      "\n",
      "Hadrons and stable particles:\n",
      "\n",
      "\"gamma\", \"p\", \"p-bar\", \"n-bar\", \"n\"\n",
      "\n",
      "Mixed:\n",
      "\n",
      "\"pi-\", \"pi+\", \"K0L\", \"K-\", \"K+\", \"Lambda0\", \"Lambda0-bar\", \"K0S\", \n",
      "\"D+\", \"D-\", \"Ds+\", \"Ds-\", \"D0\", \"D0-bar\"\n",
      "\n",
      "Resonances:\n",
      "\n",
      "\n",
      "\n",
      "Leptons:\n",
      "\n",
      "\"e-\", \"nue\", \"numu\", \"nutau\", \"antinutau\", \"antinumu\", \"antinue\", \"e+\", \n",
      "\"mu-\", \"mu+\"\n",
      "\n",
      "Aliases:\n",
      "\"obs_numu\", \"obs_nutau\", \"pr_antinutau\", \"pr_antinumu\", \"pr_antinue\", \"obs_antinue\", \"k_nue\", \"k_numu\", \n",
      "\"k_nutau\", \"pi_antinutau\", \"pi_antinue\", \"pi_antinumu\", \"pi_nue\", \"pi_numu\", \"pi_nutau\", \"k_antinutau\", \n",
      "\"k_antinumu\", \"k_antinue\", \"obs_nue\", \"pr_nue\", \"pr_numu\", \"pr_nutau\", \"obs_antinutau\", \"obs_antinumu\", \n",
      "\"k_mu-\", \"obs_mu-\", \"pr_mu+\", \"pi_mu+\", \"pi_mu-\", \"k_mu+\", \"pr_mu-\", \"obs_mu+\"\n",
      "\n",
      "Total number of species: 61\n",
      "MCEqRun::set_interaction_model():  SIBYLL23C\n",
      "InteractionYields:set_interaction_model():: Model SIBYLL23C already loaded.\n",
      "InteractionYields:set_interaction_model():: Model SIBYLL23C already loaded.\n",
      "MCEqRun::_init_default_matrices():Start filling matrices. Skip_D_matrix = False\n",
      "MCEqRun::_convert_to_sparse():Converting to sparse (CSR) matrix format.\n",
      "C Matrix info:\n",
      "    density    : 3.42%\n",
      "    shape      : 5368 x 5368\n",
      "    nnz        : 984591\n",
      "D Matrix info:\n",
      "    density    : 1.11%\n",
      "    shape      : 5368 x 5368\n",
      "    nnz        : 318463\n",
      "MCEqRun::_init_default_matrices():Done filling matrices.\n",
      "MCEqRun::set_density_model():  CORSIKA ('BK_USStd', None)\n",
      "MCEqRun::set_theta_deg():  60.0\n",
      "CorsikaAtmosphere::calculate_density_spline(): Calculating spline of rho(X) for zenith 60.0 degrees.\n",
      ".. took 0.03s\n",
      "MCEqRun::set_primary_model():  HillasGaisser2012 H3a\n",
      "MCEqRun::_calculate_integration_path(): X_surface = 2060.60278351\n",
      "MCEqRun::_forward_euler(): Solver will perform 4704 integration steps.\n",
      "Performance:   0.71ms/iteration\n",
      "\n",
      "MCEqRun::_forward_euler(): time elapsed during integration: 3.35791897774 sec\n"
     ]
    },
    {
     "name": "stderr",
     "output_type": "stream",
     "text": [
      "  1%|          | 1/88 [00:00<00:16,  5.40it/s]"
     ]
    },
    {
     "name": "stdout",
     "output_type": "stream",
     "text": [
      "Calculating rescaled prompt yield\n"
     ]
    },
    {
     "name": "stderr",
     "output_type": "stream",
     "text": [
      "100%|██████████| 88/88 [00:16<00:00,  5.35it/s]\n",
      "/Users/carlos/Library/Python/2.7/lib/python/site-packages/ipykernel_launcher.py:46: RuntimeWarning: divide by zero encountered in divide\n",
      "/Users/carlos/Library/Python/2.7/lib/python/site-packages/ipykernel_launcher.py:46: RuntimeWarning: invalid value encountered in divide\n"
     ]
    }
   ],
   "source": [
    "guy = GetPassingFractionPrompt(0.5)"
   ]
  },
  {
   "cell_type": "code",
   "execution_count": 37,
   "metadata": {},
   "outputs": [
    {
     "data": {
      "text/plain": [
       "[]"
      ]
     },
     "execution_count": 37,
     "metadata": {},
     "output_type": "execute_result"
    },
    {
     "data": {
      "image/png": "[encoded data removed]",
      "text/plain": [
       "<matplotlib.figure.Figure at 0x105c57f50>"
      ]
     },
     "metadata": {},
     "output_type": "display_data"
    }
   ],
   "source": [
    "plt.plot(e_grid,guy[0], ls = \"dashed\", label = \"our integral formulae\")\n",
    "plt.ylim(0,1)\n",
    "plt.semilogx()"
   ]
  },
  {
   "cell_type": "code",
   "execution_count": 72,
   "metadata": {},
   "outputs": [
    {
     "data": {
      "text/plain": [
       "<matplotlib.legend.Legend at 0x11e180f50>"
      ]
     },
     "execution_count": 72,
     "metadata": {},
     "output_type": "execute_result"
    },
    {
     "data": {
      "image/png": "[encoded data removed]",
      "text/plain": [
       "<matplotlib.figure.Figure at 0x11e134850>"
      ]
     },
     "metadata": {},
     "output_type": "display_data"
    }
   ],
   "source": [
    "plt.figure(figsize=(6,5))\n",
    "plt.title(\"Prompt calculations scomparison\")\n",
    "plt.plot(e_grid,guy[2]*e_grid**3*(units.cm**3)/10., ls = \"dashed\", label = \"our integral formulae\")\n",
    "plt.plot(e_grid,caca.mceq_run.get_solution(\"pr_numu\",0,0)*e_grid**3, label = \"Direct-MCeq\")\n",
    "#plt.plot(e_grid,caca.mceq_run.get_solution(\"pr_numu\",0,0)/guy[2], ls = \"dashed\", label = \"our integral formulae\")\n",
    "\n",
    "plt.xlabel(r\"$E_\\nu$\")\n",
    "plt.ylabel(r\"$E^3 \\phi(E_\\nu) $\")\n",
    "#plt.ylim(1.0e-15,5.0e-6)\n",
    "#plt.axvline(2.e6)\n",
    "plt.loglog()\n",
    "plt.xlim(1.e2,1.e9)\n",
    "plt.ylim(1.e-8,2.e-4)\n",
    "plt.semilogx()\n",
    "plt.legend(loc = \"upper right\")"
   ]
  },
  {
   "cell_type": "code",
   "execution_count": 73,
   "metadata": {},
   "outputs": [
    {
     "data": {
      "text/plain": [
       "<matplotlib.legend.Legend at 0x11e5969d0>"
      ]
     },
     "execution_count": 73,
     "metadata": {},
     "output_type": "execute_result"
    },
    {
     "data": {
      "image/png": "[encoded data removed]",
      "text/plain": [
       "<matplotlib.figure.Figure at 0x11e5973d0>"
      ]
     },
     "metadata": {},
     "output_type": "display_data"
    }
   ],
   "source": [
    "plt.figure(figsize=(6,5))\n",
    "plt.title(\"Prompt calculations comparison\")\n",
    "plt.plot(e_grid,guy[2]*e_grid**3*(units.cm**3)/1.3/10., ls = \"dashed\", label = \"our integral formulae\")\n",
    "plt.plot(e_grid,caca.mceq_run.get_solution(\"pr_numu\",0,0)*e_grid**3, label = \"Direct-MCeq\")\n",
    "plt.xlabel(r\"$E_\\nu$\")\n",
    "plt.ylabel(r\"$E^3 \\phi(E_\\nu) $\")\n",
    "#plt.ylim(1.0e-15,1.0e-4)\n",
    "plt.ylim(1.0e-11,1.0e-3)\n",
    "plt.axvline(2.e6)\n",
    "plt.loglog()\n",
    "plt.legend(loc = \"lower left\")"
   ]
  },
  {
   "cell_type": "code",
   "execution_count": 74,
   "metadata": {},
   "outputs": [
    {
     "data": {
      "text/plain": [
       "<matplotlib.legend.Legend at 0x11e508550>"
      ]
     },
     "execution_count": 74,
     "metadata": {},
     "output_type": "execute_result"
    },
    {
     "data": {
      "image/png": "[encoded data removed]",
      "text/plain": [
       "<matplotlib.figure.Figure at 0x11e496950>"
      ]
     },
     "metadata": {},
     "output_type": "display_data"
    }
   ],
   "source": [
    "plt.figure(figsize=(6,5))\n",
    "plt.title(\"Prompt calculations comparison\")\n",
    "plt.plot(e_grid,(guy[2]*(units.cm**3)/2./10.)/(caca.mceq_run.get_solution(\"pr_numu\",0,0)),\n",
    "         ls = \"dashed\", label = \"Ratio\")\n",
    "plt.xlabel(r\"$E_\\nu$\")\n",
    "plt.ylabel(r\"$E^3 \\phi(E_\\nu) $\")\n",
    "#plt.ylim(1.0e-15,1.0e-4)\n",
    "plt.ylim(0.8,1.2)\n",
    "plt.axvline(2.e6)\n",
    "plt.semilogx()\n",
    "plt.legend(loc = \"lower left\")"
   ]
  },
  {
   "cell_type": "code",
   "execution_count": 27,
   "metadata": {},
   "outputs": [
    {
     "data": {
      "text/plain": [
       "<matplotlib.legend.Legend at 0x1154d9210>"
      ]
     },
     "execution_count": 27,
     "metadata": {},
     "output_type": "execute_result"
    },
    {
     "data": {
      "image/png": "[encoded data removed]",
      "text/plain": [
       "<matplotlib.figure.Figure at 0x11541c710>"
      ]
     },
     "metadata": {},
     "output_type": "display_data"
    }
   ],
   "source": [
    "plt.figure(figsize=(6,5))\n",
    "plt.title(\"Prompt calculations comparison\")\n",
    "\n",
    "y0 = guy[2]*e_grid**3*(units.cm**3)\n",
    "y1 = caca.mceq_run.get_solution(\"pr_numu\",0,0)*e_grid**3\n",
    "plt.plot(e_grid,y0/y1, ls = \"dashed\", label = \"ratio\")\n",
    "#plt.plot(e_grid,caca.mceq_run.get_solution(\"pr_numu\",0,0)*e_grid**3, label = \"Direct-MCeq\")\n",
    "plt.xlabel(r\"$E_\\nu$\")\n",
    "plt.ylabel(r\"$E^3 \\phi(E_\\nu) $\")\n",
    "\n",
    "#plt.loglog()\n",
    "plt.semilogx()\n",
    "plt.ylim(0.8,1.2)\n",
    "plt.legend(loc = \"lower left\")"
   ]
  },
  {
   "cell_type": "code",
   "execution_count": null,
   "metadata": {
    "collapsed": true
   },
   "outputs": [],
   "source": [
    "x_range = (e_grid/e_grid[ihijo])**-1\n",
    "dNdEE = caca.mceq_run.ds.get_d_matrix(caca.ParticleProperties.pdg_id[\"kaon\"],14)[ihijo]*e_grid/delta\n",
    "end_value = dNdEE[(x_range<=1.) & (x_range>=1.0e-3)][-1]\n",
    "dNdEE_KaonInterpolator = interpolate.interp1d(x_range[(x_range<=1.) & (x_range>=1.e-3)],\n",
    "                     dNdEE[(x_range<=1.) & (x_range>=1.e-3)],\n",
    "                     bounds_error = False, fill_value = (end_value,0.0))"
   ]
  },
  {
   "cell_type": "code",
   "execution_count": 11,
   "metadata": {
    "collapsed": true
   },
   "outputs": [],
   "source": [
    "def GetMeanMuonReachProbability(EnuMin,EnuMax,EpMin,EpMax,ice_distance):\n",
    "    return integrate.dblquad(\n",
    "                             lambda Ep,Enu: caca.MuonReachProbability((Ep-Enu)*units.GeV,ice_distance),\n",
    "                             EnuMin,EnuMax,\n",
    "                             lambda Enu: np.max([Enu,EpMin]), lambda Enu: EpMax\n",
    "                             )[0]/((EpMax-EpMin)*(EnuMax-EnuMin))\n",
    "                      \n",
    "def GetReachingMatrix(costh):\n",
    "    ice_distance=utils.overburden(costh)\n",
    "    PR_matrix=np.ones((len(e_grid),len(e_grid)))\n",
    "    for ipadre in tqdm.tqdm(range(len(e_grid))):\n",
    "        for ihijo in range(len(e_grid)):\n",
    "            EnuMin = e_grid[ihijo-1]\n",
    "            EnuMax = e_grid[ihijo]\n",
    "            EpMin = e_grid[ipadre-1]\n",
    "            EpMax = e_grid[ipadre]\n",
    "            \n",
    "            PR_matrix[ihijo][ipadre] = 1.-caca.MuonReachProbability((e_grid[ipadre]-e_grid[ihijo])*units.GeV,ice_distance)\n",
    "            #PR_matrix[ihijo][ipadre] = 1. - GetMeanMuonReachProbability(EnuMin,EnuMax,EpMin,EpMax,ice_distance)\n",
    "            #if ihijo < ipadre:\n",
    "            #    PR_matrix[ihijo][ipadre] = 1.-caca.MuonReachProbability((e_grid[ipadre]-e_grid[ihijo])*units.GeV,ice_distance)\n",
    "            #elif ihijo > ipadre:\n",
    "            #    PR_matrix[ihijo][ipadre] = 0. # unphysical guy\n",
    "            #elif ihijo == ipadre:\n",
    "            #    continue\n",
    "            #    PR_matrix[ihijo][ipadre] = 1.-caca.MuonReachProbability((e_grid[ipadre])*units.GeV,ice_distance)\n",
    "    return PR_matrix"
   ]
  },
  {
   "cell_type": "code",
   "execution_count": 94,
   "metadata": {},
   "outputs": [
    {
     "data": {
      "text/plain": [
       "[]"
      ]
     },
     "execution_count": 94,
     "metadata": {},
     "output_type": "execute_result"
    },
    {
     "data": {
      "image/png": "[encoded data removed]",
      "text/plain": [
       "<matplotlib.figure.Figure at 0x1174788d0>"
      ]
     },
     "metadata": {},
     "output_type": "display_data"
    }
   ],
   "source": [
    "ihijo=1\n",
    "plt.plot(e_grid,\n",
    "         np.dot(caca.mceq_run.ds.get_d_matrix(411,14),caca.mceq_run.y.get_y_matrix(2212,411))[ihijo])\n",
    "ihijo=5\n",
    "plt.plot(e_grid,\n",
    "         np.dot(caca.mceq_run.ds.get_d_matrix(411,14),caca.mceq_run.y.get_y_matrix(2212,411))[ihijo])\n",
    "ihijo=20\n",
    "plt.plot(e_grid,\n",
    "         np.dot(caca.mceq_run.ds.get_d_matrix(411,14),caca.mceq_run.y.get_y_matrix(2212,411))[ihijo])\n",
    "ihijo=40\n",
    "plt.plot(e_grid,\n",
    "         np.dot(caca.mceq_run.ds.get_d_matrix(411,14),caca.mceq_run.y.get_y_matrix(2212,411))[ihijo])\n",
    "ihijo=50\n",
    "plt.plot(e_grid,\n",
    "         np.dot(caca.mceq_run.ds.get_d_matrix(411,14),caca.mceq_run.y.get_y_matrix(2212,411))[ihijo])\n",
    "ihijo=80\n",
    "plt.plot(e_grid,\n",
    "         np.dot(caca.mceq_run.ds.get_d_matrix(411,14),caca.mceq_run.y.get_y_matrix(2212,411))[ihijo])\n",
    "plt.loglog()"
   ]
  },
  {
   "cell_type": "code",
   "execution_count": 60,
   "metadata": {},
   "outputs": [
    {
     "ename": "TypeError",
     "evalue": "'InteractionYields' object has no attribute '__getitem__'",
     "output_type": "error",
     "traceback": [
      "\u001b[0;31m---------------------------------------------------------------------------\u001b[0m",
      "\u001b[0;31mTypeError\u001b[0m                                 Traceback (most recent call last)",
      "\u001b[0;32m<ipython-input-60-3c079df71010>\u001b[0m in \u001b[0;36m<module>\u001b[0;34m()\u001b[0m\n\u001b[0;32m----> 1\u001b[0;31m \u001b[0;32mprint\u001b[0m \u001b[0mcaca\u001b[0m\u001b[0;34m.\u001b[0m\u001b[0mmceq_run\u001b[0m\u001b[0;34m.\u001b[0m\u001b[0my\u001b[0m\u001b[0;34m[\u001b[0m\u001b[0;34m(\u001b[0m\u001b[0;36m2212\u001b[0m\u001b[0;34m,\u001b[0m\u001b[0;36m411\u001b[0m\u001b[0;34m)\u001b[0m\u001b[0;34m]\u001b[0m\u001b[0;34m\u001b[0m\u001b[0m\n\u001b[0m",
      "\u001b[0;31mTypeError\u001b[0m: 'InteractionYields' object has no attribute '__getitem__'"
     ]
    }
   ],
   "source": [
    "print caca.mceq_run.y[(2212,411)]"
   ]
  },
  {
   "cell_type": "code",
   "execution_count": null,
   "metadata": {
    "collapsed": true
   },
   "outputs": [],
   "source": [
    "print caca.mceq_run.y"
   ]
  },
  {
   "cell_type": "code",
   "execution_count": 55,
   "metadata": {
    "collapsed": true
   },
   "outputs": [],
   "source": [
    "caca.mceq_run.y?"
   ]
  },
  {
   "cell_type": "code",
   "execution_count": 52,
   "metadata": {},
   "outputs": [
    {
     "data": {
      "text/plain": [
       "array([[  3.64715800e-02,   6.55349506e-02,   8.93518896e-02, ...,\n",
       "          0.00000000e+00,   0.00000000e+00,   0.00000000e+00],\n",
       "       [  6.26302645e-03,   1.78536200e-02,   5.20949749e-02, ...,\n",
       "          0.00000000e+00,   0.00000000e+00,   0.00000000e+00],\n",
       "       [  3.20084682e-05,   9.49516048e-05,   1.59560000e-03, ...,\n",
       "          0.00000000e+00,   0.00000000e+00,   0.00000000e+00],\n",
       "       ..., \n",
       "       [  0.00000000e+00,   0.00000000e+00,   0.00000000e+00, ...,\n",
       "          1.75160000e-04,   8.94766211e-03,   3.09146051e-02],\n",
       "       [  0.00000000e+00,   0.00000000e+00,   0.00000000e+00, ...,\n",
       "          0.00000000e+00,   1.75160000e-04,   8.94766211e-03],\n",
       "       [  0.00000000e+00,   0.00000000e+00,   0.00000000e+00, ...,\n",
       "          0.00000000e+00,   0.00000000e+00,   1.75160000e-04]])"
      ]
     },
     "execution_count": 52,
     "metadata": {},
     "output_type": "execute_result"
    }
   ],
   "source": [
    "caca.mceq_run.ds.get_d_matrix(411,14)"
   ]
  },
  {
   "cell_type": "code",
   "execution_count": 51,
   "metadata": {},
   "outputs": [
    {
     "data": {
      "text/plain": [
       "array([  6.07040075e-01,   2.79480669e-01,   1.30383770e-01,\n",
       "         6.08854165e-02,   2.83604821e-02,   1.32015621e-02,\n",
       "         6.14993181e-03,   2.86767560e-03,   1.33774002e-03,\n",
       "         6.24098571e-04,   2.91193669e-04,   1.35880188e-04,\n",
       "         6.34133162e-05,   2.95986527e-05,   1.38179652e-05,\n",
       "         6.45175977e-06,   3.01285217e-06,   1.40705922e-06,\n",
       "         6.57102926e-07,   3.06895984e-07,   1.43352326e-07,\n",
       "         6.69685973e-08,   3.12890372e-08,   1.46208445e-08,\n",
       "         6.83303630e-09,   3.19385653e-09,   1.49306040e-09,\n",
       "         6.98063909e-10,   3.26412724e-10,   1.52645309e-10,\n",
       "         7.13909891e-11,   3.33911394e-11,   1.56180566e-11,\n",
       "         7.30462585e-12,   3.41602092e-12,   1.59713918e-12,\n",
       "         7.46427366e-13,   3.48635639e-13,   1.62692536e-13,\n",
       "         7.58264114e-14,   3.52776357e-14,   1.63727655e-14,\n",
       "         7.57354292e-15,   3.48756263e-15,   1.59636408e-15,\n",
       "         7.24882203e-16,   3.25710268e-16,   1.44355176e-16,\n",
       "         6.28583505e-17,   2.67664797e-17,   1.10881731e-17,\n",
       "         4.44555671e-18,   1.71831589e-18,   6.40157098e-19,\n",
       "         2.31431733e-19,   8.26080854e-20,   2.98859480e-20,\n",
       "         1.11995471e-20,   4.33632210e-21,   1.68674054e-21,\n",
       "         6.39717404e-22,   2.34239059e-22,   8.42086668e-23,\n",
       "         3.10131674e-23,   1.23260397e-23,   5.39146586e-24,\n",
       "         2.51357058e-24,   1.19330002e-24,   5.61852815e-25,\n",
       "         2.59587822e-25,   1.16891377e-25,   5.09065984e-26,\n",
       "         2.12365849e-26,   8.38522396e-27,   3.08781877e-27,\n",
       "         1.04109920e-27,   3.13787860e-28,   8.17940605e-29,\n",
       "         1.75815202e-29,   2.90945397e-30,   3.37071700e-31,\n",
       "         2.40991334e-32,   9.01501180e-34,   1.41967454e-35,\n",
       "         7.05115228e-38,   7.51646546e-41,   1.02931469e-44,\n",
       "         9.13324618e-50])"
      ]
     },
     "execution_count": 51,
     "metadata": {},
     "output_type": "execute_result"
    }
   ],
   "source": [
    "caca.mceq_run.get_solution(\"p\",0,0)"
   ]
  },
  {
   "cell_type": "code",
   "execution_count": 180,
   "metadata": {},
   "outputs": [
    {
     "data": {
      "text/plain": [
       "<matplotlib.legend.Legend at 0x117373c90>"
      ]
     },
     "execution_count": 180,
     "metadata": {},
     "output_type": "execute_result"
    },
    {
     "data": {
      "image/png": "[encoded data removed]",
      "text/plain": [
       "<matplotlib.figure.Figure at 0x1170db090>"
      ]
     },
     "metadata": {},
     "output_type": "display_data"
    }
   ],
   "source": [
    "plt.figure(figsize=(6,5))\n",
    "\n",
    "plt.plot(e_grid,caca.mceq_run.get_solution(\"D-\",0,0)*e_grid**3, label = \"D-\")\n",
    "plt.plot(e_grid,caca.mceq_run.get_solution(\"D+\",0,0)*e_grid**3, label = \"D+\")\n",
    "\n",
    "plt.axvline(2.e6)\n",
    "\n",
    "plt.xlabel(r\"$E_\\nu$\")\n",
    "plt.ylabel(r\"$E^3 \\phi(E_\\nu) $\")\n",
    "plt.ylim(1.0e-15,1.0e-4)\n",
    "\n",
    "plt.text(10,1.e-14, \"Here instataneous\\n decay approx.\")\n",
    "plt.text(1e7,1.e-14, \"Here energy\\n losses\")\n",
    "plt.loglog()\n",
    "\n",
    "plt.legend(loc=\"upper left\")"
   ]
  },
  {
   "cell_type": "code",
   "execution_count": 37,
   "metadata": {},
   "outputs": [
    {
     "name": "stdout",
     "output_type": "stream",
     "text": [
      "InteractionYields::_load(): Looking for /Users/carguelles/Library/Python/2.7/lib/python/site-packages/data/SIBYLL23C_yields_compact_ledpm.bz2\n",
      "DecayYields:_load():: Loading file /Users/carguelles/Library/Python/2.7/lib/python/site-packages/data/decays_v1_compact.ppd\n",
      "\n",
      "Hadrons and stable particles:\n",
      "\n",
      "\"gamma\", \"p\", \"p-bar\", \"n-bar\", \"n\"\n",
      "\n",
      "Mixed:\n",
      "\n",
      "\"pi-\", \"pi+\", \"K0L\", \"K-\", \"K+\", \"Lambda0\", \"Lambda0-bar\", \"K0S\", \n",
      "\"D+\", \"D-\", \"Ds+\", \"Ds-\", \"D0\", \"D0-bar\"\n",
      "\n",
      "Resonances:\n",
      "\n",
      "\n",
      "\n",
      "Leptons:\n",
      "\n",
      "\"e-\", \"nue\", \"numu\", \"nutau\", \"antinutau\", \"antinumu\", \"antinue\", \"e+\", \n",
      "\"mu-\", \"mu+\"\n",
      "\n",
      "Aliases:\n",
      "\"obs_numu\", \"obs_nutau\", \"pr_antinutau\", \"pr_antinumu\", \"pr_antinue\", \"obs_antinue\", \"k_nue\", \"k_numu\", \n",
      "\"k_nutau\", \"pi_antinutau\", \"pi_antinue\", \"pi_antinumu\", \"pi_nue\", \"pi_numu\", \"pi_nutau\", \"k_antinutau\", \n",
      "\"k_antinumu\", \"k_antinue\", \"obs_nue\", \"pr_nue\", \"pr_numu\", \"pr_nutau\", \"obs_antinutau\", \"obs_antinumu\", \n",
      "\"k_mu-\", \"obs_mu-\", \"pr_mu+\", \"pi_mu+\", \"pi_mu-\", \"k_mu+\", \"pr_mu-\", \"obs_mu+\"\n",
      "\n",
      "Total number of species: 61\n",
      "MCEqRun::set_interaction_model():  SIBYLL23C\n",
      "InteractionYields:set_interaction_model():: Model SIBYLL23C already loaded.\n",
      "InteractionYields:set_interaction_model():: Model SIBYLL23C already loaded.\n",
      "MCEqRun::_init_default_matrices():Start filling matrices. Skip_D_matrix = False\n",
      "MCEqRun::_convert_to_sparse():Converting to sparse (CSR) matrix format.\n",
      "C Matrix info:\n",
      "    density    : 3.42%\n",
      "    shape      : 5368 x 5368\n",
      "    nnz        : 984591\n",
      "D Matrix info:\n",
      "    density    : 1.11%\n",
      "    shape      : 5368 x 5368\n",
      "    nnz        : 318463\n",
      "MCEqRun::_init_default_matrices():Done filling matrices.\n",
      "MCEqRun::set_density_model():  CORSIKA ('BK_USStd', None)\n",
      "MCEqRun::set_theta_deg():  84.2608295227\n",
      "CorsikaAtmosphere::calculate_density_spline(): Calculating spline of rho(X) for zenith 84.2608295227 degrees.\n",
      ".. took 0.03s\n",
      "MCEqRun::set_primary_model():  HillasGaisser2012 H3a\n",
      "MCEqRun::_calculate_integration_path(): X_surface = 9422.42525549\n",
      "MCEqRun::_forward_euler(): Solver will perform 2470 integration steps.\n"
     ]
    },
    {
     "name": "stderr",
     "output_type": "stream",
     "text": [
      "\r",
      "  0%|          | 0/88 [00:00<?, ?it/s]"
     ]
    },
    {
     "name": "stdout",
     "output_type": "stream",
     "text": [
      "Performance:   0.69ms/iteration\n",
      "\n",
      "MCEqRun::_forward_euler(): time elapsed during integration: 1.70086097717 sec\n",
      "Calculating rescaled prompt yield\n"
     ]
    },
    {
     "name": "stderr",
     "output_type": "stream",
     "text": [
      "100%|██████████| 88/88 [00:41<00:00,  1.18it/s]\n",
      "100%|██████████| 88/88 [04:04<00:00,  3.35s/it]\n"
     ]
    }
   ],
   "source": [
    "pfp=GetPassingFractionPrompt(0.1)"
   ]
  },
  {
   "cell_type": "code",
   "execution_count": 24,
   "metadata": {},
   "outputs": [
    {
     "data": {
      "text/plain": [
       "[]"
      ]
     },
     "execution_count": 24,
     "metadata": {},
     "output_type": "execute_result"
    },
    {
     "data": {
      "image/png": "[encoded data removed]",
      "text/plain": [
       "<matplotlib.figure.Figure at 0x1158239d0>"
      ]
     },
     "metadata": {},
     "output_type": "display_data"
    }
   ],
   "source": [
    "x_range = (e_grid/e_grid[ihijo])**-1\n",
    "plt.plot(x_range,dNdEE_DInterpolator(x_range))\n",
    "plt.semilogx()"
   ]
  },
  {
   "cell_type": "markdown",
   "metadata": {},
   "source": [
    "## Figures"
   ]
  },
  {
   "cell_type": "code",
   "execution_count": 32,
   "metadata": {},
   "outputs": [
    {
     "name": "stdout",
     "output_type": "stream",
     "text": [
      "InteractionYields::_load(): Looking for /Users/carguelles/Library/Python/2.7/lib/python/site-packages/data/SIBYLL23C_yields_compact_ledpm.bz2\n",
      "DecayYields:_load():: Loading file /Users/carguelles/Library/Python/2.7/lib/python/site-packages/data/decays_v1_compact.ppd\n",
      "\n",
      "Hadrons and stable particles:\n",
      "\n",
      "\"gamma\", \"p\", \"p-bar\", \"n-bar\", \"n\"\n",
      "\n",
      "Mixed:\n",
      "\n",
      "\"pi-\", \"pi+\", \"K0L\", \"K-\", \"K+\", \"Lambda0\", \"Lambda0-bar\", \"K0S\", \n",
      "\"D+\", \"D-\", \"Ds+\", \"Ds-\", \"D0\", \"D0-bar\"\n",
      "\n",
      "Resonances:\n",
      "\n",
      "\n",
      "\n",
      "Leptons:\n",
      "\n",
      "\"e-\", \"nue\", \"numu\", \"nutau\", \"antinutau\", \"antinumu\", \"antinue\", \"e+\", \n",
      "\"mu-\", \"mu+\"\n",
      "\n",
      "Aliases:\n",
      "\"obs_numu\", \"obs_nutau\", \"pr_antinutau\", \"pr_antinumu\", \"pr_antinue\", \"obs_antinue\", \"k_nue\", \"k_numu\", \n",
      "\"k_nutau\", \"pi_antinutau\", \"pi_antinue\", \"pi_antinumu\", \"pi_nue\", \"pi_numu\", \"pi_nutau\", \"k_antinutau\", \n",
      "\"k_antinumu\", \"k_antinue\", \"obs_nue\", \"pr_nue\", \"pr_numu\", \"pr_nutau\", \"obs_antinutau\", \"obs_antinumu\", \n",
      "\"k_mu-\", \"obs_mu-\", \"pr_mu+\", \"pi_mu+\", \"pi_mu-\", \"k_mu+\", \"pr_mu-\", \"obs_mu+\"\n",
      "\n",
      "Total number of species: 61\n",
      "MCEqRun::set_interaction_model():  SIBYLL23C\n",
      "InteractionYields:set_interaction_model():: Model SIBYLL23C already loaded.\n",
      "InteractionYields:set_interaction_model():: Model SIBYLL23C already loaded.\n",
      "MCEqRun::_init_default_matrices():Start filling matrices. Skip_D_matrix = False\n",
      "MCEqRun::_convert_to_sparse():Converting to sparse (CSR) matrix format.\n",
      "C Matrix info:\n",
      "    density    : 3.42%\n",
      "    shape      : 5368 x 5368\n",
      "    nnz        : 984591\n",
      "D Matrix info:\n",
      "    density    : 1.11%\n",
      "    shape      : 5368 x 5368\n",
      "    nnz        : 318463\n",
      "MCEqRun::_init_default_matrices():Done filling matrices.\n",
      "MCEqRun::set_density_model():  CORSIKA ('BK_USStd', None)\n",
      "MCEqRun::set_theta_deg():  53.1301023542\n",
      "CorsikaAtmosphere::calculate_density_spline(): Calculating spline of rho(X) for zenith 53.1301023542 degrees.\n",
      ".. took 0.03s\n",
      "MCEqRun::set_primary_model():  HillasGaisser2012 H3a\n",
      "MCEqRun::_calculate_integration_path(): X_surface = 1719.53731755\n",
      "MCEqRun::_forward_euler(): Solver will perform 746 integration steps.\n"
     ]
    },
    {
     "name": "stderr",
     "output_type": "stream",
     "text": [
      "  3%|▎         | 3/88 [00:00<00:05, 15.44it/s]"
     ]
    },
    {
     "name": "stdout",
     "output_type": "stream",
     "text": [
      "Performance:   0.70ms/iteration\n",
      "\n",
      "MCEqRun::_forward_euler(): time elapsed during integration: 0.521928787231 sec\n",
      "Calculating rescaled prompt yield\n"
     ]
    },
    {
     "name": "stderr",
     "output_type": "stream",
     "text": [
      "100%|██████████| 88/88 [00:39<00:00,  1.13it/s]\n",
      "100%|██████████| 88/88 [04:48<00:00,  1.03it/s]\n"
     ]
    },
    {
     "data": {
      "text/plain": [
       "(0.0, 1.0)"
      ]
     },
     "execution_count": 32,
     "metadata": {},
     "output_type": "execute_result"
    },
    {
     "data": {
      "image/png": "[encoded data removed]",
      "text/plain": [
       "<matplotlib.figure.Figure at 0x10c435d10>"
      ]
     },
     "metadata": {},
     "output_type": "display_data"
    }
   ],
   "source": [
    "fig = plt.figure(figsize=(6,5))\n",
    "\n",
    "costh = 0.6\n",
    "\n",
    "pfp = GetPassingFractionPrompt(costh)\n",
    "plt.plot(caca.mceq_run.e_grid,pfp, label = r\"$\\cos\\theta=\"+str(costh)+\"$\", color = \"red\")\n",
    "plt.plot(caca.mceq_run.e_grid,\n",
    "         [selfveto.correlated_passing_rate(enu,selfveto.minimum_muon_energy(selfveto.overburden(costh)),costh)\n",
    "          for enu in e_grid], ls = \"dashed\", color = \"red\")\n",
    "plt.semilogx()\n",
    "plt.title(\"Prompt\")\n",
    "plt.ylim(0.,1.)"
   ]
  },
  {
   "cell_type": "code",
   "execution_count": 34,
   "metadata": {},
   "outputs": [
    {
     "data": {
      "text/plain": [
       "array([  0.00000000e+00,   0.00000000e+00,   0.00000000e+00,\n",
       "         0.00000000e+00,   0.00000000e+00,   0.00000000e+00,\n",
       "         0.00000000e+00,   0.00000000e+00,   0.00000000e+00,\n",
       "         0.00000000e+00,   0.00000000e+00,   0.00000000e+00,\n",
       "         0.00000000e+00,   0.00000000e+00,   0.00000000e+00,\n",
       "         0.00000000e+00,   0.00000000e+00,   0.00000000e+00,\n",
       "         0.00000000e+00,   0.00000000e+00,   0.00000000e+00,\n",
       "         0.00000000e+00,   0.00000000e+00,   0.00000000e+00,\n",
       "         0.00000000e+00,   0.00000000e+00,   0.00000000e+00,\n",
       "         0.00000000e+00,   0.00000000e+00,   0.00000000e+00,\n",
       "         0.00000000e+00,   0.00000000e+00,   0.00000000e+00,\n",
       "         0.00000000e+00,   0.00000000e+00,   0.00000000e+00,\n",
       "         0.00000000e+00,   0.00000000e+00,   0.00000000e+00,\n",
       "         0.00000000e+00,   0.00000000e+00,   0.00000000e+00,\n",
       "         0.00000000e+00,   0.00000000e+00,   0.00000000e+00,\n",
       "         0.00000000e+00,   0.00000000e+00,   0.00000000e+00,\n",
       "         0.00000000e+00,   2.12115864e-07,   9.24404741e-05,\n",
       "         6.60259240e-05,   4.80088273e-05,   3.53832283e-05,\n",
       "         2.53356068e-05,   1.34557710e-05,   7.11234395e-06,\n",
       "         3.98715075e-06,   2.19680347e-06,   1.26690681e-06,\n",
       "         7.46735373e-07,   4.44006940e-07,   2.76187193e-07,\n",
       "         1.64539330e-07,   1.03413295e-07,   6.33703945e-08,\n",
       "         3.89090045e-08,   2.43270528e-08,   1.56570008e-08,\n",
       "         9.82068718e-09,   5.85385051e-09,   3.87366467e-09,\n",
       "         2.44079614e-09,   1.46589748e-09,   9.08271755e-10,\n",
       "         7.02422545e-10,   0.00000000e+00,   0.00000000e+00,\n",
       "         0.00000000e+00,   0.00000000e+00,   0.00000000e+00,\n",
       "         0.00000000e+00,   0.00000000e+00,   0.00000000e+00,\n",
       "         0.00000000e+00,   0.00000000e+00,   0.00000000e+00,\n",
       "         0.00000000e+00])"
      ]
     },
     "execution_count": 34,
     "metadata": {},
     "output_type": "execute_result"
    }
   ],
   "source": [
    "pfp"
   ]
  },
  {
   "cell_type": "code",
   "execution_count": 29,
   "metadata": {
    "scrolled": true
   },
   "outputs": [
    {
     "name": "stdout",
     "output_type": "stream",
     "text": [
      "InteractionYields::_load(): Looking for /Users/carguelles/Library/Python/2.7/lib/python/site-packages/data/SIBYLL23C_yields_compact_ledpm.bz2\n",
      "DecayYields:_load():: Loading file /Users/carguelles/Library/Python/2.7/lib/python/site-packages/data/decays_v1_compact.ppd\n",
      "\n",
      "Hadrons and stable particles:\n",
      "\n",
      "\"gamma\", \"p\", \"p-bar\", \"n-bar\", \"n\"\n",
      "\n",
      "Mixed:\n",
      "\n",
      "\"pi-\", \"pi+\", \"K0L\", \"K-\", \"K+\", \"Lambda0\", \"Lambda0-bar\", \"K0S\", \n",
      "\"D+\", \"D-\", \"Ds+\", \"Ds-\", \"D0\", \"D0-bar\"\n",
      "\n",
      "Resonances:\n",
      "\n",
      "\n",
      "\n",
      "Leptons:\n",
      "\n",
      "\"e-\", \"nue\", \"numu\", \"nutau\", \"antinutau\", \"antinumu\", \"antinue\", \"e+\", \n",
      "\"mu-\", \"mu+\"\n",
      "\n",
      "Aliases:\n",
      "\"obs_numu\", \"obs_nutau\", \"pr_antinutau\", \"pr_antinumu\", \"pr_antinue\", \"obs_antinue\", \"k_nue\", \"k_numu\", \n",
      "\"k_nutau\", \"pi_antinutau\", \"pi_antinue\", \"pi_antinumu\", \"pi_nue\", \"pi_numu\", \"pi_nutau\", \"k_antinutau\", \n",
      "\"k_antinumu\", \"k_antinue\", \"obs_nue\", \"pr_nue\", \"pr_numu\", \"pr_nutau\", \"obs_antinutau\", \"obs_antinumu\", \n",
      "\"k_mu-\", \"obs_mu-\", \"pr_mu+\", \"pi_mu+\", \"pi_mu-\", \"k_mu+\", \"pr_mu-\", \"obs_mu+\"\n",
      "\n",
      "Total number of species: 61\n",
      "MCEqRun::set_interaction_model():  SIBYLL23C\n",
      "InteractionYields:set_interaction_model():: Model SIBYLL23C already loaded.\n",
      "InteractionYields:set_interaction_model():: Model SIBYLL23C already loaded.\n",
      "MCEqRun::_init_default_matrices():Start filling matrices. Skip_D_matrix = False\n",
      "MCEqRun::_convert_to_sparse():Converting to sparse (CSR) matrix format.\n",
      "C Matrix info:\n",
      "    density    : 3.42%\n",
      "    shape      : 5368 x 5368\n",
      "    nnz        : 984591\n",
      "D Matrix info:\n",
      "    density    : 1.11%\n",
      "    shape      : 5368 x 5368\n",
      "    nnz        : 318463\n",
      "MCEqRun::_init_default_matrices():Done filling matrices.\n",
      "MCEqRun::set_density_model():  CORSIKA ('BK_USStd', None)\n",
      "MCEqRun::set_theta_deg():  78.4630409672\n",
      "CorsikaAtmosphere::calculate_density_spline(): Calculating spline of rho(X) for zenith 78.4630409672 degrees.\n",
      ".. took 0.04s\n",
      "MCEqRun::set_primary_model():  HillasGaisser2012 H3a\n",
      "MCEqRun::_calculate_integration_path(): X_surface = 5037.05170842\n",
      "MCEqRun::_forward_euler(): Solver will perform 1585 integration steps.\n"
     ]
    },
    {
     "name": "stderr",
     "output_type": "stream",
     "text": [
      "\r",
      "  0%|          | 0/88 [00:00<?, ?it/s]"
     ]
    },
    {
     "name": "stdout",
     "output_type": "stream",
     "text": [
      "Performance:   1.14ms/iteration\n",
      "\n",
      "MCEqRun::_forward_euler(): time elapsed during integration: 1.8039419651 sec\n",
      "Calculating rescaled kaon yield\n"
     ]
    },
    {
     "name": "stderr",
     "output_type": "stream",
     "text": [
      "100%|██████████| 88/88 [00:48<00:00,  1.02s/it]\n",
      "100%|██████████| 88/88 [04:30<00:00,  2.15s/it]\n",
      "  0%|          | 0/88 [00:00<?, ?it/s]"
     ]
    },
    {
     "name": "stdout",
     "output_type": "stream",
     "text": [
      "Calculating rescaled pion yield\n"
     ]
    },
    {
     "name": "stderr",
     "output_type": "stream",
     "text": [
      "100%|██████████| 88/88 [00:54<00:00,  1.04s/it]\n",
      "100%|██████████| 88/88 [01:46<00:00,  1.19s/it]\n"
     ]
    },
    {
     "name": "stdout",
     "output_type": "stream",
     "text": [
      "InteractionYields::_load(): Looking for /Users/carguelles/Library/Python/2.7/lib/python/site-packages/data/SIBYLL23C_yields_compact_ledpm.bz2\n",
      "DecayYields:_load():: Loading file /Users/carguelles/Library/Python/2.7/lib/python/site-packages/data/decays_v1_compact.ppd\n",
      "\n",
      "Hadrons and stable particles:\n",
      "\n",
      "\"gamma\", \"p\", \"p-bar\", \"n-bar\", \"n\"\n",
      "\n",
      "Mixed:\n",
      "\n",
      "\"pi-\", \"pi+\", \"K0L\", \"K-\", \"K+\", \"Lambda0\", \"Lambda0-bar\", \"K0S\", \n",
      "\"D+\", \"D-\", \"Ds+\", \"Ds-\", \"D0\", \"D0-bar\"\n",
      "\n",
      "Resonances:\n",
      "\n",
      "\n",
      "\n",
      "Leptons:\n",
      "\n",
      "\"e-\", \"nue\", \"numu\", \"nutau\", \"antinutau\", \"antinumu\", \"antinue\", \"e+\", \n",
      "\"mu-\", \"mu+\"\n",
      "\n",
      "Aliases:\n",
      "\"obs_numu\", \"obs_nutau\", \"pr_antinutau\", \"pr_antinumu\", \"pr_antinue\", \"obs_antinue\", \"k_nue\", \"k_numu\", \n",
      "\"k_nutau\", \"pi_antinutau\", \"pi_antinue\", \"pi_antinumu\", \"pi_nue\", \"pi_numu\", \"pi_nutau\", \"k_antinutau\", \n",
      "\"k_antinumu\", \"k_antinue\", \"obs_nue\", \"pr_nue\", \"pr_numu\", \"pr_nutau\", \"obs_antinutau\", \"obs_antinumu\", \n",
      "\"k_mu-\", \"obs_mu-\", \"pr_mu+\", \"pi_mu+\", \"pi_mu-\", \"k_mu+\", \"pr_mu-\", \"obs_mu+\"\n",
      "\n",
      "Total number of species: 61\n",
      "MCEqRun::set_interaction_model():  SIBYLL23C\n",
      "InteractionYields:set_interaction_model():: Model SIBYLL23C already loaded.\n",
      "InteractionYields:set_interaction_model():: Model SIBYLL23C already loaded.\n",
      "MCEqRun::_init_default_matrices():Start filling matrices. Skip_D_matrix = False\n",
      "MCEqRun::_convert_to_sparse():Converting to sparse (CSR) matrix format.\n",
      "C Matrix info:\n",
      "    density    : 3.42%\n",
      "    shape      : 5368 x 5368\n",
      "    nnz        : 984591\n",
      "D Matrix info:\n",
      "    density    : 1.11%\n",
      "    shape      : 5368 x 5368\n",
      "    nnz        : 318463\n",
      "MCEqRun::_init_default_matrices():Done filling matrices.\n",
      "MCEqRun::set_density_model():  CORSIKA ('BK_USStd', None)\n",
      "MCEqRun::set_theta_deg():  66.4218215218\n",
      "CorsikaAtmosphere::calculate_density_spline(): Calculating spline of rho(X) for zenith 66.4218215218 degrees.\n",
      ".. took 0.04s\n",
      "MCEqRun::set_primary_model():  HillasGaisser2012 H3a\n",
      "MCEqRun::_calculate_integration_path(): X_surface = 2569.28270085\n",
      "MCEqRun::_forward_euler(): Solver will perform 938 integration steps.\n"
     ]
    },
    {
     "name": "stderr",
     "output_type": "stream",
     "text": [
      "\r",
      "  0%|          | 0/88 [00:00<?, ?it/s]"
     ]
    },
    {
     "name": "stdout",
     "output_type": "stream",
     "text": [
      "Performance:   1.04ms/iteration\n",
      "\n",
      "MCEqRun::_forward_euler(): time elapsed during integration: 0.97176194191 sec\n",
      "Calculating rescaled kaon yield\n"
     ]
    },
    {
     "name": "stderr",
     "output_type": "stream",
     "text": [
      "100%|██████████| 88/88 [00:48<00:00,  1.00s/it]\n",
      "100%|██████████| 88/88 [04:35<00:00,  1.50s/it]\n",
      "  0%|          | 0/88 [00:00<?, ?it/s]"
     ]
    },
    {
     "name": "stdout",
     "output_type": "stream",
     "text": [
      "Calculating rescaled pion yield\n"
     ]
    },
    {
     "name": "stderr",
     "output_type": "stream",
     "text": [
      "100%|██████████| 88/88 [00:55<00:00,  1.11s/it]\n",
      "100%|██████████| 88/88 [01:39<00:00,  1.29s/it]\n"
     ]
    },
    {
     "data": {
      "text/plain": [
       "Text(0,0.5,u'${\\\\rm Passing\\\\ Fraction}$')"
      ]
     },
     "execution_count": 29,
     "metadata": {},
     "output_type": "execute_result"
    },
    {
     "data": {
      "image/png": "[encoded data removed]",
      "text/plain": [
       "<matplotlib.figure.Figure at 0x1164bee10>"
      ]
     },
     "metadata": {},
     "output_type": "display_data"
    }
   ],
   "source": [
    "fig = plt.figure(figsize=(6,5))\n",
    "\n",
    "costh = 0.2\n",
    "plt.plot(caca.mceq_run.e_grid,GetPassingFraction(costh), label = r\"$\\cos\\theta=\"+str(costh)+\"$\", color = \"red\")\n",
    "plt.plot(caca.mceq_run.e_grid,\n",
    "         [selfveto.correlated_passing_rate(enu,selfveto.minimum_muon_energy(selfveto.overburden(costh)),costh)\n",
    "          for enu in e_grid], ls = \"dashed\", color = \"red\")\n",
    "\n",
    "costh = 0.4\n",
    "plt.plot(caca.mceq_run.e_grid,GetPassingFraction(costh), label = r\"$\\cos\\theta=\"+str(costh)+\"$\", color = \"blue\")\n",
    "plt.plot(caca.mceq_run.e_grid,\n",
    "         [selfveto.correlated_passing_rate(enu,selfveto.minimum_muon_energy(selfveto.overburden(costh)),costh)\n",
    "          for enu in e_grid], ls = \"dashed\", color = \"blue\")\n",
    "\n",
    "plt.semilogx()\n",
    "plt.xlim(1e3,1e7)\n",
    "#plt.ylim(0.,1.)\n",
    "plt.legend(loc=\"upper right\", fontsize=14)\n",
    "plt.xlabel(r\"$E_\\nu/{\\rm GeV}$\")\n",
    "plt.ylabel(r\"${\\rm Passing\\ Fraction}$\")"
   ]
  },
  {
   "cell_type": "code",
   "execution_count": 26,
   "metadata": {
    "collapsed": true
   },
   "outputs": [],
   "source": [
    "selfveto.correlated_passing_rate?"
   ]
  },
  {
   "cell_type": "code",
   "execution_count": 98,
   "metadata": {},
   "outputs": [
    {
     "data": {
      "text/plain": [
       "Text(0,0.5,u'${\\\\rm Passing\\\\ Fraction}$')"
      ]
     },
     "execution_count": 98,
     "metadata": {},
     "output_type": "execute_result"
    },
    {
     "data": {
      "image/png": "[encoded data removed]",
      "text/plain": [
       "<matplotlib.figure.Figure at 0x122d39910>"
      ]
     },
     "metadata": {},
     "output_type": "display_data"
    }
   ],
   "source": [
    "plt.plot(caca.mceq_run.e_grid,\n",
    "         [selfveto.correlated_passing_rate(enu,selfveto.minimum_muon_energy(selfveto.overburden(1.)),1.)\n",
    "          for enu in e_grid], ls = \"dashed\", color = \"red\")\n",
    "\n",
    "plt.semilogx()\n",
    "plt.ylim(0.,1.)\n",
    "plt.legend(loc=\"upper right\", fontsize=14)\n",
    "plt.xlabel(r\"$E_\\nu/{\\rm GeV}$\")\n",
    "plt.ylabel(r\"${\\rm Passing\\ Fraction}$\")"
   ]
  },
  {
   "cell_type": "code",
   "execution_count": 88,
   "metadata": {
    "scrolled": false
   },
   "outputs": [
    {
     "name": "stdout",
     "output_type": "stream",
     "text": [
      "InteractionYields::_load(): Looking for /Users/carguelles/Library/Python/2.7/lib/python/site-packages/data/SIBYLL23C_yields_compact_ledpm.bz2\n",
      "DecayYields:_load():: Loading file /Users/carguelles/Library/Python/2.7/lib/python/site-packages/data/decays_v1_compact.ppd\n",
      "\n",
      "Hadrons and stable particles:\n",
      "\n",
      "\"gamma\", \"p\", \"p-bar\", \"n-bar\", \"n\"\n",
      "\n",
      "Mixed:\n",
      "\n",
      "\"pi-\", \"pi+\", \"K0L\", \"K-\", \"K+\", \"Lambda0\", \"Lambda0-bar\", \"K0S\", \n",
      "\"D+\", \"D-\", \"Ds+\", \"Ds-\", \"D0\", \"D0-bar\"\n",
      "\n",
      "Resonances:\n",
      "\n",
      "\n",
      "\n",
      "Leptons:\n",
      "\n",
      "\"e-\", \"nue\", \"numu\", \"nutau\", \"antinutau\", \"antinumu\", \"antinue\", \"e+\", \n",
      "\"mu-\", \"mu+\"\n",
      "\n",
      "Aliases:\n",
      "\"obs_numu\", \"obs_nutau\", \"pr_antinutau\", \"pr_antinumu\", \"pr_antinue\", \"obs_antinue\", \"k_nue\", \"k_numu\", \n",
      "\"k_nutau\", \"pi_antinutau\", \"pi_antinue\", \"pi_antinumu\", \"pi_nue\", \"pi_numu\", \"pi_nutau\", \"k_antinutau\", \n",
      "\"k_antinumu\", \"k_antinue\", \"obs_nue\", \"pr_nue\", \"pr_numu\", \"pr_nutau\", \"obs_antinutau\", \"obs_antinumu\", \n",
      "\"k_mu-\", \"obs_mu-\", \"pr_mu+\", \"pi_mu+\", \"pi_mu-\", \"k_mu+\", \"pr_mu-\", \"obs_mu+\"\n",
      "\n",
      "Total number of species: 61\n",
      "MCEqRun::set_interaction_model():  SIBYLL23C\n",
      "InteractionYields:set_interaction_model():: Model SIBYLL23C already loaded.\n",
      "InteractionYields:set_interaction_model():: Model SIBYLL23C already loaded.\n",
      "MCEqRun::_init_default_matrices():Start filling matrices. Skip_D_matrix = False\n",
      "MCEqRun::_convert_to_sparse():Converting to sparse (CSR) matrix format.\n",
      "C Matrix info:\n",
      "    density    : 3.42%\n",
      "    shape      : 5368 x 5368\n",
      "    nnz        : 984591\n",
      "D Matrix info:\n",
      "    density    : 1.11%\n",
      "    shape      : 5368 x 5368\n",
      "    nnz        : 318463\n",
      "MCEqRun::_init_default_matrices():Done filling matrices.\n",
      "MCEqRun::set_density_model():  CORSIKA ('BK_USStd', None)\n",
      "MCEqRun::set_theta_deg():  0.0\n",
      "CorsikaAtmosphere::calculate_density_spline(): Calculating spline of rho(X) for zenith 0.0 degrees.\n",
      ".. took 0.03s\n",
      "MCEqRun::set_primary_model():  HillasGaisser2012 H3a\n",
      "MCEqRun::_calculate_integration_path(): X_surface = 1033.80949621\n",
      "MCEqRun::_forward_euler(): Solver will perform 638 integration steps.\n"
     ]
    },
    {
     "name": "stderr",
     "output_type": "stream",
     "text": [
      "\r",
      "  0%|          | 0/88 [00:00<?, ?it/s]"
     ]
    },
    {
     "name": "stdout",
     "output_type": "stream",
     "text": [
      "Performance:   0.89ms/iteration\n",
      "\n",
      "MCEqRun::_forward_euler(): time elapsed during integration: 0.572157859802 sec\n"
     ]
    },
    {
     "name": "stderr",
     "output_type": "stream",
     "text": [
      " 31%|███       | 27/88 [02:50<08:42,  8.56s/it]"
     ]
    },
    {
     "ename": "KeyboardInterrupt",
     "evalue": "",
     "output_type": "error",
     "traceback": [
      "\u001b[0;31m---------------------------------------------------------------------------\u001b[0m",
      "\u001b[0;31mKeyboardInterrupt\u001b[0m                         Traceback (most recent call last)",
      "\u001b[0;32m<ipython-input-88-a55deafa9bc4>\u001b[0m in \u001b[0;36m<module>\u001b[0;34m()\u001b[0m\n\u001b[1;32m      1\u001b[0m \u001b[0mplt\u001b[0m\u001b[0;34m.\u001b[0m\u001b[0mfigure\u001b[0m\u001b[0;34m(\u001b[0m\u001b[0mfigsize\u001b[0m\u001b[0;34m=\u001b[0m\u001b[0;34m(\u001b[0m\u001b[0;36m6\u001b[0m\u001b[0;34m,\u001b[0m\u001b[0;36m5\u001b[0m\u001b[0;34m)\u001b[0m\u001b[0;34m)\u001b[0m\u001b[0;34m\u001b[0m\u001b[0m\n\u001b[1;32m      2\u001b[0m \u001b[0;34m\u001b[0m\u001b[0m\n\u001b[0;32m----> 3\u001b[0;31m \u001b[0mplt\u001b[0m\u001b[0;34m.\u001b[0m\u001b[0mplot\u001b[0m\u001b[0;34m(\u001b[0m\u001b[0mcaca\u001b[0m\u001b[0;34m.\u001b[0m\u001b[0mmceq_run\u001b[0m\u001b[0;34m.\u001b[0m\u001b[0me_grid\u001b[0m\u001b[0;34m,\u001b[0m\u001b[0mGetPassingFraction\u001b[0m\u001b[0;34m(\u001b[0m\u001b[0;36m1.0\u001b[0m\u001b[0;34m)\u001b[0m\u001b[0;34m,\u001b[0m \u001b[0mlabel\u001b[0m \u001b[0;34m=\u001b[0m \u001b[0;34mr\"$\\cos\\theta=1$\"\u001b[0m\u001b[0;34m,\u001b[0m \u001b[0mcolor\u001b[0m \u001b[0;34m=\u001b[0m \u001b[0;34m\"red\"\u001b[0m\u001b[0;34m)\u001b[0m\u001b[0;34m\u001b[0m\u001b[0m\n\u001b[0m\u001b[1;32m      4\u001b[0m \u001b[0mplt\u001b[0m\u001b[0;34m.\u001b[0m\u001b[0mplot\u001b[0m\u001b[0;34m(\u001b[0m\u001b[0mcaca\u001b[0m\u001b[0;34m.\u001b[0m\u001b[0mmceq_run\u001b[0m\u001b[0;34m.\u001b[0m\u001b[0me_grid\u001b[0m\u001b[0;34m,\u001b[0m\u001b[0mGetPassingFraction\u001b[0m\u001b[0;34m(\u001b[0m\u001b[0;36m0.4\u001b[0m\u001b[0;34m)\u001b[0m\u001b[0;34m,\u001b[0m \u001b[0mlabel\u001b[0m \u001b[0;34m=\u001b[0m \u001b[0;34mr\"$\\cos\\theta=0.4$\"\u001b[0m\u001b[0;34m,\u001b[0m \u001b[0mcolor\u001b[0m \u001b[0;34m=\u001b[0m \u001b[0;34m\"green\"\u001b[0m\u001b[0;34m)\u001b[0m\u001b[0;34m\u001b[0m\u001b[0m\n\u001b[1;32m      5\u001b[0m \u001b[0mplt\u001b[0m\u001b[0;34m.\u001b[0m\u001b[0mplot\u001b[0m\u001b[0;34m(\u001b[0m\u001b[0mcaca\u001b[0m\u001b[0;34m.\u001b[0m\u001b[0mmceq_run\u001b[0m\u001b[0;34m.\u001b[0m\u001b[0me_grid\u001b[0m\u001b[0;34m,\u001b[0m\u001b[0mGetPassingFraction\u001b[0m\u001b[0;34m(\u001b[0m\u001b[0;36m0.2\u001b[0m\u001b[0;34m)\u001b[0m\u001b[0;34m,\u001b[0m \u001b[0mlabel\u001b[0m \u001b[0;34m=\u001b[0m \u001b[0;34mr\"$\\cos\\theta=0.2$\"\u001b[0m\u001b[0;34m,\u001b[0m \u001b[0mcolor\u001b[0m \u001b[0;34m=\u001b[0m \u001b[0;34m\"blue\"\u001b[0m\u001b[0;34m)\u001b[0m\u001b[0;34m\u001b[0m\u001b[0m\n",
      "\u001b[0;32m<ipython-input-87-1bc12d0d800d>\u001b[0m in \u001b[0;36mGetPassingFraction\u001b[0;34m(costh)\u001b[0m\n\u001b[1;32m     59\u001b[0m \u001b[0;34m\u001b[0m\u001b[0m\n\u001b[1;32m     60\u001b[0m     \u001b[0mKaonToNeutrinoYield\u001b[0m\u001b[0;34m=\u001b[0m\u001b[0mcaca\u001b[0m\u001b[0;34m.\u001b[0m\u001b[0mmceq_run\u001b[0m\u001b[0;34m.\u001b[0m\u001b[0mds\u001b[0m\u001b[0;34m.\u001b[0m\u001b[0mget_d_matrix\u001b[0m\u001b[0;34m(\u001b[0m\u001b[0mcaca\u001b[0m\u001b[0;34m.\u001b[0m\u001b[0mParticleProperties\u001b[0m\u001b[0;34m.\u001b[0m\u001b[0mpdg_id\u001b[0m\u001b[0;34m[\u001b[0m\u001b[0;34m\"kaon\"\u001b[0m\u001b[0;34m]\u001b[0m\u001b[0;34m,\u001b[0m\u001b[0;36m14\u001b[0m\u001b[0;34m)\u001b[0m\u001b[0;34m\u001b[0m\u001b[0m\n\u001b[0;32m---> 61\u001b[0;31m     \u001b[0mrescale_kaon_decay_matrix\u001b[0m\u001b[0;34m=\u001b[0m\u001b[0mGetReachingRescaledYields\u001b[0m\u001b[0;34m(\u001b[0m\u001b[0mcosth\u001b[0m\u001b[0;34m,\u001b[0m\u001b[0mdNdEE_KaonInterpolator\u001b[0m\u001b[0;34m)\u001b[0m\u001b[0;34m\u001b[0m\u001b[0m\n\u001b[0m\u001b[1;32m     62\u001b[0m     \u001b[0mPionToNeutrinoYield\u001b[0m\u001b[0;34m=\u001b[0m\u001b[0mcaca\u001b[0m\u001b[0;34m.\u001b[0m\u001b[0mmceq_run\u001b[0m\u001b[0;34m.\u001b[0m\u001b[0mds\u001b[0m\u001b[0;34m.\u001b[0m\u001b[0mget_d_matrix\u001b[0m\u001b[0;34m(\u001b[0m\u001b[0mcaca\u001b[0m\u001b[0;34m.\u001b[0m\u001b[0mParticleProperties\u001b[0m\u001b[0;34m.\u001b[0m\u001b[0mpdg_id\u001b[0m\u001b[0;34m[\u001b[0m\u001b[0;34m\"pion\"\u001b[0m\u001b[0;34m]\u001b[0m\u001b[0;34m,\u001b[0m\u001b[0;36m14\u001b[0m\u001b[0;34m)\u001b[0m\u001b[0;34m\u001b[0m\u001b[0m\n\u001b[1;32m     63\u001b[0m     \u001b[0mrescale_pion_decay_matrix\u001b[0m\u001b[0;34m=\u001b[0m\u001b[0mGetReachingRescaledYields\u001b[0m\u001b[0;34m(\u001b[0m\u001b[0mcosth\u001b[0m\u001b[0;34m,\u001b[0m\u001b[0mdNdEE_PionInterpolator\u001b[0m\u001b[0;34m)\u001b[0m\u001b[0;34m\u001b[0m\u001b[0m\n",
      "\u001b[0;32m<ipython-input-87-1bc12d0d800d>\u001b[0m in \u001b[0;36mGetReachingRescaledYields\u001b[0;34m(costh, dNdEE_Interpolator)\u001b[0m\n\u001b[1;32m     51\u001b[0m                                          \u001b[0;32mlambda\u001b[0m \u001b[0mEp\u001b[0m\u001b[0;34m,\u001b[0m\u001b[0mEnu\u001b[0m\u001b[0;34m:\u001b[0m \u001b[0;34m(\u001b[0m\u001b[0mdNdEE_Interpolator\u001b[0m\u001b[0;34m(\u001b[0m\u001b[0mEnu\u001b[0m\u001b[0;34m/\u001b[0m\u001b[0mEp\u001b[0m\u001b[0;34m)\u001b[0m\u001b[0;34m/\u001b[0m\u001b[0mEp\u001b[0m\u001b[0;34m)\u001b[0m\u001b[0;34m*\u001b[0m\u001b[0;34m(\u001b[0m\u001b[0;36m1.\u001b[0m\u001b[0;34m-\u001b[0m\u001b[0mcaca\u001b[0m\u001b[0;34m.\u001b[0m\u001b[0mMuonReachProbability\u001b[0m\u001b[0;34m(\u001b[0m\u001b[0;34m(\u001b[0m\u001b[0mEp\u001b[0m\u001b[0;34m-\u001b[0m\u001b[0mEnu\u001b[0m\u001b[0;34m)\u001b[0m\u001b[0;34m*\u001b[0m\u001b[0munits\u001b[0m\u001b[0;34m.\u001b[0m\u001b[0mGeV\u001b[0m\u001b[0;34m,\u001b[0m\u001b[0mice_distance\u001b[0m\u001b[0;34m)\u001b[0m\u001b[0;34m)\u001b[0m\u001b[0;34m,\u001b[0m\u001b[0;34m\u001b[0m\u001b[0m\n\u001b[1;32m     52\u001b[0m                                          \u001b[0mEnuMin\u001b[0m\u001b[0;34m,\u001b[0m\u001b[0mEnuMax\u001b[0m\u001b[0;34m,\u001b[0m\u001b[0;34m\u001b[0m\u001b[0m\n\u001b[0;32m---> 53\u001b[0;31m                                          \u001b[0;32mlambda\u001b[0m \u001b[0mEnu\u001b[0m\u001b[0;34m:\u001b[0m \u001b[0mnp\u001b[0m\u001b[0;34m.\u001b[0m\u001b[0mmax\u001b[0m\u001b[0;34m(\u001b[0m\u001b[0;34m[\u001b[0m\u001b[0mEnu\u001b[0m\u001b[0;34m,\u001b[0m\u001b[0mEpMin\u001b[0m\u001b[0;34m]\u001b[0m\u001b[0;34m)\u001b[0m\u001b[0;34m,\u001b[0m \u001b[0;32mlambda\u001b[0m \u001b[0mEnu\u001b[0m\u001b[0;34m:\u001b[0m \u001b[0mEpMax\u001b[0m\u001b[0;34m\u001b[0m\u001b[0m\n\u001b[0m\u001b[1;32m     54\u001b[0m                                          )[0]/((EpMax-EpMin)*(EnuMax-EnuMin))\n\u001b[1;32m     55\u001b[0m     \u001b[0;32mreturn\u001b[0m \u001b[0mRY_matrix\u001b[0m\u001b[0;34m\u001b[0m\u001b[0m\n",
      "\u001b[0;32m/Users/carguelles/Library/Python/2.7/lib/python/site-packages/scipy/integrate/quadpack.pyc\u001b[0m in \u001b[0;36mdblquad\u001b[0;34m(func, a, b, gfun, hfun, args, epsabs, epsrel)\u001b[0m\n\u001b[1;32m    504\u001b[0m         \u001b[0;32mreturn\u001b[0m \u001b[0;34m[\u001b[0m\u001b[0mgfun\u001b[0m\u001b[0;34m(\u001b[0m\u001b[0margs\u001b[0m\u001b[0;34m[\u001b[0m\u001b[0;36m0\u001b[0m\u001b[0;34m]\u001b[0m\u001b[0;34m)\u001b[0m\u001b[0;34m,\u001b[0m \u001b[0mhfun\u001b[0m\u001b[0;34m(\u001b[0m\u001b[0margs\u001b[0m\u001b[0;34m[\u001b[0m\u001b[0;36m0\u001b[0m\u001b[0;34m]\u001b[0m\u001b[0;34m)\u001b[0m\u001b[0;34m]\u001b[0m\u001b[0;34m\u001b[0m\u001b[0m\n\u001b[1;32m    505\u001b[0m     return nquad(func, [temp_ranges, [a, b]], args=args, \n\u001b[0;32m--> 506\u001b[0;31m             opts={\"epsabs\": epsabs, \"epsrel\": epsrel})\n\u001b[0m\u001b[1;32m    507\u001b[0m \u001b[0;34m\u001b[0m\u001b[0m\n\u001b[1;32m    508\u001b[0m \u001b[0;34m\u001b[0m\u001b[0m\n",
      "\u001b[0;32m/Users/carguelles/Library/Python/2.7/lib/python/site-packages/scipy/integrate/quadpack.pyc\u001b[0m in \u001b[0;36mnquad\u001b[0;34m(func, ranges, args, opts, full_output)\u001b[0m\n\u001b[1;32m    712\u001b[0m     \u001b[0;32melse\u001b[0m\u001b[0;34m:\u001b[0m\u001b[0;34m\u001b[0m\u001b[0m\n\u001b[1;32m    713\u001b[0m         \u001b[0mopts\u001b[0m \u001b[0;34m=\u001b[0m \u001b[0;34m[\u001b[0m\u001b[0mopt\u001b[0m \u001b[0;32mif\u001b[0m \u001b[0mcallable\u001b[0m\u001b[0;34m(\u001b[0m\u001b[0mopt\u001b[0m\u001b[0;34m)\u001b[0m \u001b[0;32melse\u001b[0m \u001b[0m_OptFunc\u001b[0m\u001b[0;34m(\u001b[0m\u001b[0mopt\u001b[0m\u001b[0;34m)\u001b[0m \u001b[0;32mfor\u001b[0m \u001b[0mopt\u001b[0m \u001b[0;32min\u001b[0m \u001b[0mopts\u001b[0m\u001b[0;34m]\u001b[0m\u001b[0;34m\u001b[0m\u001b[0m\n\u001b[0;32m--> 714\u001b[0;31m     \u001b[0;32mreturn\u001b[0m \u001b[0m_NQuad\u001b[0m\u001b[0;34m(\u001b[0m\u001b[0mfunc\u001b[0m\u001b[0;34m,\u001b[0m \u001b[0mranges\u001b[0m\u001b[0;34m,\u001b[0m \u001b[0mopts\u001b[0m\u001b[0;34m,\u001b[0m \u001b[0mfull_output\u001b[0m\u001b[0;34m)\u001b[0m\u001b[0;34m.\u001b[0m\u001b[0mintegrate\u001b[0m\u001b[0;34m(\u001b[0m\u001b[0;34m*\u001b[0m\u001b[0margs\u001b[0m\u001b[0;34m)\u001b[0m\u001b[0;34m\u001b[0m\u001b[0m\n\u001b[0m\u001b[1;32m    715\u001b[0m \u001b[0;34m\u001b[0m\u001b[0m\n\u001b[1;32m    716\u001b[0m \u001b[0;34m\u001b[0m\u001b[0m\n",
      "\u001b[0;32m/Users/carguelles/Library/Python/2.7/lib/python/site-packages/scipy/integrate/quadpack.pyc\u001b[0m in \u001b[0;36mintegrate\u001b[0;34m(self, *args, **kwargs)\u001b[0m\n\u001b[1;32m    767\u001b[0m             \u001b[0mf\u001b[0m \u001b[0;34m=\u001b[0m \u001b[0mpartial\u001b[0m\u001b[0;34m(\u001b[0m\u001b[0mself\u001b[0m\u001b[0;34m.\u001b[0m\u001b[0mintegrate\u001b[0m\u001b[0;34m,\u001b[0m \u001b[0mdepth\u001b[0m\u001b[0;34m=\u001b[0m\u001b[0mdepth\u001b[0m\u001b[0;34m+\u001b[0m\u001b[0;36m1\u001b[0m\u001b[0;34m)\u001b[0m\u001b[0;34m\u001b[0m\u001b[0m\n\u001b[1;32m    768\u001b[0m         quad_r = quad(f, low, high, args=args, full_output=self.full_output,\n\u001b[0;32m--> 769\u001b[0;31m                       **opt)\n\u001b[0m\u001b[1;32m    770\u001b[0m         \u001b[0mvalue\u001b[0m \u001b[0;34m=\u001b[0m \u001b[0mquad_r\u001b[0m\u001b[0;34m[\u001b[0m\u001b[0;36m0\u001b[0m\u001b[0;34m]\u001b[0m\u001b[0;34m\u001b[0m\u001b[0m\n\u001b[1;32m    771\u001b[0m         \u001b[0mabserr\u001b[0m \u001b[0;34m=\u001b[0m \u001b[0mquad_r\u001b[0m\u001b[0;34m[\u001b[0m\u001b[0;36m1\u001b[0m\u001b[0;34m]\u001b[0m\u001b[0;34m\u001b[0m\u001b[0m\n",
      "\u001b[0;32m/Users/carguelles/Library/Python/2.7/lib/python/site-packages/scipy/integrate/quadpack.pyc\u001b[0m in \u001b[0;36mquad\u001b[0;34m(func, a, b, args, full_output, epsabs, epsrel, limit, points, weight, wvar, wopts, maxp1, limlst)\u001b[0m\n\u001b[1;32m    321\u001b[0m     \u001b[0;32mif\u001b[0m \u001b[0;34m(\u001b[0m\u001b[0mweight\u001b[0m \u001b[0;32mis\u001b[0m \u001b[0mNone\u001b[0m\u001b[0;34m)\u001b[0m\u001b[0;34m:\u001b[0m\u001b[0;34m\u001b[0m\u001b[0m\n\u001b[1;32m    322\u001b[0m         retval = _quad(func, a, b, args, full_output, epsabs, epsrel, limit,\n\u001b[0;32m--> 323\u001b[0;31m                        points)\n\u001b[0m\u001b[1;32m    324\u001b[0m     \u001b[0;32melse\u001b[0m\u001b[0;34m:\u001b[0m\u001b[0;34m\u001b[0m\u001b[0m\n\u001b[1;32m    325\u001b[0m         retval = _quad_weight(func, a, b, args, full_output, epsabs, epsrel,\n",
      "\u001b[0;32m/Users/carguelles/Library/Python/2.7/lib/python/site-packages/scipy/integrate/quadpack.pyc\u001b[0m in \u001b[0;36m_quad\u001b[0;34m(func, a, b, args, full_output, epsabs, epsrel, limit, points)\u001b[0m\n\u001b[1;32m    386\u001b[0m     \u001b[0;32mif\u001b[0m \u001b[0mpoints\u001b[0m \u001b[0;32mis\u001b[0m \u001b[0mNone\u001b[0m\u001b[0;34m:\u001b[0m\u001b[0;34m\u001b[0m\u001b[0m\n\u001b[1;32m    387\u001b[0m         \u001b[0;32mif\u001b[0m \u001b[0minfbounds\u001b[0m \u001b[0;34m==\u001b[0m \u001b[0;36m0\u001b[0m\u001b[0;34m:\u001b[0m\u001b[0;34m\u001b[0m\u001b[0m\n\u001b[0;32m--> 388\u001b[0;31m             \u001b[0;32mreturn\u001b[0m \u001b[0m_quadpack\u001b[0m\u001b[0;34m.\u001b[0m\u001b[0m_qagse\u001b[0m\u001b[0;34m(\u001b[0m\u001b[0mfunc\u001b[0m\u001b[0;34m,\u001b[0m\u001b[0ma\u001b[0m\u001b[0;34m,\u001b[0m\u001b[0mb\u001b[0m\u001b[0;34m,\u001b[0m\u001b[0margs\u001b[0m\u001b[0;34m,\u001b[0m\u001b[0mfull_output\u001b[0m\u001b[0;34m,\u001b[0m\u001b[0mepsabs\u001b[0m\u001b[0;34m,\u001b[0m\u001b[0mepsrel\u001b[0m\u001b[0;34m,\u001b[0m\u001b[0mlimit\u001b[0m\u001b[0;34m)\u001b[0m\u001b[0;34m\u001b[0m\u001b[0m\n\u001b[0m\u001b[1;32m    389\u001b[0m         \u001b[0;32melse\u001b[0m\u001b[0;34m:\u001b[0m\u001b[0;34m\u001b[0m\u001b[0m\n\u001b[1;32m    390\u001b[0m             \u001b[0;32mreturn\u001b[0m \u001b[0m_quadpack\u001b[0m\u001b[0;34m.\u001b[0m\u001b[0m_qagie\u001b[0m\u001b[0;34m(\u001b[0m\u001b[0mfunc\u001b[0m\u001b[0;34m,\u001b[0m\u001b[0mbound\u001b[0m\u001b[0;34m,\u001b[0m\u001b[0minfbounds\u001b[0m\u001b[0;34m,\u001b[0m\u001b[0margs\u001b[0m\u001b[0;34m,\u001b[0m\u001b[0mfull_output\u001b[0m\u001b[0;34m,\u001b[0m\u001b[0mepsabs\u001b[0m\u001b[0;34m,\u001b[0m\u001b[0mepsrel\u001b[0m\u001b[0;34m,\u001b[0m\u001b[0mlimit\u001b[0m\u001b[0;34m)\u001b[0m\u001b[0;34m\u001b[0m\u001b[0m\n",
      "\u001b[0;32m/Users/carguelles/Library/Python/2.7/lib/python/site-packages/scipy/integrate/quadpack.pyc\u001b[0m in \u001b[0;36mintegrate\u001b[0;34m(self, *args, **kwargs)\u001b[0m\n\u001b[1;32m    767\u001b[0m             \u001b[0mf\u001b[0m \u001b[0;34m=\u001b[0m \u001b[0mpartial\u001b[0m\u001b[0;34m(\u001b[0m\u001b[0mself\u001b[0m\u001b[0;34m.\u001b[0m\u001b[0mintegrate\u001b[0m\u001b[0;34m,\u001b[0m \u001b[0mdepth\u001b[0m\u001b[0;34m=\u001b[0m\u001b[0mdepth\u001b[0m\u001b[0;34m+\u001b[0m\u001b[0;36m1\u001b[0m\u001b[0;34m)\u001b[0m\u001b[0;34m\u001b[0m\u001b[0m\n\u001b[1;32m    768\u001b[0m         quad_r = quad(f, low, high, args=args, full_output=self.full_output,\n\u001b[0;32m--> 769\u001b[0;31m                       **opt)\n\u001b[0m\u001b[1;32m    770\u001b[0m         \u001b[0mvalue\u001b[0m \u001b[0;34m=\u001b[0m \u001b[0mquad_r\u001b[0m\u001b[0;34m[\u001b[0m\u001b[0;36m0\u001b[0m\u001b[0;34m]\u001b[0m\u001b[0;34m\u001b[0m\u001b[0m\n\u001b[1;32m    771\u001b[0m         \u001b[0mabserr\u001b[0m \u001b[0;34m=\u001b[0m \u001b[0mquad_r\u001b[0m\u001b[0;34m[\u001b[0m\u001b[0;36m1\u001b[0m\u001b[0;34m]\u001b[0m\u001b[0;34m\u001b[0m\u001b[0m\n",
      "\u001b[0;32m/Users/carguelles/Library/Python/2.7/lib/python/site-packages/scipy/integrate/quadpack.pyc\u001b[0m in \u001b[0;36mquad\u001b[0;34m(func, a, b, args, full_output, epsabs, epsrel, limit, points, weight, wvar, wopts, maxp1, limlst)\u001b[0m\n\u001b[1;32m    321\u001b[0m     \u001b[0;32mif\u001b[0m \u001b[0;34m(\u001b[0m\u001b[0mweight\u001b[0m \u001b[0;32mis\u001b[0m \u001b[0mNone\u001b[0m\u001b[0;34m)\u001b[0m\u001b[0;34m:\u001b[0m\u001b[0;34m\u001b[0m\u001b[0m\n\u001b[1;32m    322\u001b[0m         retval = _quad(func, a, b, args, full_output, epsabs, epsrel, limit,\n\u001b[0;32m--> 323\u001b[0;31m                        points)\n\u001b[0m\u001b[1;32m    324\u001b[0m     \u001b[0;32melse\u001b[0m\u001b[0;34m:\u001b[0m\u001b[0;34m\u001b[0m\u001b[0m\n\u001b[1;32m    325\u001b[0m         retval = _quad_weight(func, a, b, args, full_output, epsabs, epsrel,\n",
      "\u001b[0;32m/Users/carguelles/Library/Python/2.7/lib/python/site-packages/scipy/integrate/quadpack.pyc\u001b[0m in \u001b[0;36m_quad\u001b[0;34m(func, a, b, args, full_output, epsabs, epsrel, limit, points)\u001b[0m\n\u001b[1;32m    386\u001b[0m     \u001b[0;32mif\u001b[0m \u001b[0mpoints\u001b[0m \u001b[0;32mis\u001b[0m \u001b[0mNone\u001b[0m\u001b[0;34m:\u001b[0m\u001b[0;34m\u001b[0m\u001b[0m\n\u001b[1;32m    387\u001b[0m         \u001b[0;32mif\u001b[0m \u001b[0minfbounds\u001b[0m \u001b[0;34m==\u001b[0m \u001b[0;36m0\u001b[0m\u001b[0;34m:\u001b[0m\u001b[0;34m\u001b[0m\u001b[0m\n\u001b[0;32m--> 388\u001b[0;31m             \u001b[0;32mreturn\u001b[0m \u001b[0m_quadpack\u001b[0m\u001b[0;34m.\u001b[0m\u001b[0m_qagse\u001b[0m\u001b[0;34m(\u001b[0m\u001b[0mfunc\u001b[0m\u001b[0;34m,\u001b[0m\u001b[0ma\u001b[0m\u001b[0;34m,\u001b[0m\u001b[0mb\u001b[0m\u001b[0;34m,\u001b[0m\u001b[0margs\u001b[0m\u001b[0;34m,\u001b[0m\u001b[0mfull_output\u001b[0m\u001b[0;34m,\u001b[0m\u001b[0mepsabs\u001b[0m\u001b[0;34m,\u001b[0m\u001b[0mepsrel\u001b[0m\u001b[0;34m,\u001b[0m\u001b[0mlimit\u001b[0m\u001b[0;34m)\u001b[0m\u001b[0;34m\u001b[0m\u001b[0m\n\u001b[0m\u001b[1;32m    389\u001b[0m         \u001b[0;32melse\u001b[0m\u001b[0;34m:\u001b[0m\u001b[0;34m\u001b[0m\u001b[0m\n\u001b[1;32m    390\u001b[0m             \u001b[0;32mreturn\u001b[0m \u001b[0m_quadpack\u001b[0m\u001b[0;34m.\u001b[0m\u001b[0m_qagie\u001b[0m\u001b[0;34m(\u001b[0m\u001b[0mfunc\u001b[0m\u001b[0;34m,\u001b[0m\u001b[0mbound\u001b[0m\u001b[0;34m,\u001b[0m\u001b[0minfbounds\u001b[0m\u001b[0;34m,\u001b[0m\u001b[0margs\u001b[0m\u001b[0;34m,\u001b[0m\u001b[0mfull_output\u001b[0m\u001b[0;34m,\u001b[0m\u001b[0mepsabs\u001b[0m\u001b[0;34m,\u001b[0m\u001b[0mepsrel\u001b[0m\u001b[0;34m,\u001b[0m\u001b[0mlimit\u001b[0m\u001b[0;34m)\u001b[0m\u001b[0;34m\u001b[0m\u001b[0m\n",
      "\u001b[0;32m<ipython-input-87-1bc12d0d800d>\u001b[0m in \u001b[0;36m<lambda>\u001b[0;34m(Ep, Enu)\u001b[0m\n\u001b[1;32m     49\u001b[0m \u001b[0;34m\u001b[0m\u001b[0m\n\u001b[1;32m     50\u001b[0m             RY_matrix[ihijo][ipadre] = integrate.dblquad(\n\u001b[0;32m---> 51\u001b[0;31m                                          \u001b[0;32mlambda\u001b[0m \u001b[0mEp\u001b[0m\u001b[0;34m,\u001b[0m\u001b[0mEnu\u001b[0m\u001b[0;34m:\u001b[0m \u001b[0;34m(\u001b[0m\u001b[0mdNdEE_Interpolator\u001b[0m\u001b[0;34m(\u001b[0m\u001b[0mEnu\u001b[0m\u001b[0;34m/\u001b[0m\u001b[0mEp\u001b[0m\u001b[0;34m)\u001b[0m\u001b[0;34m/\u001b[0m\u001b[0mEp\u001b[0m\u001b[0;34m)\u001b[0m\u001b[0;34m*\u001b[0m\u001b[0;34m(\u001b[0m\u001b[0;36m1.\u001b[0m\u001b[0;34m-\u001b[0m\u001b[0mcaca\u001b[0m\u001b[0;34m.\u001b[0m\u001b[0mMuonReachProbability\u001b[0m\u001b[0;34m(\u001b[0m\u001b[0;34m(\u001b[0m\u001b[0mEp\u001b[0m\u001b[0;34m-\u001b[0m\u001b[0mEnu\u001b[0m\u001b[0;34m)\u001b[0m\u001b[0;34m*\u001b[0m\u001b[0munits\u001b[0m\u001b[0;34m.\u001b[0m\u001b[0mGeV\u001b[0m\u001b[0;34m,\u001b[0m\u001b[0mice_distance\u001b[0m\u001b[0;34m)\u001b[0m\u001b[0;34m)\u001b[0m\u001b[0;34m,\u001b[0m\u001b[0;34m\u001b[0m\u001b[0m\n\u001b[0m\u001b[1;32m     52\u001b[0m                                          \u001b[0mEnuMin\u001b[0m\u001b[0;34m,\u001b[0m\u001b[0mEnuMax\u001b[0m\u001b[0;34m,\u001b[0m\u001b[0;34m\u001b[0m\u001b[0m\n\u001b[1;32m     53\u001b[0m                                          \u001b[0;32mlambda\u001b[0m \u001b[0mEnu\u001b[0m\u001b[0;34m:\u001b[0m \u001b[0mnp\u001b[0m\u001b[0;34m.\u001b[0m\u001b[0mmax\u001b[0m\u001b[0;34m(\u001b[0m\u001b[0;34m[\u001b[0m\u001b[0mEnu\u001b[0m\u001b[0;34m,\u001b[0m\u001b[0mEpMin\u001b[0m\u001b[0;34m]\u001b[0m\u001b[0;34m)\u001b[0m\u001b[0;34m,\u001b[0m \u001b[0;32mlambda\u001b[0m \u001b[0mEnu\u001b[0m\u001b[0;34m:\u001b[0m \u001b[0mEpMax\u001b[0m\u001b[0;34m\u001b[0m\u001b[0m\n",
      "\u001b[0;32m/Users/carguelles/Library/Python/2.7/lib/python/site-packages/scipy/interpolate/polyint.pyc\u001b[0m in \u001b[0;36m__call__\u001b[0;34m(self, x)\u001b[0m\n\u001b[1;32m     76\u001b[0m \u001b[0;34m\u001b[0m\u001b[0m\n\u001b[1;32m     77\u001b[0m         \"\"\"\n\u001b[0;32m---> 78\u001b[0;31m         \u001b[0mx\u001b[0m\u001b[0;34m,\u001b[0m \u001b[0mx_shape\u001b[0m \u001b[0;34m=\u001b[0m \u001b[0mself\u001b[0m\u001b[0;34m.\u001b[0m\u001b[0m_prepare_x\u001b[0m\u001b[0;34m(\u001b[0m\u001b[0mx\u001b[0m\u001b[0;34m)\u001b[0m\u001b[0;34m\u001b[0m\u001b[0m\n\u001b[0m\u001b[1;32m     79\u001b[0m         \u001b[0my\u001b[0m \u001b[0;34m=\u001b[0m \u001b[0mself\u001b[0m\u001b[0;34m.\u001b[0m\u001b[0m_evaluate\u001b[0m\u001b[0;34m(\u001b[0m\u001b[0mx\u001b[0m\u001b[0;34m)\u001b[0m\u001b[0;34m\u001b[0m\u001b[0m\n\u001b[1;32m     80\u001b[0m         \u001b[0;32mreturn\u001b[0m \u001b[0mself\u001b[0m\u001b[0;34m.\u001b[0m\u001b[0m_finish_y\u001b[0m\u001b[0;34m(\u001b[0m\u001b[0my\u001b[0m\u001b[0;34m,\u001b[0m \u001b[0mx_shape\u001b[0m\u001b[0;34m)\u001b[0m\u001b[0;34m\u001b[0m\u001b[0m\n",
      "\u001b[0;32m/Users/carguelles/Library/Python/2.7/lib/python/site-packages/scipy/interpolate/polyint.pyc\u001b[0m in \u001b[0;36m_prepare_x\u001b[0;34m(self, x)\u001b[0m\n\u001b[1;32m     88\u001b[0m     \u001b[0;32mdef\u001b[0m \u001b[0m_prepare_x\u001b[0m\u001b[0;34m(\u001b[0m\u001b[0mself\u001b[0m\u001b[0;34m,\u001b[0m \u001b[0mx\u001b[0m\u001b[0;34m)\u001b[0m\u001b[0;34m:\u001b[0m\u001b[0;34m\u001b[0m\u001b[0m\n\u001b[1;32m     89\u001b[0m         \u001b[0;34m\"\"\"Reshape input x array to 1-D\"\"\"\u001b[0m\u001b[0;34m\u001b[0m\u001b[0m\n\u001b[0;32m---> 90\u001b[0;31m         \u001b[0mx\u001b[0m \u001b[0;34m=\u001b[0m \u001b[0m_asarray_validated\u001b[0m\u001b[0;34m(\u001b[0m\u001b[0mx\u001b[0m\u001b[0;34m,\u001b[0m \u001b[0mcheck_finite\u001b[0m\u001b[0;34m=\u001b[0m\u001b[0mFalse\u001b[0m\u001b[0;34m,\u001b[0m \u001b[0mas_inexact\u001b[0m\u001b[0;34m=\u001b[0m\u001b[0mTrue\u001b[0m\u001b[0;34m)\u001b[0m\u001b[0;34m\u001b[0m\u001b[0m\n\u001b[0m\u001b[1;32m     91\u001b[0m         \u001b[0mx_shape\u001b[0m \u001b[0;34m=\u001b[0m \u001b[0mx\u001b[0m\u001b[0;34m.\u001b[0m\u001b[0mshape\u001b[0m\u001b[0;34m\u001b[0m\u001b[0m\n\u001b[1;32m     92\u001b[0m         \u001b[0;32mreturn\u001b[0m \u001b[0mx\u001b[0m\u001b[0;34m.\u001b[0m\u001b[0mravel\u001b[0m\u001b[0;34m(\u001b[0m\u001b[0;34m)\u001b[0m\u001b[0;34m,\u001b[0m \u001b[0mx_shape\u001b[0m\u001b[0;34m\u001b[0m\u001b[0m\n",
      "\u001b[0;32m/Users/carguelles/Library/Python/2.7/lib/python/site-packages/scipy/_lib/_util.pyc\u001b[0m in \u001b[0;36m_asarray_validated\u001b[0;34m(a, check_finite, sparse_ok, objects_ok, mask_ok, as_inexact)\u001b[0m\n\u001b[1;32m    233\u001b[0m             \u001b[0;32mraise\u001b[0m \u001b[0mValueError\u001b[0m\u001b[0;34m(\u001b[0m\u001b[0mmsg\u001b[0m\u001b[0;34m)\u001b[0m\u001b[0;34m\u001b[0m\u001b[0m\n\u001b[1;32m    234\u001b[0m     \u001b[0;32mif\u001b[0m \u001b[0;32mnot\u001b[0m \u001b[0mmask_ok\u001b[0m\u001b[0;34m:\u001b[0m\u001b[0;34m\u001b[0m\u001b[0m\n\u001b[0;32m--> 235\u001b[0;31m         \u001b[0;32mif\u001b[0m \u001b[0mnp\u001b[0m\u001b[0;34m.\u001b[0m\u001b[0mma\u001b[0m\u001b[0;34m.\u001b[0m\u001b[0misMaskedArray\u001b[0m\u001b[0;34m(\u001b[0m\u001b[0ma\u001b[0m\u001b[0;34m)\u001b[0m\u001b[0;34m:\u001b[0m\u001b[0;34m\u001b[0m\u001b[0m\n\u001b[0m\u001b[1;32m    236\u001b[0m             \u001b[0;32mraise\u001b[0m \u001b[0mValueError\u001b[0m\u001b[0;34m(\u001b[0m\u001b[0;34m'masked arrays are not supported'\u001b[0m\u001b[0;34m)\u001b[0m\u001b[0;34m\u001b[0m\u001b[0m\n\u001b[1;32m    237\u001b[0m     \u001b[0mtoarray\u001b[0m \u001b[0;34m=\u001b[0m \u001b[0mnp\u001b[0m\u001b[0;34m.\u001b[0m\u001b[0masarray_chkfinite\u001b[0m \u001b[0;32mif\u001b[0m \u001b[0mcheck_finite\u001b[0m \u001b[0;32melse\u001b[0m \u001b[0mnp\u001b[0m\u001b[0;34m.\u001b[0m\u001b[0masarray\u001b[0m\u001b[0;34m\u001b[0m\u001b[0m\n",
      "\u001b[0;31mKeyboardInterrupt\u001b[0m: "
     ]
    },
    {
     "data": {
      "text/plain": [
       "<matplotlib.figure.Figure at 0x120d26990>"
      ]
     },
     "metadata": {},
     "output_type": "display_data"
    }
   ],
   "source": [
    "plt.figure(figsize=(6,5))\n",
    "\n",
    "plt.plot(caca.mceq_run.e_grid,GetPassingFraction(1.0), label = r\"$\\cos\\theta=1$\", color = \"red\")\n",
    "plt.plot(caca.mceq_run.e_grid,GetPassingFraction(0.4), label = r\"$\\cos\\theta=0.4$\", color = \"green\")\n",
    "plt.plot(caca.mceq_run.e_grid,GetPassingFraction(0.2), label = r\"$\\cos\\theta=0.2$\", color = \"blue\")\n",
    "\n",
    "plt.plot(caca.mceq_run.e_grid,\n",
    "         [selfveto.correlated_passing_rate(enu,selfveto.minimum_muon_energy(selfveto.overburden(1.)),1.)\n",
    "          for enu in e_grid], ls = \"dashed\", color = \"red\")\n",
    "plt.plot(caca.mceq_run.e_grid,\n",
    "         [selfveto.correlated_passing_rate(enu,selfveto.minimum_muon_energy(selfveto.overburden(0.4)),0.4)\n",
    "          for enu in e_grid], ls = \"dashed\", color = \"green\")\n",
    "plt.plot(caca.mceq_run.e_grid,\n",
    "         [selfveto.correlated_passing_rate(enu,selfveto.minimum_muon_energy(selfveto.overburden(0.2)),0.2)\n",
    "          for enu in e_grid], ls = \"dashed\", color = \"blue\")\n",
    "\n",
    "plt.semilogx()\n",
    "plt.ylim(0.,1.)\n",
    "plt.legend(loc=\"upper right\", fontsize=14)\n",
    "plt.xlabel(r\"$E_\\nu/{\\rm GeV}$\")\n",
    "plt.ylabel(r\"${\\rm Passing\\ Fraction}$\")\n",
    "#plt.xlim(1e1,1e7)\n",
    "         \n",
    "#plt.plot(caca.mceq_run.e_grid,np.ones(len(caca.mceq_run.e_grid))/2.,\"*\")"
   ]
  },
  {
   "cell_type": "code",
   "execution_count": null,
   "metadata": {
    "collapsed": true
   },
   "outputs": [],
   "source": []
  }
 ],
 "metadata": {
  "kernelspec": {
   "display_name": "Python 2",
   "language": "python",
   "name": "python2"
  },
  "language_info": {
   "codemirror_mode": {
    "name": "ipython",
    "version": 2
   },
   "file_extension": ".py",
   "mimetype": "text/x-python",
   "name": "python",
   "nbconvert_exporter": "python",
   "pygments_lexer": "ipython2",
   "version": "2.7.10"
  }
 },
 "nbformat": 4,
 "nbformat_minor": 2
}
